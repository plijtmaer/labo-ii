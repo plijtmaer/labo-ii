{
 "cells": [
  {
   "cell_type": "markdown",
   "id": "b3678d86-c628-4fa4-9372-056cb7d8a622",
   "metadata": {},
   "source": [
    "# Carga de datos"
   ]
  },
  {
   "cell_type": "code",
   "execution_count": 1,
   "id": "710317f4-eb62-43c9-91ec-5a4541584a3b",
   "metadata": {},
   "outputs": [
    {
     "name": "stderr",
     "output_type": "stream",
     "text": [
      "/Users/paul/anaconda3/envs/ldi2/lib/python3.12/site-packages/tqdm/auto.py:21: TqdmWarning: IProgress not found. Please update jupyter and ipywidgets. See https://ipywidgets.readthedocs.io/en/stable/user_install.html\n",
      "  from .autonotebook import tqdm as notebook_tqdm\n"
     ]
    }
   ],
   "source": [
    "import pandas as pd\n",
    "import numpy as np\n",
    "import matplotlib.pyplot as plt\n",
    "import seaborn as sns\n",
    "%matplotlib inline\n",
    "from sklearn.model_selection import train_test_split\n",
    "from sklearn.ensemble import RandomForestClassifier\n",
    "from xgboost import XGBClassifier\n",
    "from sklearn.metrics import confusion_matrix, cohen_kappa_score\n",
    "from sklearn.preprocessing import StandardScaler\n",
    "import optuna\n",
    "from optuna.artifacts import FileSystemArtifactStore, upload_artifact\n",
    "from lightgbm import LGBMClassifier\n",
    "import os\n",
    "import shutil\n",
    "import time\n",
    "import copy\n",
    "import datetime\n",
    "from tqdm import tqdm\n",
    "import torch\n",
    "import torchvision.models as models\n",
    "import torch.nn as nn\n",
    "import torch.optim as optim\n",
    "from torchvision import datasets, transforms\n",
    "from torch.autograd import Variable\n",
    "import torch.nn.functional as F\n",
    "from joblib import load, dump\n",
    "from utils import plot_confusion_matrix\n",
    "from scipy.stats import mode"
   ]
  },
  {
   "cell_type": "code",
   "execution_count": 194,
   "id": "46ac5abe-857e-4160-b993-aaef8f56660f",
   "metadata": {},
   "outputs": [],
   "source": [
    "resnet_train = pd.read_csv('resnet_datos_entrenamiento.csv')\n",
    "resnet_pred = pd.read_csv('predicciones_val.csv')"
   ]
  },
  {
   "cell_type": "code",
   "execution_count": 195,
   "id": "2358bf39-4ebc-433c-ac07-a80174974201",
   "metadata": {},
   "outputs": [
    {
     "data": {
      "text/plain": [
       "(2935, 6)"
      ]
     },
     "execution_count": 195,
     "metadata": {},
     "output_type": "execute_result"
    }
   ],
   "source": [
    "resnet_pred.shape"
   ]
  },
  {
   "cell_type": "code",
   "execution_count": 196,
   "id": "c452a413-5e93-48b9-a638-97983b0d84ab",
   "metadata": {},
   "outputs": [],
   "source": [
    "text_train = pd.read_csv('predictions_desc_train.csv')\n",
    "text_pred = pd.read_csv('predictions_desc_test.csv')"
   ]
  },
  {
   "cell_type": "code",
   "execution_count": 197,
   "id": "e83ef23f-1332-4d73-928c-5cf4005981b4",
   "metadata": {},
   "outputs": [
    {
     "data": {
      "text/plain": [
       "(2999, 3)"
      ]
     },
     "execution_count": 197,
     "metadata": {},
     "output_type": "execute_result"
    }
   ],
   "source": [
    "text_pred.shape"
   ]
  },
  {
   "cell_type": "code",
   "execution_count": 198,
   "id": "ce620b18-ca06-45ef-8aea-3345d4cd84ca",
   "metadata": {},
   "outputs": [],
   "source": [
    "#resnet_pred = pd.read_csv('resnet_preds_final.csv')"
   ]
  },
  {
   "cell_type": "code",
   "execution_count": 199,
   "id": "4431f0f4-6ed9-47f3-8637-8610127cb714",
   "metadata": {},
   "outputs": [],
   "source": [
    "#text = pd.read_csv('predictions_desc.csv')"
   ]
  },
  {
   "cell_type": "code",
   "execution_count": 200,
   "id": "87772b3c-a2a6-47d7-b690-a78d999430c9",
   "metadata": {},
   "outputs": [],
   "source": [
    "df = pd.read_csv('df_refinado.csv').drop(columns=['resnet_pred', 'Prob_text', 'Pred_text'])"
   ]
  },
  {
   "cell_type": "code",
   "execution_count": 201,
   "id": "2c877dc9-58c3-401e-a5ee-2c7eb16145e4",
   "metadata": {},
   "outputs": [],
   "source": [
    "df_train, df_test = train_test_split(df, random_state=7, test_size=0.2, stratify=df['AdoptionSpeed'])"
   ]
  },
  {
   "cell_type": "code",
   "execution_count": 202,
   "id": "0f1e4324-a350-4624-8924-94ce4600bc68",
   "metadata": {},
   "outputs": [
    {
     "data": {
      "text/html": [
       "<div>\n",
       "<style scoped>\n",
       "    .dataframe tbody tr th:only-of-type {\n",
       "        vertical-align: middle;\n",
       "    }\n",
       "\n",
       "    .dataframe tbody tr th {\n",
       "        vertical-align: top;\n",
       "    }\n",
       "\n",
       "    .dataframe thead th {\n",
       "        text-align: right;\n",
       "    }\n",
       "</style>\n",
       "<table border=\"1\" class=\"dataframe\">\n",
       "  <thead>\n",
       "    <tr style=\"text-align: right;\">\n",
       "      <th></th>\n",
       "      <th>Type</th>\n",
       "      <th>Name</th>\n",
       "      <th>Age</th>\n",
       "      <th>Breed1</th>\n",
       "      <th>Breed2</th>\n",
       "      <th>Gender</th>\n",
       "      <th>Color1</th>\n",
       "      <th>Color2</th>\n",
       "      <th>Color3</th>\n",
       "      <th>MaturitySize</th>\n",
       "      <th>...</th>\n",
       "      <th>Dewormed_Bin</th>\n",
       "      <th>Sterilized_Bin</th>\n",
       "      <th>HealthScore</th>\n",
       "      <th>Sentiment_Negativo</th>\n",
       "      <th>Sentiment_Neutro</th>\n",
       "      <th>Sentiment_Positivo</th>\n",
       "      <th>RescuerGroup</th>\n",
       "      <th>ID</th>\n",
       "      <th>Probabilities</th>\n",
       "      <th>Prediction</th>\n",
       "    </tr>\n",
       "  </thead>\n",
       "  <tbody>\n",
       "    <tr>\n",
       "      <th>0</th>\n",
       "      <td>2</td>\n",
       "      <td>Brownie</td>\n",
       "      <td>1</td>\n",
       "      <td>265</td>\n",
       "      <td>0</td>\n",
       "      <td>1</td>\n",
       "      <td>1</td>\n",
       "      <td>2</td>\n",
       "      <td>7</td>\n",
       "      <td>2</td>\n",
       "      <td>...</td>\n",
       "      <td>0</td>\n",
       "      <td>1</td>\n",
       "      <td>1</td>\n",
       "      <td>False</td>\n",
       "      <td>False</td>\n",
       "      <td>True</td>\n",
       "      <td>1</td>\n",
       "      <td>5c110b9d2</td>\n",
       "      <td>[0.00469014 0.05030612 0.50046724 0.41639575 0...</td>\n",
       "      <td>2</td>\n",
       "    </tr>\n",
       "    <tr>\n",
       "      <th>1</th>\n",
       "      <td>1</td>\n",
       "      <td>Molly &amp; dolly</td>\n",
       "      <td>48</td>\n",
       "      <td>307</td>\n",
       "      <td>307</td>\n",
       "      <td>2</td>\n",
       "      <td>2</td>\n",
       "      <td>7</td>\n",
       "      <td>0</td>\n",
       "      <td>2</td>\n",
       "      <td>...</td>\n",
       "      <td>0</td>\n",
       "      <td>1</td>\n",
       "      <td>1</td>\n",
       "      <td>False</td>\n",
       "      <td>False</td>\n",
       "      <td>True</td>\n",
       "      <td>1</td>\n",
       "      <td>8cd1d06ab</td>\n",
       "      <td>[0.00131765 0.00614847 0.01377026 0.01018812 0...</td>\n",
       "      <td>4</td>\n",
       "    </tr>\n",
       "    <tr>\n",
       "      <th>2</th>\n",
       "      <td>1</td>\n",
       "      <td>Sasha</td>\n",
       "      <td>2</td>\n",
       "      <td>307</td>\n",
       "      <td>0</td>\n",
       "      <td>2</td>\n",
       "      <td>1</td>\n",
       "      <td>2</td>\n",
       "      <td>0</td>\n",
       "      <td>2</td>\n",
       "      <td>...</td>\n",
       "      <td>0</td>\n",
       "      <td>0</td>\n",
       "      <td>0</td>\n",
       "      <td>False</td>\n",
       "      <td>False</td>\n",
       "      <td>True</td>\n",
       "      <td>4</td>\n",
       "      <td>a700a780b</td>\n",
       "      <td>[0.00236614 0.07325836 0.82948875 0.09341414 0...</td>\n",
       "      <td>2</td>\n",
       "    </tr>\n",
       "  </tbody>\n",
       "</table>\n",
       "<p>3 rows × 52 columns</p>\n",
       "</div>"
      ],
      "text/plain": [
       "   Type           Name  Age  Breed1  Breed2  Gender  Color1  Color2  Color3  \\\n",
       "0     2        Brownie    1     265       0       1       1       2       7   \n",
       "1     1  Molly & dolly   48     307     307       2       2       7       0   \n",
       "2     1          Sasha    2     307       0       2       1       2       0   \n",
       "\n",
       "   MaturitySize  ...  Dewormed_Bin  Sterilized_Bin  HealthScore  \\\n",
       "0             2  ...             0               1            1   \n",
       "1             2  ...             0               1            1   \n",
       "2             2  ...             0               0            0   \n",
       "\n",
       "   Sentiment_Negativo  Sentiment_Neutro  Sentiment_Positivo  RescuerGroup  \\\n",
       "0               False             False                True             1   \n",
       "1               False             False                True             1   \n",
       "2               False             False                True             4   \n",
       "\n",
       "          ID                                      Probabilities  Prediction  \n",
       "0  5c110b9d2  [0.00469014 0.05030612 0.50046724 0.41639575 0...           2  \n",
       "1  8cd1d06ab  [0.00131765 0.00614847 0.01377026 0.01018812 0...           4  \n",
       "2  a700a780b  [0.00236614 0.07325836 0.82948875 0.09341414 0...           2  \n",
       "\n",
       "[3 rows x 52 columns]"
      ]
     },
     "execution_count": 202,
     "metadata": {},
     "output_type": "execute_result"
    }
   ],
   "source": [
    "df_gen = pd.merge(df_train, text_train, left_on='PetID', right_on='ID', how='inner')\n",
    "df_gen.head(3)"
   ]
  },
  {
   "cell_type": "code",
   "execution_count": 205,
   "id": "c10bd282-6471-47ae-aa21-8798c34f7e57",
   "metadata": {},
   "outputs": [
    {
     "data": {
      "text/plain": [
       "Index(['Type', 'Name', 'Age', 'Breed1', 'Breed2', 'Gender', 'Color1', 'Color2',\n",
       "       'Color3', 'MaturitySize', 'FurLength', 'Vaccinated', 'Dewormed',\n",
       "       'Sterilized', 'Health', 'Quantity', 'Fee', 'State', 'RescuerID',\n",
       "       'VideoAmt', 'Description', 'PetID', 'PhotoAmt', 'AdoptionSpeed',\n",
       "       'HasName', 'MixedRace', 'QuantityGroups', 'Free', 'FeeRange',\n",
       "       'HasDescription', 'HasPhoto', 'StateName', 'StateName_clean', 'income',\n",
       "       'population', 'population_percentage', 'Breed1_Grouped',\n",
       "       'Breed2_Grouped', 'MultiColor', 'Black', 'AgeYear', 'Vaccinated_Bin',\n",
       "       'Dewormed_Bin', 'Sterilized_Bin', 'HealthScore', 'Sentiment_Negativo',\n",
       "       'Sentiment_Neutro', 'Sentiment_Positivo', 'RescuerGroup', 'ID',\n",
       "       'Text_prob', 'Text_pred'],\n",
       "      dtype='object')"
      ]
     },
     "execution_count": 205,
     "metadata": {},
     "output_type": "execute_result"
    }
   ],
   "source": [
    "df_gen = df_gen.rename(columns={'Probabilities': 'Text_prob', 'Prediction': 'Text_pred'})\n",
    "df_gen.columns"
   ]
  },
  {
   "cell_type": "code",
   "execution_count": 206,
   "id": "df5c5dca-e840-4ab2-ae1e-b2b9d256b047",
   "metadata": {},
   "outputs": [
    {
     "data": {
      "text/html": [
       "<div>\n",
       "<style scoped>\n",
       "    .dataframe tbody tr th:only-of-type {\n",
       "        vertical-align: middle;\n",
       "    }\n",
       "\n",
       "    .dataframe tbody tr th {\n",
       "        vertical-align: top;\n",
       "    }\n",
       "\n",
       "    .dataframe thead th {\n",
       "        text-align: right;\n",
       "    }\n",
       "</style>\n",
       "<table border=\"1\" class=\"dataframe\">\n",
       "  <thead>\n",
       "    <tr style=\"text-align: right;\">\n",
       "      <th></th>\n",
       "      <th>Type</th>\n",
       "      <th>Name</th>\n",
       "      <th>Age</th>\n",
       "      <th>Breed1</th>\n",
       "      <th>Breed2</th>\n",
       "      <th>Gender</th>\n",
       "      <th>Color1</th>\n",
       "      <th>Color2</th>\n",
       "      <th>Color3</th>\n",
       "      <th>MaturitySize</th>\n",
       "      <th>...</th>\n",
       "      <th>Dewormed_Bin</th>\n",
       "      <th>Sterilized_Bin</th>\n",
       "      <th>HealthScore</th>\n",
       "      <th>Sentiment_Negativo</th>\n",
       "      <th>Sentiment_Neutro</th>\n",
       "      <th>Sentiment_Positivo</th>\n",
       "      <th>RescuerGroup</th>\n",
       "      <th>ID</th>\n",
       "      <th>Probabilities</th>\n",
       "      <th>Prediction</th>\n",
       "    </tr>\n",
       "  </thead>\n",
       "  <tbody>\n",
       "    <tr>\n",
       "      <th>0</th>\n",
       "      <td>2</td>\n",
       "      <td>Oreo</td>\n",
       "      <td>3</td>\n",
       "      <td>266</td>\n",
       "      <td>0</td>\n",
       "      <td>1</td>\n",
       "      <td>1</td>\n",
       "      <td>7</td>\n",
       "      <td>0</td>\n",
       "      <td>2</td>\n",
       "      <td>...</td>\n",
       "      <td>1</td>\n",
       "      <td>0</td>\n",
       "      <td>1</td>\n",
       "      <td>False</td>\n",
       "      <td>False</td>\n",
       "      <td>True</td>\n",
       "      <td>3</td>\n",
       "      <td>e46744bb9</td>\n",
       "      <td>[0.00975405 0.58259273 0.31584060 0.08191197 0...</td>\n",
       "      <td>1</td>\n",
       "    </tr>\n",
       "    <tr>\n",
       "      <th>1</th>\n",
       "      <td>2</td>\n",
       "      <td>Husky</td>\n",
       "      <td>2</td>\n",
       "      <td>266</td>\n",
       "      <td>0</td>\n",
       "      <td>1</td>\n",
       "      <td>1</td>\n",
       "      <td>7</td>\n",
       "      <td>0</td>\n",
       "      <td>1</td>\n",
       "      <td>...</td>\n",
       "      <td>0</td>\n",
       "      <td>0</td>\n",
       "      <td>0</td>\n",
       "      <td>False</td>\n",
       "      <td>False</td>\n",
       "      <td>True</td>\n",
       "      <td>2</td>\n",
       "      <td>de12dc945</td>\n",
       "      <td>[0.00119368 0.04356433 0.53542107 0.41577843 0...</td>\n",
       "      <td>2</td>\n",
       "    </tr>\n",
       "    <tr>\n",
       "      <th>2</th>\n",
       "      <td>1</td>\n",
       "      <td>Phoebe</td>\n",
       "      <td>48</td>\n",
       "      <td>205</td>\n",
       "      <td>0</td>\n",
       "      <td>2</td>\n",
       "      <td>2</td>\n",
       "      <td>7</td>\n",
       "      <td>0</td>\n",
       "      <td>1</td>\n",
       "      <td>...</td>\n",
       "      <td>1</td>\n",
       "      <td>1</td>\n",
       "      <td>3</td>\n",
       "      <td>False</td>\n",
       "      <td>False</td>\n",
       "      <td>True</td>\n",
       "      <td>3</td>\n",
       "      <td>cf78e66fd</td>\n",
       "      <td>[0.00103862 0.01274959 0.21784711 0.75383699 0...</td>\n",
       "      <td>3</td>\n",
       "    </tr>\n",
       "  </tbody>\n",
       "</table>\n",
       "<p>3 rows × 52 columns</p>\n",
       "</div>"
      ],
      "text/plain": [
       "   Type    Name  Age  Breed1  Breed2  Gender  Color1  Color2  Color3  \\\n",
       "0     2    Oreo    3     266       0       1       1       7       0   \n",
       "1     2   Husky    2     266       0       1       1       7       0   \n",
       "2     1  Phoebe   48     205       0       2       2       7       0   \n",
       "\n",
       "   MaturitySize  ...  Dewormed_Bin  Sterilized_Bin  HealthScore  \\\n",
       "0             2  ...             1               0            1   \n",
       "1             1  ...             0               0            0   \n",
       "2             1  ...             1               1            3   \n",
       "\n",
       "   Sentiment_Negativo  Sentiment_Neutro  Sentiment_Positivo  RescuerGroup  \\\n",
       "0               False             False                True             3   \n",
       "1               False             False                True             2   \n",
       "2               False             False                True             3   \n",
       "\n",
       "          ID                                      Probabilities  Prediction  \n",
       "0  e46744bb9  [0.00975405 0.58259273 0.31584060 0.08191197 0...           1  \n",
       "1  de12dc945  [0.00119368 0.04356433 0.53542107 0.41577843 0...           2  \n",
       "2  cf78e66fd  [0.00103862 0.01274959 0.21784711 0.75383699 0...           3  \n",
       "\n",
       "[3 rows x 52 columns]"
      ]
     },
     "execution_count": 206,
     "metadata": {},
     "output_type": "execute_result"
    }
   ],
   "source": [
    "df_test_gen = pd.merge(df_test, text_pred, left_on='PetID', right_on='ID', how='inner')\n",
    "df_test_gen.head(3)"
   ]
  },
  {
   "cell_type": "code",
   "execution_count": 207,
   "id": "5a571db7-3290-4919-988b-4b030214ba81",
   "metadata": {},
   "outputs": [
    {
     "data": {
      "text/plain": [
       "Index(['Type', 'Name', 'Age', 'Breed1', 'Breed2', 'Gender', 'Color1', 'Color2',\n",
       "       'Color3', 'MaturitySize', 'FurLength', 'Vaccinated', 'Dewormed',\n",
       "       'Sterilized', 'Health', 'Quantity', 'Fee', 'State', 'RescuerID',\n",
       "       'VideoAmt', 'Description', 'PetID', 'PhotoAmt', 'AdoptionSpeed',\n",
       "       'HasName', 'MixedRace', 'QuantityGroups', 'Free', 'FeeRange',\n",
       "       'HasDescription', 'HasPhoto', 'StateName', 'StateName_clean', 'income',\n",
       "       'population', 'population_percentage', 'Breed1_Grouped',\n",
       "       'Breed2_Grouped', 'MultiColor', 'Black', 'AgeYear', 'Vaccinated_Bin',\n",
       "       'Dewormed_Bin', 'Sterilized_Bin', 'HealthScore', 'Sentiment_Negativo',\n",
       "       'Sentiment_Neutro', 'Sentiment_Positivo', 'RescuerGroup', 'ID',\n",
       "       'Text_prob', 'Text_pred'],\n",
       "      dtype='object')"
      ]
     },
     "execution_count": 207,
     "metadata": {},
     "output_type": "execute_result"
    }
   ],
   "source": [
    "df_test_gen = df_test_gen.rename(columns={'Probabilities': 'Text_prob', 'Prediction': 'Text_pred'})\n",
    "df_test_gen.columns"
   ]
  },
  {
   "cell_type": "code",
   "execution_count": null,
   "id": "3b0dc25f-361d-4f8b-8587-e72bd983b5d5",
   "metadata": {},
   "outputs": [],
   "source": [
    "if 1 in 'Color1':\n",
    "    'Color2' = 0, 'Color3' = 0\n",
    "elif "
   ]
  },
  {
   "cell_type": "code",
   "execution_count": 245,
   "id": "395dbae8-641b-447b-a9c9-7b9b62b9af6c",
   "metadata": {},
   "outputs": [
    {
     "data": {
      "text/plain": [
       "Color1\n",
       "1    5893\n",
       "2    2997\n",
       "3     767\n",
       "5     720\n",
       "6     573\n",
       "7     536\n",
       "4     508\n",
       "Name: count, dtype: int64"
      ]
     },
     "execution_count": 245,
     "metadata": {},
     "output_type": "execute_result"
    }
   ],
   "source": [
    "df_one_hot_dim['Color1'].value_counts()"
   ]
  },
  {
   "cell_type": "code",
   "execution_count": 246,
   "id": "53e35632",
   "metadata": {},
   "outputs": [
    {
     "data": {
      "text/plain": [
       "Color2\n",
       "0    3623\n",
       "7    2725\n",
       "2    2624\n",
       "5     895\n",
       "6     851\n",
       "4     700\n",
       "3     576\n",
       "Name: count, dtype: int64"
      ]
     },
     "execution_count": 246,
     "metadata": {},
     "output_type": "execute_result"
    }
   ],
   "source": [
    "df_one_hot_dim['Color2'].value_counts()"
   ]
  },
  {
   "cell_type": "code",
   "execution_count": 247,
   "id": "326c0bc8",
   "metadata": {},
   "outputs": [
    {
     "data": {
      "text/plain": [
       "Color3\n",
       "0    8499\n",
       "7    2562\n",
       "5     337\n",
       "6     304\n",
       "4     154\n",
       "3     138\n",
       "Name: count, dtype: int64"
      ]
     },
     "execution_count": 247,
     "metadata": {},
     "output_type": "execute_result"
    }
   ],
   "source": [
    "df_one_hot_dim['Color3'].value_counts()"
   ]
  },
  {
   "cell_type": "code",
   "execution_count": null,
   "id": "1c38b5ad-7d6b-4bb9-9408-94b7601b006e",
   "metadata": {},
   "outputs": [],
   "source": []
  },
  {
   "cell_type": "code",
   "execution_count": 227,
   "id": "f92187f5-9aa0-4eb9-af91-3b16abf301c0",
   "metadata": {},
   "outputs": [
    {
     "data": {
      "text/plain": [
       "(11994, 62)"
      ]
     },
     "execution_count": 227,
     "metadata": {},
     "output_type": "execute_result"
    }
   ],
   "source": [
    "# Testeo one hot encoding\n",
    "df_one_hot = df_gen.drop(columns=['Name', 'Description', 'RescuerID', 'PetID', 'ID', 'StateName', 'Breed1_Grouped', 'Breed2_Grouped', 'Text_prob'])\n",
    "df_one_hot_dim = pd.get_dummies(df_one_hot, columns=['StateName_clean', 'FeeRange', 'QuantityGroups','Color1', 'Color2', 'Color3'])\n",
    "df_one_hot_dim.shape"
   ]
  },
  {
   "cell_type": "code",
   "execution_count": 215,
   "id": "df59b06f-5624-4cb7-aed3-18c74cdc84d1",
   "metadata": {},
   "outputs": [],
   "source": [
    "# df_gen = df_gen.drop(columns=['Name', 'Description', 'RescuerID', 'Color1', 'Color2', 'Color3', 'StateName', 'StateName_clean', 'FeeRange', 'QuantityGroups', 'Breed1_Grouped', 'Breed2_Grouped', 'Text_prob', 'AgeYear', 'PetID', 'ID'])"
   ]
  },
  {
   "cell_type": "code",
   "execution_count": null,
   "id": "0016ec3f-187f-4113-8559-b91264b70f1b",
   "metadata": {},
   "outputs": [],
   "source": []
  },
  {
   "cell_type": "code",
   "execution_count": 58,
   "id": "3a375bab-8dd0-4b07-b8b1-9b0ea081b86d",
   "metadata": {},
   "outputs": [],
   "source": [
    "df_gen = df_gen.drop(columns=['ID'])"
   ]
  },
  {
   "cell_type": "code",
   "execution_count": 59,
   "id": "a927515c-d7bf-4466-ae02-60ac302d98ff",
   "metadata": {},
   "outputs": [
    {
     "data": {
      "text/plain": [
       "Index(['Type', 'Age', 'Breed1', 'Breed2', 'Gender', 'MaturitySize',\n",
       "       'FurLength', 'Vaccinated', 'Dewormed', 'Sterilized', 'Health',\n",
       "       'Quantity', 'Fee', 'State', 'VideoAmt', 'PhotoAmt', 'AdoptionSpeed',\n",
       "       'HasName', 'MixedRace', 'Free', 'HasDescription', 'HasPhoto', 'income',\n",
       "       'population', 'population_percentage', 'MultiColor', 'Black',\n",
       "       'Vaccinated_Bin', 'Dewormed_Bin', 'Sterilized_Bin', 'HealthScore',\n",
       "       'Sentiment_Negativo', 'Sentiment_Neutro', 'Sentiment_Positivo',\n",
       "       'RescuerGroup', 'Text_pred'],\n",
       "      dtype='object')"
      ]
     },
     "execution_count": 59,
     "metadata": {},
     "output_type": "execute_result"
    }
   ],
   "source": [
    "df_gen.columns"
   ]
  },
  {
   "cell_type": "code",
   "execution_count": 225,
   "id": "d937863e-0fb8-4c0b-9ba7-ba03ad8fea0a",
   "metadata": {},
   "outputs": [
    {
     "data": {
      "text/plain": [
       "Index(['Type', 'Age', 'Breed1', 'Breed2', 'Gender', 'Color1', 'Color2',\n",
       "       'Color3', 'MaturitySize', 'FurLength', 'Vaccinated', 'Dewormed',\n",
       "       'Sterilized', 'Health', 'Quantity', 'Fee', 'State', 'VideoAmt',\n",
       "       'PhotoAmt', 'AdoptionSpeed', 'HasName', 'MixedRace', 'QuantityGroups',\n",
       "       'Free', 'FeeRange', 'HasDescription', 'HasPhoto', 'StateName_clean',\n",
       "       'income', 'population', 'population_percentage', 'MultiColor', 'Black',\n",
       "       'AgeYear', 'Vaccinated_Bin', 'Dewormed_Bin', 'Sterilized_Bin',\n",
       "       'HealthScore', 'Sentiment_Negativo', 'Sentiment_Neutro',\n",
       "       'Sentiment_Positivo', 'RescuerGroup', 'Text_prob', 'Text_pred'],\n",
       "      dtype='object')"
      ]
     },
     "execution_count": 225,
     "metadata": {},
     "output_type": "execute_result"
    }
   ],
   "source": [
    "df_test_one_hot.columns"
   ]
  },
  {
   "cell_type": "code",
   "execution_count": 226,
   "id": "47d56f12-5824-4319-b331-4b5d9dd73630",
   "metadata": {},
   "outputs": [
    {
     "data": {
      "text/plain": [
       "(2999, 62)"
      ]
     },
     "execution_count": 226,
     "metadata": {},
     "output_type": "execute_result"
    }
   ],
   "source": [
    "df_test_one_hot = df_test_gen.drop(columns=['Name', 'Description', 'RescuerID', 'PetID', 'ID', 'StateName', 'Breed1_Grouped', 'Breed2_Grouped', 'Text_prob'])\n",
    "df_test_one_hot_dim = pd.get_dummies(df_test_one_hot, columns=['StateName_clean', 'FeeRange', 'QuantityGroups','Color1', 'Color2', 'Color3'])\n",
    "df_test_one_hot_dim.shape\n",
    "\n",
    "# df_test_gen = df_test_gen.drop(columns=['Name', 'Description', 'RescuerID', 'Color1', 'Color2', 'Color3', 'StateName', 'StateName_clean', 'FeeRange', 'QuantityGroups', 'Breed1_Grouped', 'Breed2_Grouped', 'Text_prob', 'AgeYear', 'PetID', 'ID'])\n",
    "# df_test_gen.head(3)"
   ]
  },
  {
   "cell_type": "code",
   "execution_count": 228,
   "id": "e0879f6c-53ed-4c13-944a-759d2cb1fa20",
   "metadata": {},
   "outputs": [],
   "source": [
    "X_train = df_one_hot_dim.drop(columns='AdoptionSpeed')\n",
    "X_val = df_test_one_hot_dim.drop(columns='AdoptionSpeed')"
   ]
  },
  {
   "cell_type": "code",
   "execution_count": 88,
   "id": "812e8de0",
   "metadata": {},
   "outputs": [],
   "source": [
    "# X_train = df_gen.drop(columns='AdoptionSpeed')\n",
    "# X_val = df_test_gen.drop(columns='AdoptionSpeed')"
   ]
  },
  {
   "cell_type": "code",
   "execution_count": 238,
   "id": "cdcec600-6de4-49c0-a758-b600f2be65b5",
   "metadata": {},
   "outputs": [],
   "source": [
    "X_train_base = X_train.copy()\n",
    "X_val_base = X_val.copy()"
   ]
  },
  {
   "cell_type": "code",
   "execution_count": 91,
   "id": "4069e959-38ec-4777-8a43-a3dba653404b",
   "metadata": {},
   "outputs": [],
   "source": [
    "# scaler = StandardScaler()\n",
    "# X_train_scaled = scaler.fit_transform(X_train)\n",
    "# X_val_scaled = scaler.transform(X_val)"
   ]
  },
  {
   "cell_type": "code",
   "execution_count": 212,
   "id": "f75fe0b9-31f7-4e17-88d7-4b6c606cc373",
   "metadata": {},
   "outputs": [],
   "source": [
    "y_train = df_gen['AdoptionSpeed']\n",
    "y_val = df_test_gen['AdoptionSpeed']"
   ]
  },
  {
   "cell_type": "markdown",
   "id": "00824c55-7645-41e6-a44d-8cd0b246bc9c",
   "metadata": {},
   "source": [
    "# Modelos"
   ]
  },
  {
   "cell_type": "markdown",
   "id": "1ac7b8b9-c888-47cf-a1b6-c7006b917b92",
   "metadata": {},
   "source": [
    "## Predicciones de Resnet y Text como features"
   ]
  },
  {
   "cell_type": "code",
   "execution_count": 92,
   "id": "1994f1a4-103d-42af-af36-a695ab2a1745",
   "metadata": {},
   "outputs": [],
   "source": [
    "def kappa_metric(y_true, y_pred):\n",
    "    return cohen_kappa_score(y_true, y_pred, weights='quadratic')"
   ]
  },
  {
   "cell_type": "code",
   "execution_count": 65,
   "id": "c87bbb37-2304-47e6-aa21-aa6831cdf623",
   "metadata": {},
   "outputs": [],
   "source": [
    "storage = \"sqlite:////Users/paul/Downloads/Documentos Locales/labo-ii/optuna_studies.db\""
   ]
  },
  {
   "cell_type": "code",
   "execution_count": 220,
   "id": "9eb5e246-f021-4e58-a6f5-8f804b732afa",
   "metadata": {
    "scrolled": true
   },
   "outputs": [
    {
     "name": "stdout",
     "output_type": "stream",
     "text": [
      "Type [2 1]\n",
      "Age [  1  48   2  24  17   3   4  84   7   5  12  14   6  36  15  11  10  27\n",
      "   9   8  60  31  65   0  18 108  16  19  30  38  72  21  13  20  29 120\n",
      "  26  96  88  37  22  50  86  23  54  32  28  87  47  56  46  42  25 122\n",
      "  81  35  68 123 132  89 156  53  62  76  61  41  34  80  74  57  78  39\n",
      "  82  49  51  43  55 212  45  64  33  77  95 112  63  52  75  73 180  67\n",
      "  91  40  92 102 100 168  85]\n",
      "Breed1 [265 307 242 266 243 152 292 299 141 205 247 203  20 293  78 109  44 249\n",
      " 254 264 306 285 276 195 240 304 295  60 207 179 187  75 218  69 119  56\n",
      " 231 128 227 262 213 102  50 303 251  26 147 105 289 305 108 178 270 284\n",
      " 103 189  17 111 239 271 283  49 280 185 277 282 288 150 155 173 200  97\n",
      "  31 206 268   7 169 241 300  72  82 117  76 267 250  81  39  18 287 246\n",
      " 212  70 188 269  10 252 274  42  83 272   0 279 296 302 182 129 244 273\n",
      " 122 139 197  23  64 143 201  24  88 217  85 154  15 146 114 190 237  21\n",
      "  93 257  11 199  32 224  65 145 202 297 281  19 263 248  25 132 294 214\n",
      " 253  61   5 290 204 148 301 232 100 125 245 260 130 215 176  16  58 233\n",
      "  71 286   1 123 167 192 234]\n",
      "Breed2 [  0 307 245 266 243 257 285 264 141  78 295 283 103 299 265 187 228  20\n",
      " 247  72 179 218 152 268  44 292  70 109 250 303  75 305 213 169 288 189\n",
      " 248 205 117  26 104 302 119 276 246 155 254 240 128 294 267  39 201 306\n",
      "  76 256 115 284 241 129 212 173 188 192 252  49 249 251  40 300 278 242\n",
      " 289 195   1 190 146  58 200  96 296  69 227 270 167 207  17  21 147 282\n",
      "  16 178 291  50  10 277 176  60  83 274 271 206 293  18 260  24 203   2\n",
      " 111  98 279 272 182 290 150 304 102 202 237 204   4   5  19  36]\n",
      "Gender [1 2 3]\n",
      "Color1 [1 2 5 7 6 4 3]\n",
      "Color2 [2 7 6 0 5 3 4]\n",
      "Color3 [7 0 3 6 5 4]\n",
      "MaturitySize [2 1 3 4]\n",
      "FurLength [2 1 3]\n",
      "Vaccinated [3 2 1]\n",
      "Dewormed [3 2 1]\n",
      "Sterilized [1 2 3]\n",
      "Health [1 2 3]\n",
      "Quantity [ 1  2  4  9  6  5  3 20  8  7 11 12 15 10 17 16 14 13 18]\n",
      "Fee [   0   20  400  150  160  200   30  250   10   50    9  100   80   38\n",
      "  210   70   14  600  300  110    1  500   45  750   99   88 1000   15\n",
      "   40  120  170  270    5  350  180  700    8  550  450   25 3000  499\n",
      "  115   35   90   75  235  330   59  380  108   60  599  299  390  480\n",
      "  188   89  650  155  320 2000    2  385   72   65  125  280  190]\n",
      "State [41401 41330 41327 41326 41336 41332 41324 41325 41367 41335 41345 41361\n",
      " 41342 41415]\n",
      "VideoAmt [0 1 2 3 5 4 8 6 7]\n",
      "PhotoAmt [ 5.  3.  1. 11.  9.  4.  2.  7.  6. 30. 19.  8.  0. 10. 12. 13. 28. 14.\n",
      " 18. 15. 21. 24. 29. 23. 16. 17. 20. 26. 22. 25. 27.]\n",
      "HasName [ True False]\n",
      "MixedRace [1 0]\n",
      "Free [ True False]\n",
      "HasDescription [ True False]\n",
      "HasPhoto [ True False]\n",
      "income [10494  4243  6126  8142  6376  4979  6025  4301  3532  4407  4187  5522\n",
      "  4501  6704]\n",
      "population [1782500 2508800 1768800 6506100 3761200 1126200  928400 2173700 1883800\n",
      " 1671400 3904400 1244500 2806000   99300]\n",
      "population_percentage [ 5.48  7.71  5.44 20.   11.56  3.46  2.85  6.68  5.79  5.14 12.01  3.83\n",
      "  8.63  0.31]\n",
      "Breed1_Grouped ['265' '307' 'Other' '266' '292' '299' '141' '205' '264' '285' '179']\n",
      "Breed2_Grouped ['0' '307' 'Other' '266' '285' '264' '141' '299' '265' '218' '292']\n",
      "MultiColor [1 0]\n",
      "Black [0 1]\n",
      "AgeYear [ 0.08333333  4.          0.16666667  2.          1.41666667  0.25\n",
      "  0.33333333  7.          0.58333333  0.41666667  1.          1.16666667\n",
      "  0.5         3.          1.25        0.91666667  0.83333333  2.25\n",
      "  0.75        0.66666667  5.          2.58333333  5.41666667  0.\n",
      "  1.5         9.          1.33333333  1.58333333  2.5         3.16666667\n",
      "  6.          1.75        1.08333333  1.66666667  2.41666667 10.\n",
      "  2.16666667  8.          7.33333333  3.08333333  1.83333333  4.16666667\n",
      "  7.16666667  1.91666667  4.5         2.66666667  2.33333333  7.25\n",
      "  3.91666667  4.66666667  3.83333333  3.5         2.08333333 10.16666667\n",
      "  6.75        2.91666667  5.66666667 10.25       11.          7.41666667\n",
      " 13.          4.41666667  5.16666667  6.33333333  5.08333333  3.41666667\n",
      "  2.83333333  6.66666667  6.16666667  4.75        6.5         3.25\n",
      "  6.83333333  4.08333333  4.25        3.58333333  4.58333333 17.66666667\n",
      "  3.75        5.33333333  2.75        6.41666667  7.91666667  9.33333333\n",
      "  5.25        4.33333333  6.25        6.08333333 15.          5.58333333\n",
      "  7.58333333  3.33333333  7.66666667  8.5         8.33333333 14.\n",
      "  7.08333333]\n",
      "Vaccinated_Bin [0 1]\n",
      "Dewormed_Bin [0 1]\n",
      "Sterilized_Bin [1 0]\n",
      "HealthScore [1 0 2 3]\n",
      "Sentiment_Negativo [False  True]\n",
      "Sentiment_Neutro [False  True]\n",
      "Sentiment_Positivo [ True False]\n",
      "RescuerGroup [1 4 3 2 5]\n",
      "Text_prob ['[0.00469014 0.05030612 0.50046724 0.41639575 0.02814077]'\n",
      " '[0.00131765 0.00614847 0.01377026 0.01018812 0.96857554]'\n",
      " '[0.00236614 0.07325836 0.82948875 0.09341414 0.00147256]' ...\n",
      " '[0.77469188 0.12259836 0.02504270 0.01844162 0.05922549]'\n",
      " '[0.00629720 0.33988935 0.39216438 0.24201937 0.01962974]'\n",
      " '[0.01266599 0.09258247 0.32840824 0.55113173 0.01521162]']\n",
      "Text_pred [2 4 1 3 0]\n",
      "StateName_clean_Johor [False  True]\n",
      "StateName_clean_Kedah [False  True]\n",
      "StateName_clean_Kelantan [False  True]\n",
      "StateName_clean_Kuala Lumpur [ True False]\n",
      "StateName_clean_Labuan [False  True]\n",
      "StateName_clean_Malacca [False  True]\n",
      "StateName_clean_Negeri Sembilan [False  True]\n",
      "StateName_clean_Pahang [False  True]\n",
      "StateName_clean_Penang [False  True]\n",
      "StateName_clean_Perak [False  True]\n",
      "StateName_clean_Sabah [False  True]\n",
      "StateName_clean_Sarawak [False  True]\n",
      "StateName_clean_Selangor [False  True]\n",
      "StateName_clean_Terengganu [False  True]\n",
      "FeeRange_0-50 [False  True]\n",
      "FeeRange_100-200 [False  True]\n",
      "FeeRange_200-500 [False  True]\n",
      "FeeRange_50-100 [False  True]\n",
      "FeeRange_500+ [False  True]\n",
      "FeeRange_Gratis [ True False]\n",
      "QuantityGroups_1 [ True False]\n",
      "QuantityGroups_>1 [False  True]\n"
     ]
    }
   ],
   "source": [
    "# for col in X_train:\n",
    "#     print(col, X_train[col].unique())"
   ]
  },
  {
   "cell_type": "code",
   "execution_count": 229,
   "id": "5f44e206-4549-4ce4-beba-a419117c97ab",
   "metadata": {},
   "outputs": [
    {
     "name": "stderr",
     "output_type": "stream",
     "text": [
      "[I 2025-05-24 19:41:23,393] Using an existing study with name 'rf_dl_one_hot' instead of creating a new one.\n",
      "[I 2025-05-24 19:41:23,616] Trial 2 finished with value: 0.26194741187043424 and parameters: {'n_estimators': 80, 'max_depth': 5, 'min_samples_split': 9}. Best is trial 2 with value: 0.26194741187043424.\n",
      "[I 2025-05-24 19:41:23,828] Trial 3 finished with value: 0.2612236825923021 and parameters: {'n_estimators': 94, 'max_depth': 10, 'min_samples_split': 2}. Best is trial 2 with value: 0.26194741187043424.\n",
      "[I 2025-05-24 19:41:24,040] Trial 4 finished with value: 0.27099538234180864 and parameters: {'n_estimators': 97, 'max_depth': 8, 'min_samples_split': 5}. Best is trial 4 with value: 0.27099538234180864.\n",
      "[I 2025-05-24 19:41:24,197] Trial 5 finished with value: 0.25415287482051296 and parameters: {'n_estimators': 97, 'max_depth': 3, 'min_samples_split': 8}. Best is trial 4 with value: 0.27099538234180864.\n",
      "[I 2025-05-24 19:41:24,370] Trial 6 finished with value: 0.2680871022097312 and parameters: {'n_estimators': 78, 'max_depth': 10, 'min_samples_split': 5}. Best is trial 4 with value: 0.27099538234180864.\n",
      "[I 2025-05-24 19:41:24,557] Trial 7 finished with value: 0.2532582485042474 and parameters: {'n_estimators': 95, 'max_depth': 3, 'min_samples_split': 10}. Best is trial 4 with value: 0.27099538234180864.\n",
      "[I 2025-05-24 19:41:24,695] Trial 8 finished with value: 0.25834911173634934 and parameters: {'n_estimators': 51, 'max_depth': 6, 'min_samples_split': 4}. Best is trial 4 with value: 0.27099538234180864.\n",
      "[I 2025-05-24 19:41:24,907] Trial 9 finished with value: 0.2552550945270422 and parameters: {'n_estimators': 87, 'max_depth': 8, 'min_samples_split': 9}. Best is trial 4 with value: 0.27099538234180864.\n",
      "[I 2025-05-24 19:41:25,072] Trial 10 finished with value: 0.25978468445658986 and parameters: {'n_estimators': 70, 'max_depth': 5, 'min_samples_split': 6}. Best is trial 4 with value: 0.27099538234180864.\n",
      "[I 2025-05-24 19:41:25,264] Trial 11 finished with value: 0.265745662436641 and parameters: {'n_estimators': 67, 'max_depth': 10, 'min_samples_split': 8}. Best is trial 4 with value: 0.27099538234180864.\n",
      "[I 2025-05-24 19:41:25,435] Trial 12 finished with value: 0.2567126778350547 and parameters: {'n_estimators': 59, 'max_depth': 8, 'min_samples_split': 3}. Best is trial 4 with value: 0.27099538234180864.\n",
      "[I 2025-05-24 19:41:25,686] Trial 13 finished with value: 0.2686336510697408 and parameters: {'n_estimators': 81, 'max_depth': 8, 'min_samples_split': 5}. Best is trial 4 with value: 0.27099538234180864.\n",
      "[I 2025-05-24 19:41:25,887] Trial 14 finished with value: 0.26492375588384653 and parameters: {'n_estimators': 86, 'max_depth': 8, 'min_samples_split': 6}. Best is trial 4 with value: 0.27099538234180864.\n",
      "[I 2025-05-24 19:41:26,111] Trial 15 finished with value: 0.26191426627277914 and parameters: {'n_estimators': 87, 'max_depth': 7, 'min_samples_split': 4}. Best is trial 4 with value: 0.27099538234180864.\n",
      "[I 2025-05-24 19:41:26,375] Trial 16 finished with value: 0.25992993635460215 and parameters: {'n_estimators': 99, 'max_depth': 9, 'min_samples_split': 5}. Best is trial 4 with value: 0.27099538234180864.\n",
      "[I 2025-05-24 19:41:26,550] Trial 17 finished with value: 0.26706118411187796 and parameters: {'n_estimators': 71, 'max_depth': 7, 'min_samples_split': 7}. Best is trial 4 with value: 0.27099538234180864.\n",
      "[I 2025-05-24 19:41:26,745] Trial 18 finished with value: 0.2687589122718824 and parameters: {'n_estimators': 82, 'max_depth': 9, 'min_samples_split': 4}. Best is trial 4 with value: 0.27099538234180864.\n",
      "[I 2025-05-24 19:41:26,985] Trial 19 finished with value: 0.2615415853215821 and parameters: {'n_estimators': 91, 'max_depth': 9, 'min_samples_split': 2}. Best is trial 4 with value: 0.27099538234180864.\n",
      "[I 2025-05-24 19:41:27,162] Trial 20 finished with value: 0.26074764991366317 and parameters: {'n_estimators': 64, 'max_depth': 9, 'min_samples_split': 3}. Best is trial 4 with value: 0.27099538234180864.\n",
      "[I 2025-05-24 19:41:27,340] Trial 21 finished with value: 0.2605899010761835 and parameters: {'n_estimators': 75, 'max_depth': 6, 'min_samples_split': 4}. Best is trial 4 with value: 0.27099538234180864.\n",
      "[I 2025-05-24 19:41:27,603] Trial 22 finished with value: 0.25736903444142634 and parameters: {'n_estimators': 100, 'max_depth': 9, 'min_samples_split': 6}. Best is trial 4 with value: 0.27099538234180864.\n",
      "[I 2025-05-24 19:41:27,842] Trial 23 finished with value: 0.2674003729226222 and parameters: {'n_estimators': 82, 'max_depth': 8, 'min_samples_split': 5}. Best is trial 4 with value: 0.27099538234180864.\n",
      "[I 2025-05-24 19:41:28,042] Trial 24 finished with value: 0.25639537000280554 and parameters: {'n_estimators': 84, 'max_depth': 7, 'min_samples_split': 3}. Best is trial 4 with value: 0.27099538234180864.\n",
      "[I 2025-05-24 19:41:28,225] Trial 25 finished with value: 0.2698244478217676 and parameters: {'n_estimators': 91, 'max_depth': 8, 'min_samples_split': 5}. Best is trial 4 with value: 0.27099538234180864.\n",
      "[I 2025-05-24 19:41:28,474] Trial 26 finished with value: 0.2669190867886728 and parameters: {'n_estimators': 92, 'max_depth': 9, 'min_samples_split': 4}. Best is trial 4 with value: 0.27099538234180864.\n",
      "[I 2025-05-24 19:41:28,684] Trial 27 finished with value: 0.26366844442765636 and parameters: {'n_estimators': 90, 'max_depth': 7, 'min_samples_split': 7}. Best is trial 4 with value: 0.27099538234180864.\n",
      "[I 2025-05-24 19:41:28,932] Trial 28 finished with value: 0.2599534185344149 and parameters: {'n_estimators': 89, 'max_depth': 10, 'min_samples_split': 6}. Best is trial 4 with value: 0.27099538234180864.\n",
      "[I 2025-05-24 19:41:29,114] Trial 29 finished with value: 0.25618873660251873 and parameters: {'n_estimators': 76, 'max_depth': 8, 'min_samples_split': 3}. Best is trial 4 with value: 0.27099538234180864.\n",
      "[I 2025-05-24 19:41:29,332] Trial 30 finished with value: 0.256761435080777 and parameters: {'n_estimators': 95, 'max_depth': 6, 'min_samples_split': 7}. Best is trial 4 with value: 0.27099538234180864.\n",
      "[I 2025-05-24 19:41:29,505] Trial 31 finished with value: 0.27529671825056 and parameters: {'n_estimators': 80, 'max_depth': 4, 'min_samples_split': 5}. Best is trial 31 with value: 0.27529671825056.\n",
      "[I 2025-05-24 19:41:29,704] Trial 32 finished with value: 0.2729842924099458 and parameters: {'n_estimators': 97, 'max_depth': 4, 'min_samples_split': 5}. Best is trial 31 with value: 0.27529671825056.\n",
      "[I 2025-05-24 19:41:29,917] Trial 33 finished with value: 0.2729842924099458 and parameters: {'n_estimators': 97, 'max_depth': 4, 'min_samples_split': 5}. Best is trial 31 with value: 0.27529671825056.\n",
      "[I 2025-05-24 19:41:30,126] Trial 34 finished with value: 0.26888762320474824 and parameters: {'n_estimators': 100, 'max_depth': 4, 'min_samples_split': 5}. Best is trial 31 with value: 0.27529671825056.\n",
      "[I 2025-05-24 19:41:30,321] Trial 35 finished with value: 0.2740608933435984 and parameters: {'n_estimators': 96, 'max_depth': 4, 'min_samples_split': 6}. Best is trial 31 with value: 0.27529671825056.\n",
      "[I 2025-05-24 19:41:30,526] Trial 36 finished with value: 0.27419355186924343 and parameters: {'n_estimators': 95, 'max_depth': 4, 'min_samples_split': 6}. Best is trial 31 with value: 0.27529671825056.\n",
      "[I 2025-05-24 19:41:30,711] Trial 37 finished with value: 0.27167811963142274 and parameters: {'n_estimators': 96, 'max_depth': 4, 'min_samples_split': 7}. Best is trial 31 with value: 0.27529671825056.\n",
      "[I 2025-05-24 19:41:30,918] Trial 38 finished with value: 0.2667492881546797 and parameters: {'n_estimators': 92, 'max_depth': 5, 'min_samples_split': 6}. Best is trial 31 with value: 0.27529671825056.\n",
      "[I 2025-05-24 19:41:31,110] Trial 39 finished with value: 0.25271970072165983 and parameters: {'n_estimators': 94, 'max_depth': 3, 'min_samples_split': 8}. Best is trial 31 with value: 0.27529671825056.\n",
      "[I 2025-05-24 19:41:31,294] Trial 40 finished with value: 0.27204192843099984 and parameters: {'n_estimators': 78, 'max_depth': 4, 'min_samples_split': 6}. Best is trial 31 with value: 0.27529671825056.\n",
      "[I 2025-05-24 19:41:31,429] Trial 41 finished with value: 0.2606222200424799 and parameters: {'n_estimators': 57, 'max_depth': 3, 'min_samples_split': 8}. Best is trial 31 with value: 0.27529671825056.\n",
      "[I 2025-05-24 19:41:31,612] Trial 42 finished with value: 0.26830270690409797 and parameters: {'n_estimators': 97, 'max_depth': 5, 'min_samples_split': 7}. Best is trial 31 with value: 0.27529671825056.\n",
      "[I 2025-05-24 19:41:31,836] Trial 43 finished with value: 0.2727093671137094 and parameters: {'n_estimators': 98, 'max_depth': 4, 'min_samples_split': 5}. Best is trial 31 with value: 0.27529671825056.\n",
      "[I 2025-05-24 19:41:32,047] Trial 44 finished with value: 0.27081120509834544 and parameters: {'n_estimators': 94, 'max_depth': 4, 'min_samples_split': 6}. Best is trial 31 with value: 0.27529671825056.\n",
      "[I 2025-05-24 19:41:32,242] Trial 45 finished with value: 0.25271970072165983 and parameters: {'n_estimators': 94, 'max_depth': 3, 'min_samples_split': 5}. Best is trial 31 with value: 0.27529671825056.\n",
      "[I 2025-05-24 19:41:32,453] Trial 46 finished with value: 0.2737345819424375 and parameters: {'n_estimators': 97, 'max_depth': 5, 'min_samples_split': 4}. Best is trial 31 with value: 0.27529671825056.\n",
      "[I 2025-05-24 19:41:32,644] Trial 47 finished with value: 0.269698563112037 and parameters: {'n_estimators': 85, 'max_depth': 5, 'min_samples_split': 4}. Best is trial 31 with value: 0.27529671825056.\n",
      "[I 2025-05-24 19:41:32,829] Trial 48 finished with value: 0.26754437794636643 and parameters: {'n_estimators': 88, 'max_depth': 5, 'min_samples_split': 10}. Best is trial 31 with value: 0.27529671825056.\n",
      "[I 2025-05-24 19:41:33,018] Trial 49 finished with value: 0.2505112735207232 and parameters: {'n_estimators': 100, 'max_depth': 3, 'min_samples_split': 6}. Best is trial 31 with value: 0.27529671825056.\n",
      "[I 2025-05-24 19:41:33,217] Trial 50 finished with value: 0.27004522443683987 and parameters: {'n_estimators': 93, 'max_depth': 5, 'min_samples_split': 4}. Best is trial 31 with value: 0.27529671825056.\n",
      "[I 2025-05-24 19:41:33,376] Trial 51 finished with value: 0.27251440428377915 and parameters: {'n_estimators': 72, 'max_depth': 4, 'min_samples_split': 2}. Best is trial 31 with value: 0.27529671825056.\n"
     ]
    }
   ],
   "source": [
    "def objective_rf(trial):\n",
    "    params = {\n",
    "        \"n_estimators\": trial.suggest_int(\"n_estimators\", 50, 100),\n",
    "        \"max_depth\": trial.suggest_int(\"max_depth\", 3, 10),\n",
    "        \"min_samples_split\": trial.suggest_int(\"min_samples_split\", 2, 10),\n",
    "    }\n",
    "    model = RandomForestClassifier(**params, random_state=7, n_jobs=-1)\n",
    "    model.fit(X_train, y_train)\n",
    "    preds = model.predict(X_val)\n",
    "    return kappa_metric(y_val, preds)\n",
    "\n",
    "study_rf = optuna.create_study(\n",
    "    direction=\"maximize\",\n",
    "    study_name=\"rf_dl_one_hot\",\n",
    "    storage=storage,\n",
    "    load_if_exists=True\n",
    ")\n",
    "study_rf.optimize(objective_rf, n_trials=50)\n",
    "\n",
    "model_rf = RandomForestClassifier(**study_rf.best_params, random_state=7, n_jobs=-1)\n",
    "model_rf.fit(X_train, y_train)\n",
    "preds_rf = model_rf.predict(X_val)"
   ]
  },
  {
   "cell_type": "code",
   "execution_count": 231,
   "id": "303b5c6e-2feb-4646-9edb-9a4a2f5d396a",
   "metadata": {},
   "outputs": [
    {
     "name": "stderr",
     "output_type": "stream",
     "text": [
      "[I 2025-05-24 19:44:48,019] A new study created in RDB with name: xgb_dl_one_hot_\n",
      "[I 2025-05-24 19:44:49,394] Trial 0 finished with value: 0.25570695039277624 and parameters: {'n_estimators': 91, 'max_depth': 10, 'learning_rate': 0.13214519679795628}. Best is trial 0 with value: 0.25570695039277624.\n",
      "[I 2025-05-24 19:44:50,171] Trial 1 finished with value: 0.24695609923748674 and parameters: {'n_estimators': 90, 'max_depth': 5, 'learning_rate': 0.08555239607509793}. Best is trial 0 with value: 0.25570695039277624.\n",
      "[I 2025-05-24 19:44:51,084] Trial 2 finished with value: 0.24564156569847906 and parameters: {'n_estimators': 81, 'max_depth': 8, 'learning_rate': 0.016673833039693213}. Best is trial 0 with value: 0.25570695039277624.\n",
      "[I 2025-05-24 19:44:51,627] Trial 3 finished with value: 0.24733954527350188 and parameters: {'n_estimators': 94, 'max_depth': 4, 'learning_rate': 0.1881715223221348}. Best is trial 0 with value: 0.25570695039277624.\n",
      "[I 2025-05-24 19:44:52,522] Trial 4 finished with value: 0.24437818373611997 and parameters: {'n_estimators': 75, 'max_depth': 9, 'learning_rate': 0.0219864986765696}. Best is trial 0 with value: 0.25570695039277624.\n",
      "[I 2025-05-24 19:44:52,954] Trial 5 finished with value: 0.24563695439507205 and parameters: {'n_estimators': 83, 'max_depth': 4, 'learning_rate': 0.11304069194084274}. Best is trial 0 with value: 0.25570695039277624.\n",
      "[I 2025-05-24 19:44:53,306] Trial 6 finished with value: 0.24562548538675089 and parameters: {'n_estimators': 68, 'max_depth': 4, 'learning_rate': 0.21883294592529384}. Best is trial 0 with value: 0.25570695039277624.\n",
      "[I 2025-05-24 19:44:53,753] Trial 7 finished with value: 0.2494436984974635 and parameters: {'n_estimators': 51, 'max_depth': 7, 'learning_rate': 0.1851214867719835}. Best is trial 0 with value: 0.25570695039277624.\n",
      "[I 2025-05-24 19:44:54,075] Trial 8 finished with value: 0.24555313624565234 and parameters: {'n_estimators': 60, 'max_depth': 4, 'learning_rate': 0.10472310759931407}. Best is trial 0 with value: 0.25570695039277624.\n",
      "[I 2025-05-24 19:44:54,518] Trial 9 finished with value: 0.24418172263793503 and parameters: {'n_estimators': 50, 'max_depth': 7, 'learning_rate': 0.035724874052268187}. Best is trial 0 with value: 0.25570695039277624.\n",
      "[I 2025-05-24 19:44:55,945] Trial 10 finished with value: 0.25670851947930595 and parameters: {'n_estimators': 99, 'max_depth': 10, 'learning_rate': 0.2808337820331536}. Best is trial 10 with value: 0.25670851947930595.\n",
      "[I 2025-05-24 19:44:57,446] Trial 11 finished with value: 0.2570527936510292 and parameters: {'n_estimators': 100, 'max_depth': 10, 'learning_rate': 0.27782010837631}. Best is trial 11 with value: 0.2570527936510292.\n",
      "[I 2025-05-24 19:44:58,779] Trial 12 finished with value: 0.25309482998578936 and parameters: {'n_estimators': 99, 'max_depth': 10, 'learning_rate': 0.2976283017388518}. Best is trial 11 with value: 0.2570527936510292.\n",
      "[I 2025-05-24 19:44:59,892] Trial 13 finished with value: 0.25224311144167366 and parameters: {'n_estimators': 100, 'max_depth': 9, 'learning_rate': 0.29548628489954}. Best is trial 11 with value: 0.2570527936510292.\n",
      "[I 2025-05-24 19:45:00,906] Trial 14 finished with value: 0.2588509078089224 and parameters: {'n_estimators': 85, 'max_depth': 9, 'learning_rate': 0.2510562974439261}. Best is trial 14 with value: 0.2588509078089224.\n",
      "[I 2025-05-24 19:45:01,856] Trial 15 finished with value: 0.255561447036289 and parameters: {'n_estimators': 87, 'max_depth': 8, 'learning_rate': 0.2503152901347582}. Best is trial 14 with value: 0.2588509078089224.\n",
      "[I 2025-05-24 19:45:02,460] Trial 16 finished with value: 0.25192963084430686 and parameters: {'n_estimators': 75, 'max_depth': 6, 'learning_rate': 0.24831808791192203}. Best is trial 14 with value: 0.2588509078089224.\n",
      "[I 2025-05-24 19:45:03,471] Trial 17 finished with value: 0.256587684455429 and parameters: {'n_estimators': 82, 'max_depth': 9, 'learning_rate': 0.2480325375199412}. Best is trial 14 with value: 0.2588509078089224.\n",
      "[I 2025-05-24 19:45:04,299] Trial 18 finished with value: 0.251469192373982 and parameters: {'n_estimators': 75, 'max_depth': 8, 'learning_rate': 0.2084900960459568}. Best is trial 14 with value: 0.2588509078089224.\n",
      "[I 2025-05-24 19:45:05,550] Trial 19 finished with value: 0.25541881625169816 and parameters: {'n_estimators': 94, 'max_depth': 9, 'learning_rate': 0.1533159999879535}. Best is trial 14 with value: 0.2588509078089224.\n",
      "[I 2025-05-24 19:45:06,151] Trial 20 finished with value: 0.2528242567757589 and parameters: {'n_estimators': 69, 'max_depth': 6, 'learning_rate': 0.272803116696583}. Best is trial 14 with value: 0.2588509078089224.\n",
      "[I 2025-05-24 19:45:07,516] Trial 21 finished with value: 0.2568598284905633 and parameters: {'n_estimators': 96, 'max_depth': 10, 'learning_rate': 0.2733696986146837}. Best is trial 14 with value: 0.2588509078089224.\n",
      "[I 2025-05-24 19:45:08,816] Trial 22 finished with value: 0.2579769870539722 and parameters: {'n_estimators': 95, 'max_depth': 10, 'learning_rate': 0.2202480192570192}. Best is trial 14 with value: 0.2588509078089224.\n",
      "[I 2025-05-24 19:45:09,981] Trial 23 finished with value: 0.2595690632811327 and parameters: {'n_estimators': 87, 'max_depth': 10, 'learning_rate': 0.22367861928996677}. Best is trial 23 with value: 0.2595690632811327.\n",
      "[I 2025-05-24 19:45:11,039] Trial 24 finished with value: 0.25650062023618125 and parameters: {'n_estimators': 85, 'max_depth': 9, 'learning_rate': 0.2206842941238866}. Best is trial 23 with value: 0.2595690632811327.\n",
      "[I 2025-05-24 19:45:12,008] Trial 25 finished with value: 0.2553334628296261 and parameters: {'n_estimators': 88, 'max_depth': 8, 'learning_rate': 0.18178345717269748}. Best is trial 23 with value: 0.2595690632811327.\n",
      "[I 2025-05-24 19:45:13,066] Trial 26 finished with value: 0.2570520147450551 and parameters: {'n_estimators': 79, 'max_depth': 10, 'learning_rate': 0.23403415901042257}. Best is trial 23 with value: 0.2595690632811327.\n",
      "[I 2025-05-24 19:45:14,106] Trial 27 finished with value: 0.2544416452549493 and parameters: {'n_estimators': 91, 'max_depth': 9, 'learning_rate': 0.1641179661910207}. Best is trial 23 with value: 0.2595690632811327.\n",
      "[I 2025-05-24 19:45:14,497] Trial 28 finished with value: 0.24540421022626968 and parameters: {'n_estimators': 79, 'max_depth': 3, 'learning_rate': 0.20349507433929334}. Best is trial 23 with value: 0.2595690632811327.\n",
      "[I 2025-05-24 19:45:15,731] Trial 29 finished with value: 0.2549933048219475 and parameters: {'n_estimators': 93, 'max_depth': 10, 'learning_rate': 0.14313258589701833}. Best is trial 23 with value: 0.2595690632811327.\n",
      "[I 2025-05-24 19:45:16,481] Trial 30 finished with value: 0.25353232310216844 and parameters: {'n_estimators': 86, 'max_depth': 7, 'learning_rate': 0.232813909505027}. Best is trial 23 with value: 0.2595690632811327.\n",
      "[I 2025-05-24 19:45:17,727] Trial 31 finished with value: 0.26057233326749496 and parameters: {'n_estimators': 96, 'max_depth': 10, 'learning_rate': 0.27060132430118217}. Best is trial 31 with value: 0.26057233326749496.\n",
      "[I 2025-05-24 19:45:18,965] Trial 32 finished with value: 0.2556860690619027 and parameters: {'n_estimators': 90, 'max_depth': 10, 'learning_rate': 0.25865501093461796}. Best is trial 31 with value: 0.26057233326749496.\n",
      "[I 2025-05-24 19:45:20,268] Trial 33 finished with value: 0.2553004243232617 and parameters: {'n_estimators': 89, 'max_depth': 9, 'learning_rate': 0.2343196533760414}. Best is trial 31 with value: 0.26057233326749496.\n",
      "[I 2025-05-24 19:45:21,521] Trial 34 finished with value: 0.25508611584257457 and parameters: {'n_estimators': 94, 'max_depth': 10, 'learning_rate': 0.19981274916387026}. Best is trial 31 with value: 0.26057233326749496.\n",
      "[I 2025-05-24 19:45:22,658] Trial 35 finished with value: 0.2527586438468701 and parameters: {'n_estimators': 96, 'max_depth': 9, 'learning_rate': 0.16665144282262695}. Best is trial 31 with value: 0.26057233326749496.\n",
      "[I 2025-05-24 19:45:23,582] Trial 36 finished with value: 0.25456675170683973 and parameters: {'n_estimators': 85, 'max_depth': 8, 'learning_rate': 0.26309981712991826}. Best is trial 31 with value: 0.26057233326749496.\n",
      "[I 2025-05-24 19:45:24,827] Trial 37 finished with value: 0.2594906041295576 and parameters: {'n_estimators': 92, 'max_depth': 10, 'learning_rate': 0.2220480878029942}. Best is trial 31 with value: 0.26057233326749496.\n",
      "[I 2025-05-24 19:45:25,797] Trial 38 finished with value: 0.25616876875859707 and parameters: {'n_estimators': 91, 'max_depth': 8, 'learning_rate': 0.2373906884725463}. Best is trial 31 with value: 0.26057233326749496.\n",
      "[I 2025-05-24 19:45:26,829] Trial 39 finished with value: 0.2527429201121557 and parameters: {'n_estimators': 83, 'max_depth': 9, 'learning_rate': 0.18974678373524567}. Best is trial 31 with value: 0.26057233326749496.\n",
      "[I 2025-05-24 19:45:27,480] Trial 40 finished with value: 0.24494043231330476 and parameters: {'n_estimators': 97, 'max_depth': 5, 'learning_rate': 0.28692205173352664}. Best is trial 31 with value: 0.26057233326749496.\n",
      "[I 2025-05-24 19:45:28,679] Trial 41 finished with value: 0.25835310558064684 and parameters: {'n_estimators': 92, 'max_depth': 10, 'learning_rate': 0.2179000435162397}. Best is trial 31 with value: 0.26057233326749496.\n",
      "[I 2025-05-24 19:45:29,921] Trial 42 finished with value: 0.24902973411540086 and parameters: {'n_estimators': 92, 'max_depth': 10, 'learning_rate': 0.05504875190482082}. Best is trial 31 with value: 0.26057233326749496.\n",
      "[I 2025-05-24 19:45:30,941] Trial 43 finished with value: 0.2566395278260495 and parameters: {'n_estimators': 80, 'max_depth': 10, 'learning_rate': 0.26046945137717764}. Best is trial 31 with value: 0.26057233326749496.\n",
      "[I 2025-05-24 19:45:32,174] Trial 44 finished with value: 0.2544452224821683 and parameters: {'n_estimators': 89, 'max_depth': 10, 'learning_rate': 0.2144562509132638}. Best is trial 31 with value: 0.26057233326749496.\n",
      "[I 2025-05-24 19:45:33,000] Trial 45 finished with value: 0.25847710443063776 and parameters: {'n_estimators': 69, 'max_depth': 9, 'learning_rate': 0.19224850447492087}. Best is trial 31 with value: 0.26057233326749496.\n",
      "[I 2025-05-24 19:45:33,904] Trial 46 finished with value: 0.2511498437193318 and parameters: {'n_estimators': 71, 'max_depth': 9, 'learning_rate': 0.12254676470557804}. Best is trial 31 with value: 0.26057233326749496.\n",
      "[I 2025-05-24 19:45:34,704] Trial 47 finished with value: 0.24946641908414757 and parameters: {'n_estimators': 67, 'max_depth': 9, 'learning_rate': 0.18005255082494426}. Best is trial 31 with value: 0.26057233326749496.\n",
      "[I 2025-05-24 19:45:35,281] Trial 48 finished with value: 0.24950713359957 and parameters: {'n_estimators': 62, 'max_depth': 7, 'learning_rate': 0.20064110497356194}. Best is trial 31 with value: 0.26057233326749496.\n",
      "[I 2025-05-24 19:45:36,177] Trial 49 finished with value: 0.25568136417088394 and parameters: {'n_estimators': 77, 'max_depth': 9, 'learning_rate': 0.2428784795470496}. Best is trial 31 with value: 0.26057233326749496.\n"
     ]
    }
   ],
   "source": [
    "def objective_xgb(trial):\n",
    "    params = {\n",
    "        \"n_estimators\": trial.suggest_int(\"n_estimators\", 50, 100),\n",
    "        \"max_depth\": trial.suggest_int(\"max_depth\", 3, 10),\n",
    "        \"learning_rate\": trial.suggest_float(\"learning_rate\", 0.01, 0.3),\n",
    "        \"eval_metric\": \"mlogloss\"\n",
    "    }\n",
    "    model = XGBClassifier(**params, random_state=7, verbosity=0)\n",
    "    model.fit(X_train, y_train)\n",
    "    preds = model.predict(X_val)\n",
    "    return kappa_metric(y_val, preds)\n",
    "\n",
    "study_xgb = optuna.create_study(\n",
    "    direction=\"maximize\",\n",
    "    study_name=\"xgb_dl_one_hot_\",\n",
    "    storage=storage,\n",
    "    load_if_exists=True\n",
    ")\n",
    "study_xgb.optimize(objective_xgb, n_trials=50)\n",
    "\n",
    "model_xgb = XGBClassifier(**study_xgb.best_params, random_state=7, eval_metric=\"mlogloss\")\n",
    "model_xgb.fit(X_train, y_train)\n",
    "preds_xgb = model_xgb.predict(X_val)"
   ]
  },
  {
   "cell_type": "code",
   "execution_count": 232,
   "id": "303af98d-d986-42e1-84e4-917d7c8fa0d2",
   "metadata": {},
   "outputs": [
    {
     "name": "stderr",
     "output_type": "stream",
     "text": [
      "[I 2025-05-24 19:45:49,834] A new study created in RDB with name: lgb_dl_one_hot\n",
      "[I 2025-05-24 19:45:50,803] Trial 0 finished with value: 0.25116846690103156 and parameters: {'n_estimators': 65, 'max_depth': 9, 'learning_rate': 0.1486408416329573}. Best is trial 0 with value: 0.25116846690103156.\n",
      "[I 2025-05-24 19:45:52,176] Trial 1 finished with value: 0.24607424110343434 and parameters: {'n_estimators': 96, 'max_depth': 6, 'learning_rate': 0.024788550485894283}. Best is trial 0 with value: 0.25116846690103156.\n",
      "[I 2025-05-24 19:45:53,627] Trial 2 finished with value: 0.25728144045056967 and parameters: {'n_estimators': 99, 'max_depth': 8, 'learning_rate': 0.2604065973841895}. Best is trial 2 with value: 0.25728144045056967.\n",
      "[I 2025-05-24 19:45:54,549] Trial 3 finished with value: 0.25489747219724956 and parameters: {'n_estimators': 64, 'max_depth': 7, 'learning_rate': 0.2652046350726376}. Best is trial 2 with value: 0.25728144045056967.\n",
      "[I 2025-05-24 19:45:55,370] Trial 4 finished with value: 0.24656499530809417 and parameters: {'n_estimators': 53, 'max_depth': 9, 'learning_rate': 0.058380295013917664}. Best is trial 2 with value: 0.25728144045056967.\n",
      "[I 2025-05-24 19:45:56,343] Trial 5 finished with value: 0.25118795592544885 and parameters: {'n_estimators': 93, 'max_depth': 4, 'learning_rate': 0.2224402557300773}. Best is trial 2 with value: 0.25728144045056967.\n",
      "[I 2025-05-24 19:45:56,833] Trial 6 finished with value: 0.245696390442528 and parameters: {'n_estimators': 94, 'max_depth': 3, 'learning_rate': 0.1598535348598442}. Best is trial 2 with value: 0.25728144045056967.\n",
      "[I 2025-05-24 19:45:57,481] Trial 7 finished with value: 0.2525174184446426 and parameters: {'n_estimators': 91, 'max_depth': 4, 'learning_rate': 0.2124787590269297}. Best is trial 2 with value: 0.25728144045056967.\n",
      "[I 2025-05-24 19:45:58,621] Trial 8 finished with value: 0.2470311642363996 and parameters: {'n_estimators': 53, 'max_depth': 10, 'learning_rate': 0.0778251419911061}. Best is trial 2 with value: 0.25728144045056967.\n",
      "[I 2025-05-24 19:45:59,499] Trial 9 finished with value: 0.25161213019877493 and parameters: {'n_estimators': 86, 'max_depth': 5, 'learning_rate': 0.09773549898711517}. Best is trial 2 with value: 0.25728144045056967.\n",
      "[I 2025-05-24 19:46:00,687] Trial 10 finished with value: 0.25297039226614404 and parameters: {'n_estimators': 79, 'max_depth': 7, 'learning_rate': 0.2965978870623812}. Best is trial 2 with value: 0.25728144045056967.\n",
      "[I 2025-05-24 19:46:01,692] Trial 11 finished with value: 0.2545778871754756 and parameters: {'n_estimators': 69, 'max_depth': 7, 'learning_rate': 0.28310158669178087}. Best is trial 2 with value: 0.25728144045056967.\n",
      "[I 2025-05-24 19:46:02,648] Trial 12 finished with value: 0.2581367389893263 and parameters: {'n_estimators': 62, 'max_depth': 8, 'learning_rate': 0.24308370330995666}. Best is trial 12 with value: 0.2581367389893263.\n",
      "[I 2025-05-24 19:46:03,743] Trial 13 finished with value: 0.255385574479974 and parameters: {'n_estimators': 78, 'max_depth': 8, 'learning_rate': 0.22761003035832333}. Best is trial 12 with value: 0.2581367389893263.\n",
      "[I 2025-05-24 19:46:04,638] Trial 14 finished with value: 0.2544314615219616 and parameters: {'n_estimators': 60, 'max_depth': 9, 'learning_rate': 0.16809011055073755}. Best is trial 12 with value: 0.2581367389893263.\n",
      "[I 2025-05-24 19:46:05,718] Trial 15 finished with value: 0.2524672124071238 and parameters: {'n_estimators': 72, 'max_depth': 8, 'learning_rate': 0.2540874960038103}. Best is trial 12 with value: 0.2581367389893263.\n",
      "[I 2025-05-24 19:46:07,280] Trial 16 finished with value: 0.2514037218256041 and parameters: {'n_estimators': 100, 'max_depth': 10, 'learning_rate': 0.18397880609229444}. Best is trial 12 with value: 0.2581367389893263.\n",
      "[I 2025-05-24 19:46:08,374] Trial 17 finished with value: 0.25489797985129037 and parameters: {'n_estimators': 83, 'max_depth': 6, 'learning_rate': 0.2482167234303499}. Best is trial 12 with value: 0.2581367389893263.\n",
      "[I 2025-05-24 19:46:09,280] Trial 18 finished with value: 0.2534469913411911 and parameters: {'n_estimators': 58, 'max_depth': 8, 'learning_rate': 0.2031656595070607}. Best is trial 12 with value: 0.2581367389893263.\n",
      "[I 2025-05-24 19:46:10,360] Trial 19 finished with value: 0.2474294342874186 and parameters: {'n_estimators': 74, 'max_depth': 8, 'learning_rate': 0.12267263790645574}. Best is trial 12 with value: 0.2581367389893263.\n",
      "[I 2025-05-24 19:46:11,067] Trial 20 finished with value: 0.2496887859301532 and parameters: {'n_estimators': 50, 'max_depth': 6, 'learning_rate': 0.29961532686199616}. Best is trial 12 with value: 0.2581367389893263.\n",
      "[I 2025-05-24 19:46:12,217] Trial 21 finished with value: 0.25455676247784464 and parameters: {'n_estimators': 79, 'max_depth': 8, 'learning_rate': 0.23772788438275716}. Best is trial 12 with value: 0.2581367389893263.\n",
      "[I 2025-05-24 19:46:13,480] Trial 22 finished with value: 0.25561749355947694 and parameters: {'n_estimators': 85, 'max_depth': 9, 'learning_rate': 0.26394879950530803}. Best is trial 12 with value: 0.2581367389893263.\n",
      "[I 2025-05-24 19:46:14,816] Trial 23 finished with value: 0.25954320678334786 and parameters: {'n_estimators': 87, 'max_depth': 9, 'learning_rate': 0.26650179647764677}. Best is trial 23 with value: 0.25954320678334786.\n",
      "[I 2025-05-24 19:46:16,309] Trial 24 finished with value: 0.2550527904755303 and parameters: {'n_estimators': 99, 'max_depth': 10, 'learning_rate': 0.26663146843789437}. Best is trial 23 with value: 0.25954320678334786.\n",
      "[I 2025-05-24 19:46:17,661] Trial 25 finished with value: 0.25340799939138225 and parameters: {'n_estimators': 89, 'max_depth': 9, 'learning_rate': 0.19062697324180272}. Best is trial 23 with value: 0.25954320678334786.\n",
      "[I 2025-05-24 19:46:18,929] Trial 26 finished with value: 0.255385574479974 and parameters: {'n_estimators': 89, 'max_depth': 7, 'learning_rate': 0.2395531926339305}. Best is trial 23 with value: 0.25954320678334786.\n",
      "[I 2025-05-24 19:46:20,334] Trial 27 finished with value: 0.25258950225852494 and parameters: {'n_estimators': 97, 'max_depth': 8, 'learning_rate': 0.2831741228564033}. Best is trial 23 with value: 0.25954320678334786.\n",
      "[I 2025-05-24 19:46:21,597] Trial 28 finished with value: 0.25607033594881246 and parameters: {'n_estimators': 82, 'max_depth': 10, 'learning_rate': 0.20084972694856087}. Best is trial 23 with value: 0.25954320678334786.\n",
      "[I 2025-05-24 19:46:22,563] Trial 29 finished with value: 0.25484118200217254 and parameters: {'n_estimators': 66, 'max_depth': 9, 'learning_rate': 0.27792701360861016}. Best is trial 23 with value: 0.25954320678334786.\n",
      "[I 2025-05-24 19:46:23,543] Trial 30 finished with value: 0.24999024613740983 and parameters: {'n_estimators': 60, 'max_depth': 7, 'learning_rate': 0.14006992180221134}. Best is trial 23 with value: 0.25954320678334786.\n",
      "[I 2025-05-24 19:46:24,766] Trial 31 finished with value: 0.2496292116812313 and parameters: {'n_estimators': 83, 'max_depth': 10, 'learning_rate': 0.21248396415473714}. Best is trial 23 with value: 0.25954320678334786.\n",
      "[I 2025-05-24 19:46:26,042] Trial 32 finished with value: 0.25417993769931335 and parameters: {'n_estimators': 87, 'max_depth': 9, 'learning_rate': 0.17927767780718745}. Best is trial 23 with value: 0.25954320678334786.\n",
      "[I 2025-05-24 19:46:27,173] Trial 33 finished with value: 0.2529427113721525 and parameters: {'n_estimators': 76, 'max_depth': 10, 'learning_rate': 0.23207379154562677}. Best is trial 23 with value: 0.25954320678334786.\n",
      "[I 2025-05-24 19:46:28,368] Trial 34 finished with value: 0.2539602730102066 and parameters: {'n_estimators': 81, 'max_depth': 10, 'learning_rate': 0.25792021314629526}. Best is trial 23 with value: 0.25954320678334786.\n",
      "[I 2025-05-24 19:46:29,434] Trial 35 finished with value: 0.2537152528840596 and parameters: {'n_estimators': 71, 'max_depth': 9, 'learning_rate': 0.19759493409973855}. Best is trial 23 with value: 0.25954320678334786.\n",
      "[I 2025-05-24 19:46:30,858] Trial 36 finished with value: 0.25276282946889017 and parameters: {'n_estimators': 95, 'max_depth': 8, 'learning_rate': 0.21479335682074638}. Best is trial 23 with value: 0.25954320678334786.\n",
      "[I 2025-05-24 19:46:32,256] Trial 37 finished with value: 0.25461740982206427 and parameters: {'n_estimators': 92, 'max_depth': 9, 'learning_rate': 0.2772858306013758}. Best is trial 23 with value: 0.25954320678334786.\n",
      "[I 2025-05-24 19:46:33,680] Trial 38 finished with value: 0.2566882981408417 and parameters: {'n_estimators': 90, 'max_depth': 10, 'learning_rate': 0.2447647392965246}. Best is trial 23 with value: 0.25954320678334786.\n",
      "[I 2025-05-24 19:46:34,926] Trial 39 finished with value: 0.24660232072898947 and parameters: {'n_estimators': 98, 'max_depth': 5, 'learning_rate': 0.013603875576867624}. Best is trial 23 with value: 0.25954320678334786.\n",
      "[I 2025-05-24 19:46:36,365] Trial 40 finished with value: 0.24793010796355142 and parameters: {'n_estimators': 90, 'max_depth': 8, 'learning_rate': 0.045506531906054276}. Best is trial 23 with value: 0.25954320678334786.\n",
      "[I 2025-05-24 19:46:37,828] Trial 41 finished with value: 0.24673017388276042 and parameters: {'n_estimators': 93, 'max_depth': 10, 'learning_rate': 0.2431793947731303}. Best is trial 23 with value: 0.25954320678334786.\n",
      "[I 2025-05-24 19:46:39,218] Trial 42 finished with value: 0.25535102752720196 and parameters: {'n_estimators': 83, 'max_depth': 10, 'learning_rate': 0.22910158928996033}. Best is trial 23 with value: 0.25954320678334786.\n",
      "[I 2025-05-24 19:46:40,570] Trial 43 finished with value: 0.25570331123169343 and parameters: {'n_estimators': 86, 'max_depth': 10, 'learning_rate': 0.2656420925206553}. Best is trial 23 with value: 0.25954320678334786.\n",
      "[I 2025-05-24 19:46:42,000] Trial 44 finished with value: 0.2541901031158529 and parameters: {'n_estimators': 94, 'max_depth': 9, 'learning_rate': 0.2492891497081729}. Best is trial 23 with value: 0.25954320678334786.\n",
      "[I 2025-05-24 19:46:43,418] Trial 45 finished with value: 0.2555326441787861 and parameters: {'n_estimators': 96, 'max_depth': 9, 'learning_rate': 0.22142130351440747}. Best is trial 23 with value: 0.25954320678334786.\n",
      "[I 2025-05-24 19:46:43,826] Trial 46 finished with value: 0.24660743979558752 and parameters: {'n_estimators': 88, 'max_depth': 3, 'learning_rate': 0.2878934080315308}. Best is trial 23 with value: 0.25954320678334786.\n",
      "[I 2025-05-24 19:46:44,734] Trial 47 finished with value: 0.2507390823390869 and parameters: {'n_estimators': 66, 'max_depth': 7, 'learning_rate': 0.20535119740982016}. Best is trial 23 with value: 0.25954320678334786.\n",
      "[I 2025-05-24 19:46:45,965] Trial 48 finished with value: 0.25376704233428815 and parameters: {'n_estimators': 81, 'max_depth': 9, 'learning_rate': 0.165572339110023}. Best is trial 23 with value: 0.25954320678334786.\n",
      "[I 2025-05-24 19:46:47,386] Trial 49 finished with value: 0.25927627552699783 and parameters: {'n_estimators': 91, 'max_depth': 10, 'learning_rate': 0.26802253116543706}. Best is trial 23 with value: 0.25954320678334786.\n"
     ]
    }
   ],
   "source": [
    "def objective_lgb(trial):\n",
    "    params = {\n",
    "        \"n_estimators\": trial.suggest_int(\"n_estimators\", 50, 100),\n",
    "        \"max_depth\": trial.suggest_int(\"max_depth\", 3, 10),\n",
    "        \"learning_rate\": trial.suggest_float(\"learning_rate\", 0.01, 0.3),\n",
    "    }\n",
    "    model = LGBMClassifier(**params, random_state=7, verbosity=-1)\n",
    "    model.fit(X_train, y_train)\n",
    "    preds = model.predict(X_val)\n",
    "    return kappa_metric(y_val, preds)\n",
    "\n",
    "study_lgb = optuna.create_study(\n",
    "    direction=\"maximize\",\n",
    "    study_name=\"lgb_dl_one_hot\",\n",
    "    storage=storage,\n",
    "    load_if_exists=True\n",
    ")\n",
    "study_lgb.optimize(objective_lgb, n_trials=50)\n",
    "\n",
    "model_lgb = LGBMClassifier(**study_lgb.best_params, random_state=7)\n",
    "model_lgb.fit(X_train, y_train)\n",
    "preds_lgb = model_lgb.predict(X_val)"
   ]
  },
  {
   "cell_type": "code",
   "execution_count": 233,
   "id": "bc04bb39-bd35-42b5-8ed9-ea4b8fce71d0",
   "metadata": {},
   "outputs": [],
   "source": [
    "all_preds = np.vstack([preds_rf, preds_xgb, preds_lgb])\n",
    "ensemble_preds = mode(all_preds, axis=0).mode"
   ]
  },
  {
   "cell_type": "code",
   "execution_count": 234,
   "id": "54698b76-b436-463c-a2e3-3a22469ed695",
   "metadata": {},
   "outputs": [
    {
     "name": "stdout",
     "output_type": "stream",
     "text": [
      "Cohen's Kappa del Ensemble: 0.1772\n"
     ]
    }
   ],
   "source": [
    "final_kappa = cohen_kappa_score(y_val, ensemble_preds)\n",
    "print(f\"Cohen's Kappa del Ensemble: {final_kappa:.4f}\")"
   ]
  },
  {
   "cell_type": "code",
   "execution_count": 235,
   "id": "b48e5bef-2c33-4128-a96f-e4f6b9577267",
   "metadata": {},
   "outputs": [],
   "source": [
    "proba_rf = model_rf.predict_proba(X_val)\n",
    "proba_xgb = model_xgb.predict_proba(X_val)\n",
    "proba_lgb = model_lgb.predict_proba(X_val)"
   ]
  },
  {
   "cell_type": "code",
   "execution_count": 236,
   "id": "afa1e4b5-eaff-4bc2-96d8-9c53d3fcbebd",
   "metadata": {},
   "outputs": [],
   "source": [
    "rf_pred = proba_rf.argmax(axis=1)\n",
    "xgb_pred = proba_xgb.argmax(axis=1)\n",
    "lgb_pred = proba_lgb.argmax(axis=1)"
   ]
  },
  {
   "cell_type": "code",
   "execution_count": 237,
   "id": "a5ac9a73-1ffa-474d-b94a-389e0b6de492",
   "metadata": {
    "scrolled": true
   },
   "outputs": [
    {
     "name": "stdout",
     "output_type": "stream",
     "text": [
      "0.17516918882646604\n",
      "0.17803454231688143\n",
      "0.17803011269605096\n"
     ]
    }
   ],
   "source": [
    "print(cohen_kappa_score(y_val, rf_pred))\n",
    "print(cohen_kappa_score(y_val, xgb_pred))\n",
    "print(cohen_kappa_score(y_val, lgb_pred))"
   ]
  },
  {
   "cell_type": "markdown",
   "id": "05d8130b-75ad-4158-8e66-47a339ce7489",
   "metadata": {},
   "source": [
    "# Modelos Base"
   ]
  },
  {
   "cell_type": "code",
   "execution_count": 239,
   "id": "1ee3f31a-a042-4a98-81b8-93c4daa76ea2",
   "metadata": {},
   "outputs": [],
   "source": [
    "X_train_base = X_train_base.drop(columns='Text_pred')\n",
    "X_val_base = X_val_base.drop(columns='Text_pred')"
   ]
  },
  {
   "cell_type": "code",
   "execution_count": 240,
   "id": "ece8861e-7fce-42bb-9262-d59dc4587696",
   "metadata": {},
   "outputs": [
    {
     "name": "stderr",
     "output_type": "stream",
     "text": [
      "[I 2025-05-24 19:48:25,884] A new study created in RDB with name: rf_dl_base_one_hot\n",
      "[I 2025-05-24 19:48:26,158] Trial 0 finished with value: 0.31445550382374887 and parameters: {'n_estimators': 99, 'max_depth': 7, 'min_samples_split': 9}. Best is trial 0 with value: 0.31445550382374887.\n",
      "[I 2025-05-24 19:48:26,350] Trial 1 finished with value: 0.27533169339084285 and parameters: {'n_estimators': 91, 'max_depth': 6, 'min_samples_split': 9}. Best is trial 0 with value: 0.31445550382374887.\n",
      "[I 2025-05-24 19:48:26,482] Trial 2 finished with value: 0.21817081109430603 and parameters: {'n_estimators': 65, 'max_depth': 3, 'min_samples_split': 10}. Best is trial 0 with value: 0.31445550382374887.\n",
      "[I 2025-05-24 19:48:26,613] Trial 3 finished with value: 0.26005769555991043 and parameters: {'n_estimators': 53, 'max_depth': 5, 'min_samples_split': 4}. Best is trial 0 with value: 0.31445550382374887.\n",
      "[I 2025-05-24 19:48:26,771] Trial 4 finished with value: 0.321990804221012 and parameters: {'n_estimators': 79, 'max_depth': 8, 'min_samples_split': 5}. Best is trial 4 with value: 0.321990804221012.\n",
      "[I 2025-05-24 19:48:26,890] Trial 5 finished with value: 0.24503797153696882 and parameters: {'n_estimators': 59, 'max_depth': 4, 'min_samples_split': 5}. Best is trial 4 with value: 0.321990804221012.\n",
      "[I 2025-05-24 19:48:27,037] Trial 6 finished with value: 0.2831717093156686 and parameters: {'n_estimators': 58, 'max_depth': 6, 'min_samples_split': 5}. Best is trial 4 with value: 0.321990804221012.\n",
      "[I 2025-05-24 19:48:27,233] Trial 7 finished with value: 0.3108399698523714 and parameters: {'n_estimators': 93, 'max_depth': 7, 'min_samples_split': 7}. Best is trial 4 with value: 0.321990804221012.\n",
      "[I 2025-05-24 19:48:27,407] Trial 8 finished with value: 0.2653284718973957 and parameters: {'n_estimators': 86, 'max_depth': 5, 'min_samples_split': 5}. Best is trial 4 with value: 0.321990804221012.\n",
      "[I 2025-05-24 19:48:27,570] Trial 9 finished with value: 0.3499576346331946 and parameters: {'n_estimators': 54, 'max_depth': 10, 'min_samples_split': 2}. Best is trial 9 with value: 0.3499576346331946.\n",
      "[I 2025-05-24 19:48:27,772] Trial 10 finished with value: 0.35233029971587737 and parameters: {'n_estimators': 70, 'max_depth': 10, 'min_samples_split': 2}. Best is trial 10 with value: 0.35233029971587737.\n",
      "[I 2025-05-24 19:48:27,974] Trial 11 finished with value: 0.35233029971587737 and parameters: {'n_estimators': 70, 'max_depth': 10, 'min_samples_split': 2}. Best is trial 10 with value: 0.35233029971587737.\n",
      "[I 2025-05-24 19:48:28,185] Trial 12 finished with value: 0.3510479973845029 and parameters: {'n_estimators': 71, 'max_depth': 10, 'min_samples_split': 2}. Best is trial 10 with value: 0.35233029971587737.\n",
      "[I 2025-05-24 19:48:28,377] Trial 13 finished with value: 0.33681002580490826 and parameters: {'n_estimators': 75, 'max_depth': 9, 'min_samples_split': 3}. Best is trial 10 with value: 0.35233029971587737.\n",
      "[I 2025-05-24 19:48:28,562] Trial 14 finished with value: 0.3404455626001507 and parameters: {'n_estimators': 67, 'max_depth': 9, 'min_samples_split': 3}. Best is trial 10 with value: 0.35233029971587737.\n",
      "[I 2025-05-24 19:48:28,780] Trial 15 finished with value: 0.32622892791307956 and parameters: {'n_estimators': 80, 'max_depth': 9, 'min_samples_split': 7}. Best is trial 10 with value: 0.35233029971587737.\n",
      "[I 2025-05-24 19:48:28,970] Trial 16 finished with value: 0.3309345741156625 and parameters: {'n_estimators': 66, 'max_depth': 10, 'min_samples_split': 3}. Best is trial 10 with value: 0.35233029971587737.\n",
      "[I 2025-05-24 19:48:29,188] Trial 17 finished with value: 0.3217755504495867 and parameters: {'n_estimators': 73, 'max_depth': 8, 'min_samples_split': 2}. Best is trial 10 with value: 0.35233029971587737.\n",
      "[I 2025-05-24 19:48:29,376] Trial 18 finished with value: 0.3252221546605464 and parameters: {'n_estimators': 82, 'max_depth': 8, 'min_samples_split': 4}. Best is trial 10 with value: 0.35233029971587737.\n",
      "[I 2025-05-24 19:48:29,546] Trial 19 finished with value: 0.34079948457782117 and parameters: {'n_estimators': 62, 'max_depth': 10, 'min_samples_split': 7}. Best is trial 10 with value: 0.35233029971587737.\n",
      "[I 2025-05-24 19:48:29,712] Trial 20 finished with value: 0.3378824760078094 and parameters: {'n_estimators': 70, 'max_depth': 9, 'min_samples_split': 3}. Best is trial 10 with value: 0.35233029971587737.\n",
      "[I 2025-05-24 19:48:29,895] Trial 21 finished with value: 0.3472546908413542 and parameters: {'n_estimators': 74, 'max_depth': 10, 'min_samples_split': 2}. Best is trial 10 with value: 0.35233029971587737.\n",
      "[I 2025-05-24 19:48:30,098] Trial 22 finished with value: 0.35233029971587737 and parameters: {'n_estimators': 70, 'max_depth': 10, 'min_samples_split': 2}. Best is trial 10 with value: 0.35233029971587737.\n",
      "[I 2025-05-24 19:48:30,316] Trial 23 finished with value: 0.33017252548341813 and parameters: {'n_estimators': 77, 'max_depth': 9, 'min_samples_split': 4}. Best is trial 10 with value: 0.35233029971587737.\n",
      "[I 2025-05-24 19:48:30,498] Trial 24 finished with value: 0.318134439336465 and parameters: {'n_estimators': 68, 'max_depth': 8, 'min_samples_split': 2}. Best is trial 10 with value: 0.35233029971587737.\n",
      "[I 2025-05-24 19:48:30,678] Trial 25 finished with value: 0.3288508380638582 and parameters: {'n_estimators': 63, 'max_depth': 10, 'min_samples_split': 3}. Best is trial 10 with value: 0.35233029971587737.\n",
      "[I 2025-05-24 19:48:30,848] Trial 26 finished with value: 0.330818427060954 and parameters: {'n_estimators': 61, 'max_depth': 9, 'min_samples_split': 4}. Best is trial 10 with value: 0.35233029971587737.\n",
      "[I 2025-05-24 19:48:31,051] Trial 27 finished with value: 0.349821859411903 and parameters: {'n_estimators': 84, 'max_depth': 10, 'min_samples_split': 6}. Best is trial 10 with value: 0.35233029971587737.\n",
      "[I 2025-05-24 19:48:31,196] Trial 28 finished with value: 0.2960583456932977 and parameters: {'n_estimators': 50, 'max_depth': 7, 'min_samples_split': 2}. Best is trial 10 with value: 0.35233029971587737.\n",
      "[I 2025-05-24 19:48:31,398] Trial 29 finished with value: 0.31193665212092403 and parameters: {'n_estimators': 88, 'max_depth': 7, 'min_samples_split': 3}. Best is trial 10 with value: 0.35233029971587737.\n",
      "[I 2025-05-24 19:48:31,565] Trial 30 finished with value: 0.3292499345352259 and parameters: {'n_estimators': 70, 'max_depth': 8, 'min_samples_split': 6}. Best is trial 10 with value: 0.35233029971587737.\n",
      "[I 2025-05-24 19:48:31,771] Trial 31 finished with value: 0.3510479973845029 and parameters: {'n_estimators': 71, 'max_depth': 10, 'min_samples_split': 2}. Best is trial 10 with value: 0.35233029971587737.\n",
      "[I 2025-05-24 19:48:32,052] Trial 32 finished with value: 0.35035661893516745 and parameters: {'n_estimators': 100, 'max_depth': 10, 'min_samples_split': 2}. Best is trial 10 with value: 0.35233029971587737.\n",
      "[I 2025-05-24 19:48:32,254] Trial 33 finished with value: 0.3239785046328656 and parameters: {'n_estimators': 72, 'max_depth': 9, 'min_samples_split': 9}. Best is trial 10 with value: 0.35233029971587737.\n",
      "[I 2025-05-24 19:48:32,466] Trial 34 finished with value: 0.339309844649589 and parameters: {'n_estimators': 77, 'max_depth': 10, 'min_samples_split': 3}. Best is trial 10 with value: 0.35233029971587737.\n",
      "[I 2025-05-24 19:48:32,620] Trial 35 finished with value: 0.22150116856401614 and parameters: {'n_estimators': 68, 'max_depth': 3, 'min_samples_split': 10}. Best is trial 10 with value: 0.35233029971587737.\n",
      "[I 2025-05-24 19:48:32,828] Trial 36 finished with value: 0.33221276566566227 and parameters: {'n_estimators': 76, 'max_depth': 9, 'min_samples_split': 4}. Best is trial 10 with value: 0.35233029971587737.\n",
      "[I 2025-05-24 19:48:33,015] Trial 37 finished with value: 0.3529579466537146 and parameters: {'n_estimators': 64, 'max_depth': 10, 'min_samples_split': 2}. Best is trial 37 with value: 0.3529579466537146.\n",
      "[I 2025-05-24 19:48:33,177] Trial 38 finished with value: 0.34025582013001143 and parameters: {'n_estimators': 57, 'max_depth': 9, 'min_samples_split': 3}. Best is trial 37 with value: 0.3529579466537146.\n",
      "[I 2025-05-24 19:48:33,361] Trial 39 finished with value: 0.26285891330985 and parameters: {'n_estimators': 64, 'max_depth': 5, 'min_samples_split': 8}. Best is trial 37 with value: 0.3529579466537146.\n",
      "[I 2025-05-24 19:48:33,580] Trial 40 finished with value: 0.2861934060215747 and parameters: {'n_estimators': 95, 'max_depth': 6, 'min_samples_split': 4}. Best is trial 37 with value: 0.3529579466537146.\n",
      "[I 2025-05-24 19:48:33,759] Trial 41 finished with value: 0.3496566128788601 and parameters: {'n_estimators': 66, 'max_depth': 10, 'min_samples_split': 2}. Best is trial 37 with value: 0.3529579466537146.\n",
      "[I 2025-05-24 19:48:33,910] Trial 42 finished with value: 0.3517786046455136 and parameters: {'n_estimators': 60, 'max_depth': 10, 'min_samples_split': 2}. Best is trial 37 with value: 0.3529579466537146.\n",
      "[I 2025-05-24 19:48:34,072] Trial 43 finished with value: 0.3517786046455136 and parameters: {'n_estimators': 60, 'max_depth': 10, 'min_samples_split': 2}. Best is trial 37 with value: 0.3529579466537146.\n",
      "[I 2025-05-24 19:48:34,226] Trial 44 finished with value: 0.3359147087220228 and parameters: {'n_estimators': 56, 'max_depth': 9, 'min_samples_split': 3}. Best is trial 37 with value: 0.3529579466537146.\n",
      "[I 2025-05-24 19:48:34,390] Trial 45 finished with value: 0.3529579466537146 and parameters: {'n_estimators': 64, 'max_depth': 10, 'min_samples_split': 2}. Best is trial 37 with value: 0.3529579466537146.\n",
      "[I 2025-05-24 19:48:34,537] Trial 46 finished with value: 0.3204640147479879 and parameters: {'n_estimators': 65, 'max_depth': 8, 'min_samples_split': 2}. Best is trial 37 with value: 0.3529579466537146.\n",
      "[I 2025-05-24 19:48:34,703] Trial 47 finished with value: 0.33759101732420604 and parameters: {'n_estimators': 69, 'max_depth': 10, 'min_samples_split': 3}. Best is trial 37 with value: 0.3529579466537146.\n",
      "[I 2025-05-24 19:48:34,829] Trial 48 finished with value: 0.24282667866198804 and parameters: {'n_estimators': 64, 'max_depth': 4, 'min_samples_split': 2}. Best is trial 37 with value: 0.3529579466537146.\n",
      "[I 2025-05-24 19:48:35,001] Trial 49 finished with value: 0.3383078312536315 and parameters: {'n_estimators': 73, 'max_depth': 9, 'min_samples_split': 5}. Best is trial 37 with value: 0.3529579466537146.\n"
     ]
    }
   ],
   "source": [
    "def objective_rf_base(trial):\n",
    "    params = {\n",
    "        \"n_estimators\": trial.suggest_int(\"n_estimators\", 50, 100),\n",
    "        \"max_depth\": trial.suggest_int(\"max_depth\", 3, 10),\n",
    "        \"min_samples_split\": trial.suggest_int(\"min_samples_split\", 2, 10),\n",
    "    }\n",
    "    model = RandomForestClassifier(**params, random_state=7, n_jobs=-1)\n",
    "    model.fit(X_train_base, y_train)\n",
    "    preds = model.predict(X_val_base)\n",
    "    return kappa_metric(y_val, preds)\n",
    "\n",
    "study_rf_base = optuna.create_study(\n",
    "    direction=\"maximize\",\n",
    "    study_name=\"rf_dl_base_one_hot\",\n",
    "    storage=storage,\n",
    "    load_if_exists=True\n",
    ")\n",
    "study_rf_base.optimize(objective_rf_base, n_trials=50)\n",
    "\n",
    "model_rf_base = RandomForestClassifier(**study_rf_base.best_params, random_state=7, n_jobs=-1)\n",
    "model_rf_base.fit(X_train_base, y_train)\n",
    "preds_rf_base = model_rf_base.predict(X_val_base)"
   ]
  },
  {
   "cell_type": "code",
   "execution_count": 241,
   "id": "db4f80ca-71ff-4cb7-9c35-0485b23f0df7",
   "metadata": {},
   "outputs": [
    {
     "name": "stderr",
     "output_type": "stream",
     "text": [
      "[I 2025-05-24 19:48:46,811] A new study created in RDB with name: xgb_dl_base_one_hot\n",
      "[I 2025-05-24 19:48:47,934] Trial 0 finished with value: 0.3662775836212153 and parameters: {'n_estimators': 100, 'max_depth': 8, 'learning_rate': 0.1001023176206022}. Best is trial 0 with value: 0.3662775836212153.\n",
      "[I 2025-05-24 19:48:48,413] Trial 1 finished with value: 0.369761062528266 and parameters: {'n_estimators': 98, 'max_depth': 3, 'learning_rate': 0.1628436578706646}. Best is trial 1 with value: 0.369761062528266.\n",
      "[I 2025-05-24 19:48:48,934] Trial 2 finished with value: 0.377745205677418 and parameters: {'n_estimators': 54, 'max_depth': 7, 'learning_rate': 0.18012219317421432}. Best is trial 2 with value: 0.377745205677418.\n",
      "[I 2025-05-24 19:48:49,968] Trial 3 finished with value: 0.35742352387811827 and parameters: {'n_estimators': 78, 'max_depth': 9, 'learning_rate': 0.12234284250340767}. Best is trial 2 with value: 0.377745205677418.\n",
      "[I 2025-05-24 19:48:50,948] Trial 4 finished with value: 0.37675434474370373 and parameters: {'n_estimators': 95, 'max_depth': 8, 'learning_rate': 0.08354254656790355}. Best is trial 2 with value: 0.377745205677418.\n",
      "[I 2025-05-24 19:48:51,716] Trial 5 finished with value: 0.38095731662250554 and parameters: {'n_estimators': 91, 'max_depth': 6, 'learning_rate': 0.2590353353989654}. Best is trial 5 with value: 0.38095731662250554.\n",
      "[I 2025-05-24 19:48:52,545] Trial 6 finished with value: 0.3740399841402453 and parameters: {'n_estimators': 75, 'max_depth': 8, 'learning_rate': 0.10983682655391933}. Best is trial 5 with value: 0.38095731662250554.\n",
      "[I 2025-05-24 19:48:53,752] Trial 7 finished with value: 0.367222547614791 and parameters: {'n_estimators': 95, 'max_depth': 10, 'learning_rate': 0.1181723385193759}. Best is trial 5 with value: 0.38095731662250554.\n",
      "[I 2025-05-24 19:48:54,420] Trial 8 finished with value: 0.3542614020275948 and parameters: {'n_estimators': 71, 'max_depth': 7, 'learning_rate': 0.03990443424158782}. Best is trial 5 with value: 0.38095731662250554.\n",
      "[I 2025-05-24 19:48:54,990] Trial 9 finished with value: 0.3814611261801002 and parameters: {'n_estimators': 83, 'max_depth': 6, 'learning_rate': 0.19730071362670257}. Best is trial 9 with value: 0.3814611261801002.\n",
      "[I 2025-05-24 19:48:55,408] Trial 10 finished with value: 0.3811622707669521 and parameters: {'n_estimators': 83, 'max_depth': 4, 'learning_rate': 0.24214965542065175}. Best is trial 9 with value: 0.3814611261801002.\n",
      "[I 2025-05-24 19:48:56,053] Trial 11 finished with value: 0.38028636862615073 and parameters: {'n_estimators': 83, 'max_depth': 4, 'learning_rate': 0.23394817684147887}. Best is trial 9 with value: 0.3814611261801002.\n",
      "[I 2025-05-24 19:48:56,826] Trial 12 finished with value: 0.37261318772356355 and parameters: {'n_estimators': 85, 'max_depth': 5, 'learning_rate': 0.29300687181730817}. Best is trial 9 with value: 0.3814611261801002.\n",
      "[I 2025-05-24 19:48:57,349] Trial 13 finished with value: 0.38679739600759666 and parameters: {'n_estimators': 66, 'max_depth': 5, 'learning_rate': 0.21003131213270138}. Best is trial 13 with value: 0.38679739600759666.\n",
      "[I 2025-05-24 19:48:57,858] Trial 14 finished with value: 0.3805794596017277 and parameters: {'n_estimators': 64, 'max_depth': 5, 'learning_rate': 0.18898424822420917}. Best is trial 13 with value: 0.38679739600759666.\n",
      "[I 2025-05-24 19:48:58,445] Trial 15 finished with value: 0.37206641201953894 and parameters: {'n_estimators': 63, 'max_depth': 6, 'learning_rate': 0.20972154945661428}. Best is trial 13 with value: 0.38679739600759666.\n",
      "[I 2025-05-24 19:48:58,810] Trial 16 finished with value: 0.3715675906718944 and parameters: {'n_estimators': 50, 'max_depth': 5, 'learning_rate': 0.29442321144460754}. Best is trial 13 with value: 0.38679739600759666.\n",
      "[I 2025-05-24 19:48:59,125] Trial 17 finished with value: 0.3734033916140427 and parameters: {'n_estimators': 61, 'max_depth': 3, 'learning_rate': 0.21316624429441997}. Best is trial 13 with value: 0.38679739600759666.\n",
      "[I 2025-05-24 19:48:59,717] Trial 18 finished with value: 0.3778291431688172 and parameters: {'n_estimators': 68, 'max_depth': 6, 'learning_rate': 0.14709612863912389}. Best is trial 13 with value: 0.38679739600759666.\n",
      "[I 2025-05-24 19:49:00,135] Trial 19 finished with value: 0.3717139837749486 and parameters: {'n_estimators': 57, 'max_depth': 4, 'learning_rate': 0.26644240345922954}. Best is trial 13 with value: 0.38679739600759666.\n",
      "[I 2025-05-24 19:49:00,799] Trial 20 finished with value: 0.3692533475839317 and parameters: {'n_estimators': 70, 'max_depth': 7, 'learning_rate': 0.20815341482701805}. Best is trial 13 with value: 0.38679739600759666.\n",
      "[I 2025-05-24 19:49:01,266] Trial 21 finished with value: 0.3871045059466718 and parameters: {'n_estimators': 83, 'max_depth': 4, 'learning_rate': 0.24769836214121288}. Best is trial 21 with value: 0.3871045059466718.\n",
      "[I 2025-05-24 19:49:01,894] Trial 22 finished with value: 0.3815881011291258 and parameters: {'n_estimators': 88, 'max_depth': 5, 'learning_rate': 0.232221213356771}. Best is trial 21 with value: 0.3871045059466718.\n",
      "[I 2025-05-24 19:49:02,386] Trial 23 finished with value: 0.3850971493864125 and parameters: {'n_estimators': 77, 'max_depth': 4, 'learning_rate': 0.23625393631270677}. Best is trial 21 with value: 0.3871045059466718.\n",
      "[I 2025-05-24 19:49:02,844] Trial 24 finished with value: 0.3623492867912159 and parameters: {'n_estimators': 77, 'max_depth': 4, 'learning_rate': 0.2588625553862918}. Best is trial 21 with value: 0.3871045059466718.\n",
      "[I 2025-05-24 19:49:03,246] Trial 25 finished with value: 0.3661519188940543 and parameters: {'n_estimators': 80, 'max_depth': 3, 'learning_rate': 0.1623056807066608}. Best is trial 21 with value: 0.3871045059466718.\n",
      "[I 2025-05-24 19:49:03,663] Trial 26 finished with value: 0.36879745194873537 and parameters: {'n_estimators': 68, 'max_depth': 4, 'learning_rate': 0.27590136547963534}. Best is trial 21 with value: 0.3871045059466718.\n",
      "[I 2025-05-24 19:49:04,168] Trial 27 finished with value: 0.3738695175685267 and parameters: {'n_estimators': 74, 'max_depth': 5, 'learning_rate': 0.22775802379938037}. Best is trial 21 with value: 0.3871045059466718.\n",
      "[I 2025-05-24 19:49:04,536] Trial 28 finished with value: 0.3705794398055321 and parameters: {'n_estimators': 73, 'max_depth': 3, 'learning_rate': 0.2434619216826136}. Best is trial 21 with value: 0.3871045059466718.\n",
      "[I 2025-05-24 19:49:05,060] Trial 29 finished with value: 0.29793490792677524 and parameters: {'n_estimators': 89, 'max_depth': 4, 'learning_rate': 0.01576246994280392}. Best is trial 21 with value: 0.3871045059466718.\n",
      "[I 2025-05-24 19:49:05,528] Trial 30 finished with value: 0.38114112332683925 and parameters: {'n_estimators': 67, 'max_depth': 5, 'learning_rate': 0.17858189864585733}. Best is trial 21 with value: 0.3871045059466718.\n",
      "[I 2025-05-24 19:49:06,132] Trial 31 finished with value: 0.3838692044487467 and parameters: {'n_estimators': 88, 'max_depth': 5, 'learning_rate': 0.2232984996859193}. Best is trial 21 with value: 0.3871045059466718.\n",
      "[I 2025-05-24 19:49:06,481] Trial 32 finished with value: 0.38662221407800756 and parameters: {'n_estimators': 80, 'max_depth': 3, 'learning_rate': 0.27750816813665763}. Best is trial 21 with value: 0.3871045059466718.\n",
      "[I 2025-05-24 19:49:06,816] Trial 33 finished with value: 0.3745619500209144 and parameters: {'n_estimators': 80, 'max_depth': 3, 'learning_rate': 0.2886416595866534}. Best is trial 21 with value: 0.3871045059466718.\n",
      "[I 2025-05-24 19:49:07,154] Trial 34 finished with value: 0.3770690863350028 and parameters: {'n_estimators': 79, 'max_depth': 3, 'learning_rate': 0.2750813690362384}. Best is trial 21 with value: 0.3871045059466718.\n",
      "[I 2025-05-24 19:49:07,544] Trial 35 finished with value: 0.38059681013074276 and parameters: {'n_estimators': 75, 'max_depth': 4, 'learning_rate': 0.24999490386796355}. Best is trial 21 with value: 0.3871045059466718.\n",
      "[I 2025-05-24 19:49:07,809] Trial 36 finished with value: 0.37539230199645635 and parameters: {'n_estimators': 59, 'max_depth': 3, 'learning_rate': 0.27612830524254006}. Best is trial 21 with value: 0.3871045059466718.\n",
      "[I 2025-05-24 19:49:08,191] Trial 37 finished with value: 0.36931413432813043 and parameters: {'n_estimators': 92, 'max_depth': 3, 'learning_rate': 0.1480673165530106}. Best is trial 21 with value: 0.3871045059466718.\n",
      "[I 2025-05-24 19:49:08,653] Trial 38 finished with value: 0.38465559836058194 and parameters: {'n_estimators': 86, 'max_depth': 4, 'learning_rate': 0.25558744084796087}. Best is trial 21 with value: 0.3871045059466718.\n",
      "[I 2025-05-24 19:49:09,054] Trial 39 finished with value: 0.37745452665879786 and parameters: {'n_estimators': 77, 'max_depth': 4, 'learning_rate': 0.18522530124415318}. Best is trial 21 with value: 0.3871045059466718.\n",
      "[I 2025-05-24 19:49:10,459] Trial 40 finished with value: 0.3652488429321257 and parameters: {'n_estimators': 99, 'max_depth': 10, 'learning_rate': 0.06511647478943838}. Best is trial 21 with value: 0.3871045059466718.\n",
      "[I 2025-05-24 19:49:10,896] Trial 41 finished with value: 0.37891340047024336 and parameters: {'n_estimators': 85, 'max_depth': 4, 'learning_rate': 0.25547525703116586}. Best is trial 21 with value: 0.3871045059466718.\n",
      "[I 2025-05-24 19:49:11,302] Trial 42 finished with value: 0.3780922462656894 and parameters: {'n_estimators': 81, 'max_depth': 4, 'learning_rate': 0.2685016537946318}. Best is trial 21 with value: 0.3871045059466718.\n",
      "[I 2025-05-24 19:49:11,667] Trial 43 finished with value: 0.37543801740212923 and parameters: {'n_estimators': 86, 'max_depth': 3, 'learning_rate': 0.21967634200026975}. Best is trial 21 with value: 0.3871045059466718.\n",
      "[I 2025-05-24 19:49:12,608] Trial 44 finished with value: 0.3584530810344845 and parameters: {'n_estimators': 82, 'max_depth': 9, 'learning_rate': 0.24422551032295484}. Best is trial 21 with value: 0.3871045059466718.\n",
      "[I 2025-05-24 19:49:13,281] Trial 45 finished with value: 0.37067921012348237 and parameters: {'n_estimators': 94, 'max_depth': 4, 'learning_rate': 0.28252265054657}. Best is trial 21 with value: 0.3871045059466718.\n",
      "[I 2025-05-24 19:49:13,776] Trial 46 finished with value: 0.38118512919909286 and parameters: {'n_estimators': 78, 'max_depth': 5, 'learning_rate': 0.20443963752134964}. Best is trial 21 with value: 0.3871045059466718.\n",
      "[I 2025-05-24 19:49:14,385] Trial 47 finished with value: 0.3721981554117856 and parameters: {'n_estimators': 71, 'max_depth': 7, 'learning_rate': 0.23699640638135275}. Best is trial 21 with value: 0.3871045059466718.\n",
      "[I 2025-05-24 19:49:15,017] Trial 48 finished with value: 0.3833140503585176 and parameters: {'n_estimators': 86, 'max_depth': 6, 'learning_rate': 0.2976819601689843}. Best is trial 21 with value: 0.3871045059466718.\n",
      "[I 2025-05-24 19:49:15,306] Trial 49 finished with value: 0.3710008984154495 and parameters: {'n_estimators': 65, 'max_depth': 3, 'learning_rate': 0.2601419573245145}. Best is trial 21 with value: 0.3871045059466718.\n"
     ]
    }
   ],
   "source": [
    "def objective_xgb_base(trial):\n",
    "    params = {\n",
    "        \"n_estimators\": trial.suggest_int(\"n_estimators\", 50, 100),\n",
    "        \"max_depth\": trial.suggest_int(\"max_depth\", 3, 10),\n",
    "        \"learning_rate\": trial.suggest_float(\"learning_rate\", 0.01, 0.3),\n",
    "        \"eval_metric\": \"mlogloss\"\n",
    "    }\n",
    "    model = XGBClassifier(**params, random_state=7, verbosity=0)\n",
    "    model.fit(X_train_base, y_train)\n",
    "    preds = model.predict(X_val_base)\n",
    "    return kappa_metric(y_val, preds)\n",
    "\n",
    "study_xgb = optuna.create_study(\n",
    "    direction=\"maximize\",\n",
    "    study_name=\"xgb_dl_base_one_hot\",\n",
    "    storage=storage,\n",
    "    load_if_exists=True\n",
    ")\n",
    "study_xgb.optimize(objective_xgb_base, n_trials=50)\n",
    "\n",
    "model_xgb = XGBClassifier(**study_xgb.best_params, random_state=7, eval_metric=\"mlogloss\")\n",
    "model_xgb.fit(X_train_base, y_train)\n",
    "preds_xgb = model_xgb.predict(X_val_base)"
   ]
  },
  {
   "cell_type": "code",
   "execution_count": 242,
   "id": "9f13e220-ee58-487e-a3f0-419e6ad91fdb",
   "metadata": {},
   "outputs": [
    {
     "name": "stderr",
     "output_type": "stream",
     "text": [
      "[I 2025-05-24 19:49:25,897] A new study created in RDB with name: lgb_dl_base_one_hot\n",
      "[I 2025-05-24 19:49:27,371] Trial 0 finished with value: 0.3836218349959394 and parameters: {'n_estimators': 94, 'max_depth': 9, 'learning_rate': 0.05299287003149758}. Best is trial 0 with value: 0.3836218349959394.\n",
      "[I 2025-05-24 19:49:28,010] Trial 1 finished with value: 0.3728478254642391 and parameters: {'n_estimators': 97, 'max_depth': 4, 'learning_rate': 0.1705223658959736}. Best is trial 0 with value: 0.3836218349959394.\n",
      "[I 2025-05-24 19:49:29,119] Trial 2 finished with value: 0.3369725611453024 and parameters: {'n_estimators': 88, 'max_depth': 5, 'learning_rate': 0.01809120420106244}. Best is trial 0 with value: 0.3836218349959394.\n",
      "[I 2025-05-24 19:49:30,114] Trial 3 finished with value: 0.3505715024608129 and parameters: {'n_estimators': 63, 'max_depth': 7, 'learning_rate': 0.02238869037241677}. Best is trial 0 with value: 0.3836218349959394.\n",
      "[I 2025-05-24 19:49:31,273] Trial 4 finished with value: 0.38358776168700515 and parameters: {'n_estimators': 86, 'max_depth': 7, 'learning_rate': 0.1481303295934557}. Best is trial 0 with value: 0.3836218349959394.\n",
      "[I 2025-05-24 19:49:32,308] Trial 5 finished with value: 0.3782831891706624 and parameters: {'n_estimators': 68, 'max_depth': 9, 'learning_rate': 0.2568549842040731}. Best is trial 0 with value: 0.3836218349959394.\n",
      "[I 2025-05-24 19:49:32,608] Trial 6 finished with value: 0.36280375007605214 and parameters: {'n_estimators': 60, 'max_depth': 3, 'learning_rate': 0.11543950783949106}. Best is trial 0 with value: 0.3836218349959394.\n",
      "[I 2025-05-24 19:49:33,104] Trial 7 finished with value: 0.3719076798009787 and parameters: {'n_estimators': 70, 'max_depth': 4, 'learning_rate': 0.24305623646067206}. Best is trial 0 with value: 0.3836218349959394.\n",
      "[I 2025-05-24 19:49:33,877] Trial 8 finished with value: 0.3738992099034467 and parameters: {'n_estimators': 50, 'max_depth': 10, 'learning_rate': 0.2586000047893776}. Best is trial 0 with value: 0.3836218349959394.\n",
      "[I 2025-05-24 19:49:34,819] Trial 9 finished with value: 0.3923534668255032 and parameters: {'n_estimators': 61, 'max_depth': 10, 'learning_rate': 0.08334102401523258}. Best is trial 9 with value: 0.3923534668255032.\n",
      "[I 2025-05-24 19:49:35,622] Trial 10 finished with value: 0.3814749788143632 and parameters: {'n_estimators': 50, 'max_depth': 10, 'learning_rate': 0.09572028800007677}. Best is trial 9 with value: 0.3923534668255032.\n",
      "[I 2025-05-24 19:49:36,783] Trial 11 finished with value: 0.38853521500749877 and parameters: {'n_estimators': 81, 'max_depth': 8, 'learning_rate': 0.06846074786282758}. Best is trial 9 with value: 0.3923534668255032.\n",
      "[I 2025-05-24 19:49:37,954] Trial 12 finished with value: 0.3852385034972402 and parameters: {'n_estimators': 78, 'max_depth': 8, 'learning_rate': 0.08088046857938119}. Best is trial 9 with value: 0.3923534668255032.\n",
      "[I 2025-05-24 19:49:39,101] Trial 13 finished with value: 0.38040513227314177 and parameters: {'n_estimators': 79, 'max_depth': 8, 'learning_rate': 0.1852693264036751}. Best is trial 9 with value: 0.3923534668255032.\n",
      "[I 2025-05-24 19:49:40,080] Trial 14 finished with value: 0.39521141629966483 and parameters: {'n_estimators': 74, 'max_depth': 6, 'learning_rate': 0.12640739586348632}. Best is trial 14 with value: 0.39521141629966483.\n",
      "[I 2025-05-24 19:49:40,851] Trial 15 finished with value: 0.37023767947387565 and parameters: {'n_estimators': 58, 'max_depth': 6, 'learning_rate': 0.1442755143678229}. Best is trial 14 with value: 0.39521141629966483.\n",
      "[I 2025-05-24 19:49:41,774] Trial 16 finished with value: 0.3564182588933581 and parameters: {'n_estimators': 71, 'max_depth': 6, 'learning_rate': 0.2059779380479804}. Best is trial 14 with value: 0.39521141629966483.\n",
      "[I 2025-05-24 19:49:42,460] Trial 17 finished with value: 0.3735734857663565 and parameters: {'n_estimators': 65, 'max_depth': 5, 'learning_rate': 0.11808311603052915}. Best is trial 14 with value: 0.39521141629966483.\n",
      "[I 2025-05-24 19:49:43,174] Trial 18 finished with value: 0.37464626941064383 and parameters: {'n_estimators': 74, 'max_depth': 5, 'learning_rate': 0.21348314843036287}. Best is trial 14 with value: 0.39521141629966483.\n",
      "[I 2025-05-24 19:49:43,995] Trial 19 finished with value: 0.36396745714231793 and parameters: {'n_estimators': 56, 'max_depth': 9, 'learning_rate': 0.2888788430879062}. Best is trial 14 with value: 0.39521141629966483.\n",
      "[I 2025-05-24 19:49:45,248] Trial 20 finished with value: 0.3770543209162006 and parameters: {'n_estimators': 85, 'max_depth': 7, 'learning_rate': 0.04417156281449652}. Best is trial 14 with value: 0.39521141629966483.\n",
      "[I 2025-05-24 19:49:46,447] Trial 21 finished with value: 0.3794268806571204 and parameters: {'n_estimators': 81, 'max_depth': 8, 'learning_rate': 0.07176580926959508}. Best is trial 14 with value: 0.39521141629966483.\n",
      "[I 2025-05-24 19:49:47,657] Trial 22 finished with value: 0.38167578645189715 and parameters: {'n_estimators': 75, 'max_depth': 10, 'learning_rate': 0.11450260536082107}. Best is trial 14 with value: 0.39521141629966483.\n",
      "[I 2025-05-24 19:49:49,127] Trial 23 finished with value: 0.379668164344912 and parameters: {'n_estimators': 91, 'max_depth': 8, 'learning_rate': 0.06022707272520224}. Best is trial 14 with value: 0.39521141629966483.\n",
      "[I 2025-05-24 19:49:50,158] Trial 24 finished with value: 0.38744051318398076 and parameters: {'n_estimators': 82, 'max_depth': 6, 'learning_rate': 0.09428165565626233}. Best is trial 14 with value: 0.39521141629966483.\n",
      "[I 2025-05-24 19:49:51,239] Trial 25 finished with value: 0.3862821190163287 and parameters: {'n_estimators': 75, 'max_depth': 9, 'learning_rate': 0.13432737754020424}. Best is trial 14 with value: 0.39521141629966483.\n",
      "[I 2025-05-24 19:49:52,292] Trial 26 finished with value: 0.3753898778469542 and parameters: {'n_estimators': 64, 'max_depth': 7, 'learning_rate': 0.03846478728861481}. Best is trial 14 with value: 0.39521141629966483.\n",
      "[I 2025-05-24 19:49:53,770] Trial 27 finished with value: 0.3715584161149026 and parameters: {'n_estimators': 100, 'max_depth': 10, 'learning_rate': 0.0909381474531489}. Best is trial 14 with value: 0.39521141629966483.\n",
      "[I 2025-05-24 19:49:54,577] Trial 28 finished with value: 0.3908080288875162 and parameters: {'n_estimators': 54, 'max_depth': 9, 'learning_rate': 0.12672991061615574}. Best is trial 14 with value: 0.39521141629966483.\n",
      "[I 2025-05-24 19:49:55,372] Trial 29 finished with value: 0.3868299909410041 and parameters: {'n_estimators': 54, 'max_depth': 9, 'learning_rate': 0.17422756209558912}. Best is trial 14 with value: 0.39521141629966483.\n",
      "[I 2025-05-24 19:49:56,501] Trial 30 finished with value: 0.3898406177292574 and parameters: {'n_estimators': 53, 'max_depth': 10, 'learning_rate': 0.1312666862187888}. Best is trial 14 with value: 0.39521141629966483.\n",
      "[I 2025-05-24 19:49:57,343] Trial 31 finished with value: 0.39021974398566184 and parameters: {'n_estimators': 54, 'max_depth': 10, 'learning_rate': 0.12884478762240067}. Best is trial 14 with value: 0.39521141629966483.\n",
      "[I 2025-05-24 19:49:58,252] Trial 32 finished with value: 0.3858914967354027 and parameters: {'n_estimators': 60, 'max_depth': 10, 'learning_rate': 0.1606214032396196}. Best is trial 14 with value: 0.39521141629966483.\n",
      "[I 2025-05-24 19:49:59,089] Trial 33 finished with value: 0.37795427686772154 and parameters: {'n_estimators': 55, 'max_depth': 9, 'learning_rate': 0.10486643344280146}. Best is trial 14 with value: 0.39521141629966483.\n",
      "[I 2025-05-24 19:49:59,988] Trial 34 finished with value: 0.3743433426652698 and parameters: {'n_estimators': 60, 'max_depth': 9, 'learning_rate': 0.13164022018052957}. Best is trial 14 with value: 0.39521141629966483.\n",
      "[I 2025-05-24 19:50:00,969] Trial 35 finished with value: 0.38064312033934733 and parameters: {'n_estimators': 66, 'max_depth': 10, 'learning_rate': 0.16232847001542816}. Best is trial 14 with value: 0.39521141629966483.\n",
      "[I 2025-05-24 19:50:01,581] Trial 36 finished with value: 0.3825970559341825 and parameters: {'n_estimators': 62, 'max_depth': 5, 'learning_rate': 0.19325158404989623}. Best is trial 14 with value: 0.39521141629966483.\n",
      "[I 2025-05-24 19:50:02,461] Trial 37 finished with value: 0.3878727990761217 and parameters: {'n_estimators': 57, 'max_depth': 10, 'learning_rate': 0.14969135783980628}. Best is trial 14 with value: 0.39521141629966483.\n",
      "[I 2025-05-24 19:50:02,866] Trial 38 finished with value: 0.3064032569201812 and parameters: {'n_estimators': 52, 'max_depth': 4, 'learning_rate': 0.026239792771163478}. Best is trial 14 with value: 0.39521141629966483.\n",
      "[I 2025-05-24 19:50:03,891] Trial 39 finished with value: 0.3920261397800845 and parameters: {'n_estimators': 69, 'max_depth': 9, 'learning_rate': 0.11429517634602152}. Best is trial 14 with value: 0.39521141629966483.\n",
      "[I 2025-05-24 19:50:04,856] Trial 40 finished with value: 0.38037055063589154 and parameters: {'n_estimators': 70, 'max_depth': 7, 'learning_rate': 0.10684285622028301}. Best is trial 14 with value: 0.39521141629966483.\n",
      "[I 2025-05-24 19:50:05,852] Trial 41 finished with value: 0.37708369138492615 and parameters: {'n_estimators': 68, 'max_depth': 9, 'learning_rate': 0.12265189010321194}. Best is trial 14 with value: 0.39521141629966483.\n",
      "[I 2025-05-24 19:50:06,914] Trial 42 finished with value: 0.3869163634613495 and parameters: {'n_estimators': 72, 'max_depth': 8, 'learning_rate': 0.08023868763762737}. Best is trial 14 with value: 0.39521141629966483.\n",
      "[I 2025-05-24 19:50:07,824] Trial 43 finished with value: 0.37840817198881616 and parameters: {'n_estimators': 62, 'max_depth': 9, 'learning_rate': 0.142424742413152}. Best is trial 14 with value: 0.39521141629966483.\n",
      "[I 2025-05-24 19:50:08,882] Trial 44 finished with value: 0.38986010889556244 and parameters: {'n_estimators': 68, 'max_depth': 10, 'learning_rate': 0.09074308146637225}. Best is trial 14 with value: 0.39521141629966483.\n",
      "[I 2025-05-24 19:50:09,556] Trial 45 finished with value: 0.3802467173509987 and parameters: {'n_estimators': 51, 'max_depth': 6, 'learning_rate': 0.10343361296902659}. Best is trial 14 with value: 0.39521141629966483.\n",
      "[I 2025-05-24 19:50:10,432] Trial 46 finished with value: 0.3780575655058831 and parameters: {'n_estimators': 59, 'max_depth': 9, 'learning_rate': 0.1719623221319872}. Best is trial 14 with value: 0.39521141629966483.\n",
      "[I 2025-05-24 19:50:10,700] Trial 47 finished with value: 0.3675627606397077 and parameters: {'n_estimators': 55, 'max_depth': 3, 'learning_rate': 0.12061513552127598}. Best is trial 14 with value: 0.39521141629966483.\n",
      "[I 2025-05-24 19:50:11,743] Trial 48 finished with value: 0.38098627251511163 and parameters: {'n_estimators': 67, 'max_depth': 10, 'learning_rate': 0.07353768294132215}. Best is trial 14 with value: 0.39521141629966483.\n",
      "[I 2025-05-24 19:50:12,768] Trial 49 finished with value: 0.31927162924320696 and parameters: {'n_estimators': 63, 'max_depth': 8, 'learning_rate': 0.010093446465725048}. Best is trial 14 with value: 0.39521141629966483.\n"
     ]
    }
   ],
   "source": [
    "def objective_lgb_base(trial):\n",
    "    params = {\n",
    "        \"n_estimators\": trial.suggest_int(\"n_estimators\", 50, 100),\n",
    "        \"max_depth\": trial.suggest_int(\"max_depth\", 3, 10),\n",
    "        \"learning_rate\": trial.suggest_float(\"learning_rate\", 0.01, 0.3),\n",
    "    }\n",
    "    model = LGBMClassifier(**params, random_state=7, verbosity=-1)\n",
    "    model.fit(X_train_base, y_train)\n",
    "    preds = model.predict(X_val_base)\n",
    "    return kappa_metric(y_val, preds)\n",
    "\n",
    "study_lgb = optuna.create_study(\n",
    "    direction=\"maximize\",\n",
    "    study_name=\"lgb_dl_base_one_hot\",\n",
    "    storage=storage,\n",
    "    load_if_exists=True\n",
    ")\n",
    "study_lgb.optimize(objective_lgb_base, n_trials=50)\n",
    "\n",
    "model_lgb = LGBMClassifier(**study_lgb.best_params, random_state=7)\n",
    "model_lgb.fit(X_train_base, y_train)\n",
    "preds_lgb = model_lgb.predict(X_val_base)"
   ]
  },
  {
   "cell_type": "code",
   "execution_count": 138,
   "id": "6c2673db-2a67-47f9-a7f0-5c79cc6e9ece",
   "metadata": {},
   "outputs": [
    {
     "data": {
      "text/plain": [
       "array([2, 1, 2, ..., 2, 4, 1])"
      ]
     },
     "execution_count": 138,
     "metadata": {},
     "output_type": "execute_result"
    }
   ],
   "source": [
    "preds_rf_base"
   ]
  },
  {
   "cell_type": "code",
   "execution_count": 243,
   "id": "f926539a-5d53-40b8-a1c6-d7e174ec77c6",
   "metadata": {},
   "outputs": [
    {
     "name": "stdout",
     "output_type": "stream",
     "text": [
      "Cohen's Kappa del Ensemble: 0.2424\n"
     ]
    }
   ],
   "source": [
    "all_preds_base = np.vstack([preds_rf_base, preds_xgb, preds_lgb])\n",
    "ensemble_preds_base = mode(all_preds_base, axis=0).mode\n",
    "final_kappa_base = cohen_kappa_score(y_val, ensemble_preds_base)\n",
    "print(f\"Cohen's Kappa del Ensemble: {final_kappa_base:.4f}\")"
   ]
  },
  {
   "cell_type": "code",
   "execution_count": 244,
   "id": "682ec534-b8ca-4ad0-9b1a-59c8aaf56f8a",
   "metadata": {},
   "outputs": [
    {
     "name": "stdout",
     "output_type": "stream",
     "text": [
      "0.21963627705069355\n",
      "0.17803454231688143\n",
      "0.17803011269605096\n"
     ]
    }
   ],
   "source": [
    "proba_rf_base = model_rf_base.predict_proba(X_val_base)\n",
    "proba_xgb_base = model_xgb.predict_proba(X_val_base)\n",
    "proba_lgb_base = model_lgb.predict_proba(X_val_base)\n",
    "\n",
    "rf_pred_base = proba_rf_base.argmax(axis=1)\n",
    "xgb_pred_base = proba_xgb.argmax(axis=1)\n",
    "lgb_pred_base = proba_lgb.argmax(axis=1)\n",
    "\n",
    "print(cohen_kappa_score(y_val, rf_pred_base))\n",
    "print(cohen_kappa_score(y_val, xgb_pred_base))\n",
    "print(cohen_kappa_score(y_val, lgb_pred_base))"
   ]
  },
  {
   "cell_type": "markdown",
   "id": "97755507-3cb0-4c0a-ad5c-dc6cad0c41df",
   "metadata": {},
   "source": [
    "# Ensemble Text"
   ]
  },
  {
   "cell_type": "code",
   "execution_count": 140,
   "id": "80361cb6-df46-4465-9520-c9c82fce5a79",
   "metadata": {},
   "outputs": [
    {
     "data": {
      "text/html": [
       "<div>\n",
       "<style scoped>\n",
       "    .dataframe tbody tr th:only-of-type {\n",
       "        vertical-align: middle;\n",
       "    }\n",
       "\n",
       "    .dataframe tbody tr th {\n",
       "        vertical-align: top;\n",
       "    }\n",
       "\n",
       "    .dataframe thead th {\n",
       "        text-align: right;\n",
       "    }\n",
       "</style>\n",
       "<table border=\"1\" class=\"dataframe\">\n",
       "  <thead>\n",
       "    <tr style=\"text-align: right;\">\n",
       "      <th></th>\n",
       "      <th>Type</th>\n",
       "      <th>Name</th>\n",
       "      <th>Age</th>\n",
       "      <th>Breed1</th>\n",
       "      <th>Breed2</th>\n",
       "      <th>Gender</th>\n",
       "      <th>Color1</th>\n",
       "      <th>Color2</th>\n",
       "      <th>Color3</th>\n",
       "      <th>MaturitySize</th>\n",
       "      <th>...</th>\n",
       "      <th>Dewormed_Bin</th>\n",
       "      <th>Sterilized_Bin</th>\n",
       "      <th>HealthScore</th>\n",
       "      <th>Sentiment_Negativo</th>\n",
       "      <th>Sentiment_Neutro</th>\n",
       "      <th>Sentiment_Positivo</th>\n",
       "      <th>RescuerGroup</th>\n",
       "      <th>ID</th>\n",
       "      <th>Probabilities</th>\n",
       "      <th>Prediction</th>\n",
       "    </tr>\n",
       "  </thead>\n",
       "  <tbody>\n",
       "    <tr>\n",
       "      <th>0</th>\n",
       "      <td>2</td>\n",
       "      <td>Oreo</td>\n",
       "      <td>3</td>\n",
       "      <td>266</td>\n",
       "      <td>0</td>\n",
       "      <td>1</td>\n",
       "      <td>1</td>\n",
       "      <td>7</td>\n",
       "      <td>0</td>\n",
       "      <td>2</td>\n",
       "      <td>...</td>\n",
       "      <td>1</td>\n",
       "      <td>0</td>\n",
       "      <td>1</td>\n",
       "      <td>False</td>\n",
       "      <td>False</td>\n",
       "      <td>True</td>\n",
       "      <td>3</td>\n",
       "      <td>e46744bb9</td>\n",
       "      <td>[0.00975405 0.58259273 0.31584060 0.08191197 0...</td>\n",
       "      <td>1</td>\n",
       "    </tr>\n",
       "    <tr>\n",
       "      <th>1</th>\n",
       "      <td>2</td>\n",
       "      <td>Husky</td>\n",
       "      <td>2</td>\n",
       "      <td>266</td>\n",
       "      <td>0</td>\n",
       "      <td>1</td>\n",
       "      <td>1</td>\n",
       "      <td>7</td>\n",
       "      <td>0</td>\n",
       "      <td>1</td>\n",
       "      <td>...</td>\n",
       "      <td>0</td>\n",
       "      <td>0</td>\n",
       "      <td>0</td>\n",
       "      <td>False</td>\n",
       "      <td>False</td>\n",
       "      <td>True</td>\n",
       "      <td>2</td>\n",
       "      <td>de12dc945</td>\n",
       "      <td>[0.00119368 0.04356433 0.53542107 0.41577843 0...</td>\n",
       "      <td>2</td>\n",
       "    </tr>\n",
       "    <tr>\n",
       "      <th>2</th>\n",
       "      <td>1</td>\n",
       "      <td>Phoebe</td>\n",
       "      <td>48</td>\n",
       "      <td>205</td>\n",
       "      <td>0</td>\n",
       "      <td>2</td>\n",
       "      <td>2</td>\n",
       "      <td>7</td>\n",
       "      <td>0</td>\n",
       "      <td>1</td>\n",
       "      <td>...</td>\n",
       "      <td>1</td>\n",
       "      <td>1</td>\n",
       "      <td>3</td>\n",
       "      <td>False</td>\n",
       "      <td>False</td>\n",
       "      <td>True</td>\n",
       "      <td>3</td>\n",
       "      <td>cf78e66fd</td>\n",
       "      <td>[0.00103862 0.01274959 0.21784711 0.75383699 0...</td>\n",
       "      <td>3</td>\n",
       "    </tr>\n",
       "  </tbody>\n",
       "</table>\n",
       "<p>3 rows × 52 columns</p>\n",
       "</div>"
      ],
      "text/plain": [
       "   Type    Name  Age  Breed1  Breed2  Gender  Color1  Color2  Color3  \\\n",
       "0     2    Oreo    3     266       0       1       1       7       0   \n",
       "1     2   Husky    2     266       0       1       1       7       0   \n",
       "2     1  Phoebe   48     205       0       2       2       7       0   \n",
       "\n",
       "   MaturitySize  ...  Dewormed_Bin  Sterilized_Bin  HealthScore  \\\n",
       "0             2  ...             1               0            1   \n",
       "1             1  ...             0               0            0   \n",
       "2             1  ...             1               1            3   \n",
       "\n",
       "   Sentiment_Negativo  Sentiment_Neutro  Sentiment_Positivo  RescuerGroup  \\\n",
       "0               False             False                True             3   \n",
       "1               False             False                True             2   \n",
       "2               False             False                True             3   \n",
       "\n",
       "          ID                                      Probabilities  Prediction  \n",
       "0  e46744bb9  [0.00975405 0.58259273 0.31584060 0.08191197 0...           1  \n",
       "1  de12dc945  [0.00119368 0.04356433 0.53542107 0.41577843 0...           2  \n",
       "2  cf78e66fd  [0.00103862 0.01274959 0.21784711 0.75383699 0...           3  \n",
       "\n",
       "[3 rows x 52 columns]"
      ]
     },
     "execution_count": 140,
     "metadata": {},
     "output_type": "execute_result"
    }
   ],
   "source": [
    "X_val_text = pd.merge(df_test, text_pred, left_on='PetID', right_on='ID', how='inner')\n",
    "X_val_text.head(3)"
   ]
  },
  {
   "cell_type": "code",
   "execution_count": 141,
   "id": "acc62dca-153d-478a-81d0-5dd54c8f7489",
   "metadata": {},
   "outputs": [],
   "source": [
    "preds_text = X_val_text['Prediction']"
   ]
  },
  {
   "cell_type": "code",
   "execution_count": 142,
   "id": "749b0bd2-7e4d-4e4f-a434-7b981b255437",
   "metadata": {},
   "outputs": [
    {
     "name": "stdout",
     "output_type": "stream",
     "text": [
      "Cohen's Kappa del Ensemble: 0.2484\n"
     ]
    }
   ],
   "source": [
    "all_preds_text = np.vstack([preds_rf_base, preds_xgb, preds_lgb, preds_text])\n",
    "ensemble_preds_text = mode(all_preds_text, axis=0).mode\n",
    "final_kappa_text = cohen_kappa_score(y_val, ensemble_preds_text)\n",
    "print(f\"Cohen's Kappa del Ensemble: {final_kappa_text:.4f}\")"
   ]
  },
  {
   "cell_type": "markdown",
   "id": "806892f9-c2d0-4fc0-81f6-f3b2b016e4f6",
   "metadata": {},
   "source": [
    "# Ensemble Resnet"
   ]
  },
  {
   "cell_type": "code",
   "execution_count": 148,
   "id": "bc225b3f-d88b-4104-a9d6-a20b74841da0",
   "metadata": {},
   "outputs": [
    {
     "data": {
      "text/plain": [
       "AdoptionSpeed\n",
       "4    4197\n",
       "2    4037\n",
       "3    3259\n",
       "1    3090\n",
       "0     410\n",
       "Name: count, dtype: int64"
      ]
     },
     "execution_count": 148,
     "metadata": {},
     "output_type": "execute_result"
    }
   ],
   "source": [
    "df['AdoptionSpeed'].value_counts()"
   ]
  },
  {
   "cell_type": "code",
   "execution_count": null,
   "id": "692205cf-002a-4b17-98f7-27499c3356f5",
   "metadata": {},
   "outputs": [],
   "source": [
    "resnet_pred."
   ]
  },
  {
   "cell_type": "code",
   "execution_count": 172,
   "id": "d5d34af3-dc3a-4371-8888-56b0f3b656fd",
   "metadata": {},
   "outputs": [
    {
     "ename": "AxisError",
     "evalue": "axis 1 is out of bounds for array of dimension 1",
     "output_type": "error",
     "traceback": [
      "\u001b[31m---------------------------------------------------------------------------\u001b[39m",
      "\u001b[31mAxisError\u001b[39m                                 Traceback (most recent call last)",
      "\u001b[36mCell\u001b[39m\u001b[36m \u001b[39m\u001b[32mIn[172]\u001b[39m\u001b[32m, line 1\u001b[39m\n\u001b[32m----> \u001b[39m\u001b[32m1\u001b[39m resnet_pred_pred = \u001b[43mresnet_pred_pred\u001b[49m\u001b[43m.\u001b[49m\u001b[43mdrop\u001b[49m\u001b[43m(\u001b[49m\u001b[43mcolumns\u001b[49m\u001b[43m=\u001b[49m\u001b[43m[\u001b[49m\u001b[33;43m'\u001b[39;49m\u001b[33;43mPetID\u001b[39;49m\u001b[33;43m'\u001b[39;49m\u001b[43m]\u001b[49m\u001b[43m)\u001b[49m\u001b[43m.\u001b[49m\u001b[43mvalues\u001b[49m\u001b[43m.\u001b[49m\u001b[43margmax\u001b[49m\u001b[43m(\u001b[49m\u001b[43maxis\u001b[49m\u001b[43m=\u001b[49m\u001b[32;43m1\u001b[39;49m\u001b[43m)\u001b[49m\n\u001b[32m      2\u001b[39m resnet_pred_pred = pd.Series(resnet_pred_pred, name=\u001b[33m'\u001b[39m\u001b[33mpred\u001b[39m\u001b[33m'\u001b[39m)\n\u001b[32m      3\u001b[39m resnet_pred_pred\n",
      "\u001b[31mAxisError\u001b[39m: axis 1 is out of bounds for array of dimension 1"
     ]
    }
   ],
   "source": [
    "resnet_pred_pred = resnet_pred_pred.drop(columns=['PetID']).values.argmax(axis=1)\n",
    "resnet_pred_pred = pd.Series(resnet_pred_pred, name='pred')\n",
    "resnet_pred_pred"
   ]
  },
  {
   "cell_type": "code",
   "execution_count": null,
   "id": "9263794e-6268-4bcf-825d-e63890a922d9",
   "metadata": {},
   "outputs": [],
   "source": []
  },
  {
   "cell_type": "code",
   "execution_count": 171,
   "id": "44aceae4-26dd-4246-aa58-58f0b8959245",
   "metadata": {},
   "outputs": [
    {
     "ename": "SyntaxError",
     "evalue": "'(' was never closed (3523336772.py, line 1)",
     "output_type": "error",
     "traceback": [
      "  \u001b[36mCell\u001b[39m\u001b[36m \u001b[39m\u001b[32mIn[171]\u001b[39m\u001b[32m, line 1\u001b[39m\n\u001b[31m    \u001b[39m\u001b[31mresnet_pred_pred = pd.Series(resnet_pred.drop(columns=['PetID']).values.argmax(axis=1)\u001b[39m\n                                ^\n\u001b[31mSyntaxError\u001b[39m\u001b[31m:\u001b[39m '(' was never closed\n"
     ]
    }
   ],
   "source": [
    "resnet_pred_pred = pd.Series(resnet_pred\n",
    "resnet_pred_pred"
   ]
  },
  {
   "cell_type": "code",
   "execution_count": 169,
   "id": "f0f48355-7d5c-4007-be41-a52a36418f0c",
   "metadata": {},
   "outputs": [
    {
     "ename": "ValueError",
     "evalue": "Cannot merge a Series without a name",
     "output_type": "error",
     "traceback": [
      "\u001b[31m---------------------------------------------------------------------------\u001b[39m",
      "\u001b[31mValueError\u001b[39m                                Traceback (most recent call last)",
      "\u001b[36mCell\u001b[39m\u001b[36m \u001b[39m\u001b[32mIn[169]\u001b[39m\u001b[32m, line 1\u001b[39m\n\u001b[32m----> \u001b[39m\u001b[32m1\u001b[39m resnet_pred_merged = \u001b[43mpd\u001b[49m\u001b[43m.\u001b[49m\u001b[43mmerge\u001b[49m\u001b[43m(\u001b[49m\u001b[43mresnet_pred\u001b[49m\u001b[43m,\u001b[49m\u001b[43m \u001b[49m\u001b[43mresnet_pred_pred\u001b[49m\u001b[43m,\u001b[49m\u001b[43m \u001b[49m\u001b[43mleft_index\u001b[49m\u001b[43m=\u001b[49m\u001b[38;5;28;43;01mTrue\u001b[39;49;00m\u001b[43m,\u001b[49m\u001b[43m \u001b[49m\u001b[43mright_index\u001b[49m\u001b[43m=\u001b[49m\u001b[38;5;28;43;01mTrue\u001b[39;49;00m\u001b[43m)\u001b[49m\n\u001b[32m      2\u001b[39m resnet_pred_merged\n",
      "\u001b[36mFile \u001b[39m\u001b[32m~/anaconda3/envs/ldi2/lib/python3.12/site-packages/pandas/core/reshape/merge.py:153\u001b[39m, in \u001b[36mmerge\u001b[39m\u001b[34m(left, right, how, on, left_on, right_on, left_index, right_index, sort, suffixes, copy, indicator, validate)\u001b[39m\n\u001b[32m    135\u001b[39m \u001b[38;5;129m@Substitution\u001b[39m(\u001b[33m\"\u001b[39m\u001b[38;5;130;01m\\n\u001b[39;00m\u001b[33mleft : DataFrame or named Series\u001b[39m\u001b[33m\"\u001b[39m)\n\u001b[32m    136\u001b[39m \u001b[38;5;129m@Appender\u001b[39m(_merge_doc, indents=\u001b[32m0\u001b[39m)\n\u001b[32m    137\u001b[39m \u001b[38;5;28;01mdef\u001b[39;00m\u001b[38;5;250m \u001b[39m\u001b[34mmerge\u001b[39m(\n\u001b[32m   (...)\u001b[39m\u001b[32m    150\u001b[39m     validate: \u001b[38;5;28mstr\u001b[39m | \u001b[38;5;28;01mNone\u001b[39;00m = \u001b[38;5;28;01mNone\u001b[39;00m,\n\u001b[32m    151\u001b[39m ) -> DataFrame:\n\u001b[32m    152\u001b[39m     left_df = _validate_operand(left)\n\u001b[32m--> \u001b[39m\u001b[32m153\u001b[39m     right_df = \u001b[43m_validate_operand\u001b[49m\u001b[43m(\u001b[49m\u001b[43mright\u001b[49m\u001b[43m)\u001b[49m\n\u001b[32m    154\u001b[39m     \u001b[38;5;28;01mif\u001b[39;00m how == \u001b[33m\"\u001b[39m\u001b[33mcross\u001b[39m\u001b[33m\"\u001b[39m:\n\u001b[32m    155\u001b[39m         \u001b[38;5;28;01mreturn\u001b[39;00m _cross_merge(\n\u001b[32m    156\u001b[39m             left_df,\n\u001b[32m    157\u001b[39m             right_df,\n\u001b[32m   (...)\u001b[39m\u001b[32m    167\u001b[39m             copy=copy,\n\u001b[32m    168\u001b[39m         )\n",
      "\u001b[36mFile \u001b[39m\u001b[32m~/anaconda3/envs/ldi2/lib/python3.12/site-packages/pandas/core/reshape/merge.py:2689\u001b[39m, in \u001b[36m_validate_operand\u001b[39m\u001b[34m(obj)\u001b[39m\n\u001b[32m   2687\u001b[39m \u001b[38;5;28;01melif\u001b[39;00m \u001b[38;5;28misinstance\u001b[39m(obj, ABCSeries):\n\u001b[32m   2688\u001b[39m     \u001b[38;5;28;01mif\u001b[39;00m obj.name \u001b[38;5;129;01mis\u001b[39;00m \u001b[38;5;28;01mNone\u001b[39;00m:\n\u001b[32m-> \u001b[39m\u001b[32m2689\u001b[39m         \u001b[38;5;28;01mraise\u001b[39;00m \u001b[38;5;167;01mValueError\u001b[39;00m(\u001b[33m\"\u001b[39m\u001b[33mCannot merge a Series without a name\u001b[39m\u001b[33m\"\u001b[39m)\n\u001b[32m   2690\u001b[39m     \u001b[38;5;28;01mreturn\u001b[39;00m obj.to_frame()\n\u001b[32m   2691\u001b[39m \u001b[38;5;28;01melse\u001b[39;00m:\n",
      "\u001b[31mValueError\u001b[39m: Cannot merge a Series without a name"
     ]
    }
   ],
   "source": [
    "resnet_pred_merged = pd.merge(resnet_pred, resnet_pred_pred, left_index=True, right_index=True)\n",
    "resnet_pred_merged"
   ]
  },
  {
   "cell_type": "code",
   "execution_count": 143,
   "id": "bc33130e-c443-4f38-88c2-9fa09092fa86",
   "metadata": {},
   "outputs": [
    {
     "data": {
      "text/html": [
       "<div>\n",
       "<style scoped>\n",
       "    .dataframe tbody tr th:only-of-type {\n",
       "        vertical-align: middle;\n",
       "    }\n",
       "\n",
       "    .dataframe tbody tr th {\n",
       "        vertical-align: top;\n",
       "    }\n",
       "\n",
       "    .dataframe thead th {\n",
       "        text-align: right;\n",
       "    }\n",
       "</style>\n",
       "<table border=\"1\" class=\"dataframe\">\n",
       "  <thead>\n",
       "    <tr style=\"text-align: right;\">\n",
       "      <th></th>\n",
       "      <th>Type</th>\n",
       "      <th>Name</th>\n",
       "      <th>Age</th>\n",
       "      <th>Breed1</th>\n",
       "      <th>Breed2</th>\n",
       "      <th>Gender</th>\n",
       "      <th>Color1</th>\n",
       "      <th>Color2</th>\n",
       "      <th>Color3</th>\n",
       "      <th>MaturitySize</th>\n",
       "      <th>...</th>\n",
       "      <th>HealthScore</th>\n",
       "      <th>Sentiment_Negativo</th>\n",
       "      <th>Sentiment_Neutro</th>\n",
       "      <th>Sentiment_Positivo</th>\n",
       "      <th>RescuerGroup</th>\n",
       "      <th>prob_class_0</th>\n",
       "      <th>prob_class_1</th>\n",
       "      <th>prob_class_2</th>\n",
       "      <th>prob_class_3</th>\n",
       "      <th>prob_class_4</th>\n",
       "    </tr>\n",
       "  </thead>\n",
       "  <tbody>\n",
       "    <tr>\n",
       "      <th>0</th>\n",
       "      <td>2</td>\n",
       "      <td>Oreo</td>\n",
       "      <td>3</td>\n",
       "      <td>266</td>\n",
       "      <td>0</td>\n",
       "      <td>1</td>\n",
       "      <td>1</td>\n",
       "      <td>7</td>\n",
       "      <td>0</td>\n",
       "      <td>2</td>\n",
       "      <td>...</td>\n",
       "      <td>1</td>\n",
       "      <td>False</td>\n",
       "      <td>False</td>\n",
       "      <td>True</td>\n",
       "      <td>3</td>\n",
       "      <td>0.058776</td>\n",
       "      <td>0.133278</td>\n",
       "      <td>0.241755</td>\n",
       "      <td>0.181376</td>\n",
       "      <td>0.384815</td>\n",
       "    </tr>\n",
       "    <tr>\n",
       "      <th>1</th>\n",
       "      <td>2</td>\n",
       "      <td>Husky</td>\n",
       "      <td>2</td>\n",
       "      <td>266</td>\n",
       "      <td>0</td>\n",
       "      <td>1</td>\n",
       "      <td>1</td>\n",
       "      <td>7</td>\n",
       "      <td>0</td>\n",
       "      <td>1</td>\n",
       "      <td>...</td>\n",
       "      <td>0</td>\n",
       "      <td>False</td>\n",
       "      <td>False</td>\n",
       "      <td>True</td>\n",
       "      <td>2</td>\n",
       "      <td>0.015547</td>\n",
       "      <td>0.110740</td>\n",
       "      <td>0.255631</td>\n",
       "      <td>0.117561</td>\n",
       "      <td>0.500521</td>\n",
       "    </tr>\n",
       "    <tr>\n",
       "      <th>2</th>\n",
       "      <td>1</td>\n",
       "      <td>Phoebe</td>\n",
       "      <td>48</td>\n",
       "      <td>205</td>\n",
       "      <td>0</td>\n",
       "      <td>2</td>\n",
       "      <td>2</td>\n",
       "      <td>7</td>\n",
       "      <td>0</td>\n",
       "      <td>1</td>\n",
       "      <td>...</td>\n",
       "      <td>3</td>\n",
       "      <td>False</td>\n",
       "      <td>False</td>\n",
       "      <td>True</td>\n",
       "      <td>3</td>\n",
       "      <td>0.029485</td>\n",
       "      <td>0.349746</td>\n",
       "      <td>0.393155</td>\n",
       "      <td>0.215309</td>\n",
       "      <td>0.012305</td>\n",
       "    </tr>\n",
       "  </tbody>\n",
       "</table>\n",
       "<p>3 rows × 54 columns</p>\n",
       "</div>"
      ],
      "text/plain": [
       "   Type    Name  Age  Breed1  Breed2  Gender  Color1  Color2  Color3  \\\n",
       "0     2    Oreo    3     266       0       1       1       7       0   \n",
       "1     2   Husky    2     266       0       1       1       7       0   \n",
       "2     1  Phoebe   48     205       0       2       2       7       0   \n",
       "\n",
       "   MaturitySize  ...  HealthScore  Sentiment_Negativo  Sentiment_Neutro  \\\n",
       "0             2  ...            1               False             False   \n",
       "1             1  ...            0               False             False   \n",
       "2             1  ...            3               False             False   \n",
       "\n",
       "   Sentiment_Positivo  RescuerGroup  prob_class_0  prob_class_1  prob_class_2  \\\n",
       "0                True             3      0.058776      0.133278      0.241755   \n",
       "1                True             2      0.015547      0.110740      0.255631   \n",
       "2                True             3      0.029485      0.349746      0.393155   \n",
       "\n",
       "  prob_class_3  prob_class_4  \n",
       "0     0.181376      0.384815  \n",
       "1     0.117561      0.500521  \n",
       "2     0.215309      0.012305  \n",
       "\n",
       "[3 rows x 54 columns]"
      ]
     },
     "execution_count": 143,
     "metadata": {},
     "output_type": "execute_result"
    }
   ],
   "source": [
    "X_val_res = pd.merge(df_test, resnet_pred, left_on='PetID', right_on='PetID', how='left')\n",
    "X_val_res.head(3)"
   ]
  },
  {
   "cell_type": "code",
   "execution_count": 160,
   "id": "7f6df748-8aa6-4401-9f7a-70687a78303b",
   "metadata": {},
   "outputs": [
    {
     "data": {
      "text/plain": [
       "dtype('float64')"
      ]
     },
     "execution_count": 160,
     "metadata": {},
     "output_type": "execute_result"
    }
   ],
   "source": [
    "X_val_res['prob_class_0'].dtype"
   ]
  },
  {
   "cell_type": "code",
   "execution_count": 162,
   "id": "d820952c-5a39-4074-9631-da354322dc44",
   "metadata": {},
   "outputs": [
    {
     "data": {
      "text/plain": [
       "float"
      ]
     },
     "execution_count": 162,
     "metadata": {},
     "output_type": "execute_result"
    }
   ],
   "source": []
  },
  {
   "cell_type": "code",
   "execution_count": 165,
   "id": "5b17a1f6-7acf-4bf8-a9b4-f5d09c9c6dd9",
   "metadata": {},
   "outputs": [
    {
     "data": {
      "text/html": [
       "<div>\n",
       "<style scoped>\n",
       "    .dataframe tbody tr th:only-of-type {\n",
       "        vertical-align: middle;\n",
       "    }\n",
       "\n",
       "    .dataframe tbody tr th {\n",
       "        vertical-align: top;\n",
       "    }\n",
       "\n",
       "    .dataframe thead th {\n",
       "        text-align: right;\n",
       "    }\n",
       "</style>\n",
       "<table border=\"1\" class=\"dataframe\">\n",
       "  <thead>\n",
       "    <tr style=\"text-align: right;\">\n",
       "      <th></th>\n",
       "      <th>Type</th>\n",
       "      <th>Name</th>\n",
       "      <th>Age</th>\n",
       "      <th>Breed1</th>\n",
       "      <th>Breed2</th>\n",
       "      <th>Gender</th>\n",
       "      <th>Color1</th>\n",
       "      <th>Color2</th>\n",
       "      <th>Color3</th>\n",
       "      <th>MaturitySize</th>\n",
       "      <th>...</th>\n",
       "      <th>HealthScore</th>\n",
       "      <th>Sentiment_Negativo</th>\n",
       "      <th>Sentiment_Neutro</th>\n",
       "      <th>Sentiment_Positivo</th>\n",
       "      <th>RescuerGroup</th>\n",
       "      <th>prob_class_0</th>\n",
       "      <th>prob_class_1</th>\n",
       "      <th>prob_class_2</th>\n",
       "      <th>prob_class_3</th>\n",
       "      <th>prob_class_4</th>\n",
       "    </tr>\n",
       "  </thead>\n",
       "  <tbody>\n",
       "    <tr>\n",
       "      <th>11</th>\n",
       "      <td>1</td>\n",
       "      <td>Dusty</td>\n",
       "      <td>3</td>\n",
       "      <td>307</td>\n",
       "      <td>0</td>\n",
       "      <td>2</td>\n",
       "      <td>2</td>\n",
       "      <td>7</td>\n",
       "      <td>0</td>\n",
       "      <td>1</td>\n",
       "      <td>...</td>\n",
       "      <td>0</td>\n",
       "      <td>False</td>\n",
       "      <td>False</td>\n",
       "      <td>True</td>\n",
       "      <td>1</td>\n",
       "      <td>NaN</td>\n",
       "      <td>NaN</td>\n",
       "      <td>NaN</td>\n",
       "      <td>NaN</td>\n",
       "      <td>NaN</td>\n",
       "    </tr>\n",
       "    <tr>\n",
       "      <th>16</th>\n",
       "      <td>1</td>\n",
       "      <td>Mitang</td>\n",
       "      <td>10</td>\n",
       "      <td>65</td>\n",
       "      <td>65</td>\n",
       "      <td>2</td>\n",
       "      <td>5</td>\n",
       "      <td>0</td>\n",
       "      <td>0</td>\n",
       "      <td>3</td>\n",
       "      <td>...</td>\n",
       "      <td>3</td>\n",
       "      <td>False</td>\n",
       "      <td>False</td>\n",
       "      <td>True</td>\n",
       "      <td>1</td>\n",
       "      <td>NaN</td>\n",
       "      <td>NaN</td>\n",
       "      <td>NaN</td>\n",
       "      <td>NaN</td>\n",
       "      <td>NaN</td>\n",
       "    </tr>\n",
       "    <tr>\n",
       "      <th>81</th>\n",
       "      <td>2</td>\n",
       "      <td>Golden short tail</td>\n",
       "      <td>3</td>\n",
       "      <td>266</td>\n",
       "      <td>0</td>\n",
       "      <td>1</td>\n",
       "      <td>3</td>\n",
       "      <td>0</td>\n",
       "      <td>0</td>\n",
       "      <td>2</td>\n",
       "      <td>...</td>\n",
       "      <td>2</td>\n",
       "      <td>False</td>\n",
       "      <td>False</td>\n",
       "      <td>True</td>\n",
       "      <td>3</td>\n",
       "      <td>NaN</td>\n",
       "      <td>NaN</td>\n",
       "      <td>NaN</td>\n",
       "      <td>NaN</td>\n",
       "      <td>NaN</td>\n",
       "    </tr>\n",
       "    <tr>\n",
       "      <th>128</th>\n",
       "      <td>2</td>\n",
       "      <td>Rain</td>\n",
       "      <td>11</td>\n",
       "      <td>266</td>\n",
       "      <td>0</td>\n",
       "      <td>1</td>\n",
       "      <td>1</td>\n",
       "      <td>6</td>\n",
       "      <td>7</td>\n",
       "      <td>2</td>\n",
       "      <td>...</td>\n",
       "      <td>3</td>\n",
       "      <td>False</td>\n",
       "      <td>False</td>\n",
       "      <td>True</td>\n",
       "      <td>1</td>\n",
       "      <td>NaN</td>\n",
       "      <td>NaN</td>\n",
       "      <td>NaN</td>\n",
       "      <td>NaN</td>\n",
       "      <td>NaN</td>\n",
       "    </tr>\n",
       "    <tr>\n",
       "      <th>134</th>\n",
       "      <td>1</td>\n",
       "      <td>No name</td>\n",
       "      <td>135</td>\n",
       "      <td>195</td>\n",
       "      <td>0</td>\n",
       "      <td>1</td>\n",
       "      <td>6</td>\n",
       "      <td>7</td>\n",
       "      <td>0</td>\n",
       "      <td>1</td>\n",
       "      <td>...</td>\n",
       "      <td>1</td>\n",
       "      <td>False</td>\n",
       "      <td>False</td>\n",
       "      <td>True</td>\n",
       "      <td>1</td>\n",
       "      <td>NaN</td>\n",
       "      <td>NaN</td>\n",
       "      <td>NaN</td>\n",
       "      <td>NaN</td>\n",
       "      <td>NaN</td>\n",
       "    </tr>\n",
       "    <tr>\n",
       "      <th>...</th>\n",
       "      <td>...</td>\n",
       "      <td>...</td>\n",
       "      <td>...</td>\n",
       "      <td>...</td>\n",
       "      <td>...</td>\n",
       "      <td>...</td>\n",
       "      <td>...</td>\n",
       "      <td>...</td>\n",
       "      <td>...</td>\n",
       "      <td>...</td>\n",
       "      <td>...</td>\n",
       "      <td>...</td>\n",
       "      <td>...</td>\n",
       "      <td>...</td>\n",
       "      <td>...</td>\n",
       "      <td>...</td>\n",
       "      <td>...</td>\n",
       "      <td>...</td>\n",
       "      <td>...</td>\n",
       "      <td>...</td>\n",
       "      <td>...</td>\n",
       "    </tr>\n",
       "    <tr>\n",
       "      <th>2821</th>\n",
       "      <td>2</td>\n",
       "      <td>Looking for a kitten</td>\n",
       "      <td>4</td>\n",
       "      <td>251</td>\n",
       "      <td>292</td>\n",
       "      <td>1</td>\n",
       "      <td>3</td>\n",
       "      <td>4</td>\n",
       "      <td>6</td>\n",
       "      <td>2</td>\n",
       "      <td>...</td>\n",
       "      <td>2</td>\n",
       "      <td>False</td>\n",
       "      <td>False</td>\n",
       "      <td>True</td>\n",
       "      <td>1</td>\n",
       "      <td>NaN</td>\n",
       "      <td>NaN</td>\n",
       "      <td>NaN</td>\n",
       "      <td>NaN</td>\n",
       "      <td>NaN</td>\n",
       "    </tr>\n",
       "    <tr>\n",
       "      <th>2856</th>\n",
       "      <td>2</td>\n",
       "      <td>Anderson</td>\n",
       "      <td>24</td>\n",
       "      <td>266</td>\n",
       "      <td>0</td>\n",
       "      <td>1</td>\n",
       "      <td>6</td>\n",
       "      <td>7</td>\n",
       "      <td>0</td>\n",
       "      <td>2</td>\n",
       "      <td>...</td>\n",
       "      <td>2</td>\n",
       "      <td>False</td>\n",
       "      <td>False</td>\n",
       "      <td>True</td>\n",
       "      <td>3</td>\n",
       "      <td>NaN</td>\n",
       "      <td>NaN</td>\n",
       "      <td>NaN</td>\n",
       "      <td>NaN</td>\n",
       "      <td>NaN</td>\n",
       "    </tr>\n",
       "    <tr>\n",
       "      <th>2907</th>\n",
       "      <td>1</td>\n",
       "      <td>Unnamed</td>\n",
       "      <td>42</td>\n",
       "      <td>150</td>\n",
       "      <td>150</td>\n",
       "      <td>3</td>\n",
       "      <td>2</td>\n",
       "      <td>0</td>\n",
       "      <td>0</td>\n",
       "      <td>2</td>\n",
       "      <td>...</td>\n",
       "      <td>2</td>\n",
       "      <td>False</td>\n",
       "      <td>False</td>\n",
       "      <td>True</td>\n",
       "      <td>1</td>\n",
       "      <td>NaN</td>\n",
       "      <td>NaN</td>\n",
       "      <td>NaN</td>\n",
       "      <td>NaN</td>\n",
       "      <td>NaN</td>\n",
       "    </tr>\n",
       "    <tr>\n",
       "      <th>2963</th>\n",
       "      <td>1</td>\n",
       "      <td>Cream poodle</td>\n",
       "      <td>36</td>\n",
       "      <td>179</td>\n",
       "      <td>0</td>\n",
       "      <td>2</td>\n",
       "      <td>5</td>\n",
       "      <td>0</td>\n",
       "      <td>0</td>\n",
       "      <td>1</td>\n",
       "      <td>...</td>\n",
       "      <td>0</td>\n",
       "      <td>False</td>\n",
       "      <td>False</td>\n",
       "      <td>True</td>\n",
       "      <td>2</td>\n",
       "      <td>NaN</td>\n",
       "      <td>NaN</td>\n",
       "      <td>NaN</td>\n",
       "      <td>NaN</td>\n",
       "      <td>NaN</td>\n",
       "    </tr>\n",
       "    <tr>\n",
       "      <th>2986</th>\n",
       "      <td>1</td>\n",
       "      <td>Hootch</td>\n",
       "      <td>48</td>\n",
       "      <td>213</td>\n",
       "      <td>0</td>\n",
       "      <td>2</td>\n",
       "      <td>2</td>\n",
       "      <td>0</td>\n",
       "      <td>0</td>\n",
       "      <td>2</td>\n",
       "      <td>...</td>\n",
       "      <td>0</td>\n",
       "      <td>False</td>\n",
       "      <td>False</td>\n",
       "      <td>True</td>\n",
       "      <td>1</td>\n",
       "      <td>NaN</td>\n",
       "      <td>NaN</td>\n",
       "      <td>NaN</td>\n",
       "      <td>NaN</td>\n",
       "      <td>NaN</td>\n",
       "    </tr>\n",
       "  </tbody>\n",
       "</table>\n",
       "<p>64 rows × 54 columns</p>\n",
       "</div>"
      ],
      "text/plain": [
       "      Type                  Name  Age  Breed1  Breed2  Gender  Color1  Color2  \\\n",
       "11       1                 Dusty    3     307       0       2       2       7   \n",
       "16       1                Mitang   10      65      65       2       5       0   \n",
       "81       2     Golden short tail    3     266       0       1       3       0   \n",
       "128      2                  Rain   11     266       0       1       1       6   \n",
       "134      1               No name  135     195       0       1       6       7   \n",
       "...    ...                   ...  ...     ...     ...     ...     ...     ...   \n",
       "2821     2  Looking for a kitten    4     251     292       1       3       4   \n",
       "2856     2              Anderson   24     266       0       1       6       7   \n",
       "2907     1               Unnamed   42     150     150       3       2       0   \n",
       "2963     1          Cream poodle   36     179       0       2       5       0   \n",
       "2986     1                Hootch   48     213       0       2       2       0   \n",
       "\n",
       "      Color3  MaturitySize  ...  HealthScore  Sentiment_Negativo  \\\n",
       "11         0             1  ...            0               False   \n",
       "16         0             3  ...            3               False   \n",
       "81         0             2  ...            2               False   \n",
       "128        7             2  ...            3               False   \n",
       "134        0             1  ...            1               False   \n",
       "...      ...           ...  ...          ...                 ...   \n",
       "2821       6             2  ...            2               False   \n",
       "2856       0             2  ...            2               False   \n",
       "2907       0             2  ...            2               False   \n",
       "2963       0             1  ...            0               False   \n",
       "2986       0             2  ...            0               False   \n",
       "\n",
       "      Sentiment_Neutro  Sentiment_Positivo  RescuerGroup  prob_class_0  \\\n",
       "11               False                True             1           NaN   \n",
       "16               False                True             1           NaN   \n",
       "81               False                True             3           NaN   \n",
       "128              False                True             1           NaN   \n",
       "134              False                True             1           NaN   \n",
       "...                ...                 ...           ...           ...   \n",
       "2821             False                True             1           NaN   \n",
       "2856             False                True             3           NaN   \n",
       "2907             False                True             1           NaN   \n",
       "2963             False                True             2           NaN   \n",
       "2986             False                True             1           NaN   \n",
       "\n",
       "      prob_class_1  prob_class_2 prob_class_3  prob_class_4  \n",
       "11             NaN           NaN          NaN           NaN  \n",
       "16             NaN           NaN          NaN           NaN  \n",
       "81             NaN           NaN          NaN           NaN  \n",
       "128            NaN           NaN          NaN           NaN  \n",
       "134            NaN           NaN          NaN           NaN  \n",
       "...            ...           ...          ...           ...  \n",
       "2821           NaN           NaN          NaN           NaN  \n",
       "2856           NaN           NaN          NaN           NaN  \n",
       "2907           NaN           NaN          NaN           NaN  \n",
       "2963           NaN           NaN          NaN           NaN  \n",
       "2986           NaN           NaN          NaN           NaN  \n",
       "\n",
       "[64 rows x 54 columns]"
      ]
     },
     "execution_count": 165,
     "metadata": {},
     "output_type": "execute_result"
    }
   ],
   "source": [
    "X_val_res[X_val_res['prob_class_0'].isna()]"
   ]
  },
  {
   "cell_type": "code",
   "execution_count": 156,
   "id": "475cc791-0048-4378-b5a6-12e55dc01a75",
   "metadata": {},
   "outputs": [
    {
     "name": "stderr",
     "output_type": "stream",
     "text": [
      "<>:1: SyntaxWarning: invalid escape sequence '\\d'\n",
      "<>:1: SyntaxWarning: invalid escape sequence '\\d'\n",
      "/var/folders/4r/91txlfcx43g86h5_v2czs54h0000gn/T/ipykernel_88462/1867886263.py:1: SyntaxWarning: invalid escape sequence '\\d'\n",
      "  X_val_res[['prob_class_0', 'prob_class_1', 'prob_class_2', 'prob_class_3', 'prob_class_4']].idxmax(axis=1).str.extract(\"(\\d+)\").astype(int)[0].values\n",
      "/var/folders/4r/91txlfcx43g86h5_v2czs54h0000gn/T/ipykernel_88462/1867886263.py:1: FutureWarning: The behavior of DataFrame.idxmax with all-NA values, or any-NA and skipna=False, is deprecated. In a future version this will raise ValueError\n",
      "  X_val_res[['prob_class_0', 'prob_class_1', 'prob_class_2', 'prob_class_3', 'prob_class_4']].idxmax(axis=1).str.extract(\"(\\d+)\").astype(int)[0].values\n",
      "/var/folders/4r/91txlfcx43g86h5_v2czs54h0000gn/T/ipykernel_88462/1867886263.py:1: SyntaxWarning: invalid escape sequence '\\d'\n",
      "  X_val_res[['prob_class_0', 'prob_class_1', 'prob_class_2', 'prob_class_3', 'prob_class_4']].idxmax(axis=1).str.extract(\"(\\d+)\").astype(int)[0].values\n"
     ]
    },
    {
     "ename": "ValueError",
     "evalue": "cannot convert float NaN to integer",
     "output_type": "error",
     "traceback": [
      "\u001b[31m---------------------------------------------------------------------------\u001b[39m",
      "\u001b[31mValueError\u001b[39m                                Traceback (most recent call last)",
      "\u001b[36mCell\u001b[39m\u001b[36m \u001b[39m\u001b[32mIn[156]\u001b[39m\u001b[32m, line 1\u001b[39m\n\u001b[32m----> \u001b[39m\u001b[32m1\u001b[39m \u001b[43mX_val_res\u001b[49m\u001b[43m[\u001b[49m\u001b[43m[\u001b[49m\u001b[33;43m'\u001b[39;49m\u001b[33;43mprob_class_0\u001b[39;49m\u001b[33;43m'\u001b[39;49m\u001b[43m,\u001b[49m\u001b[43m \u001b[49m\u001b[33;43m'\u001b[39;49m\u001b[33;43mprob_class_1\u001b[39;49m\u001b[33;43m'\u001b[39;49m\u001b[43m,\u001b[49m\u001b[43m \u001b[49m\u001b[33;43m'\u001b[39;49m\u001b[33;43mprob_class_2\u001b[39;49m\u001b[33;43m'\u001b[39;49m\u001b[43m,\u001b[49m\u001b[43m \u001b[49m\u001b[33;43m'\u001b[39;49m\u001b[33;43mprob_class_3\u001b[39;49m\u001b[33;43m'\u001b[39;49m\u001b[43m,\u001b[49m\u001b[43m \u001b[49m\u001b[33;43m'\u001b[39;49m\u001b[33;43mprob_class_4\u001b[39;49m\u001b[33;43m'\u001b[39;49m\u001b[43m]\u001b[49m\u001b[43m]\u001b[49m\u001b[43m.\u001b[49m\u001b[43midxmax\u001b[49m\u001b[43m(\u001b[49m\u001b[43maxis\u001b[49m\u001b[43m=\u001b[49m\u001b[32;43m1\u001b[39;49m\u001b[43m)\u001b[49m\u001b[43m.\u001b[49m\u001b[43mstr\u001b[49m\u001b[43m.\u001b[49m\u001b[43mextract\u001b[49m\u001b[43m(\u001b[49m\u001b[33;43m\"\u001b[39;49m\u001b[33;43m(\u001b[39;49m\u001b[33;43m\\\u001b[39;49m\u001b[33;43md+)\u001b[39;49m\u001b[33;43m\"\u001b[39;49m\u001b[43m)\u001b[49m\u001b[43m.\u001b[49m\u001b[43mastype\u001b[49m\u001b[43m(\u001b[49m\u001b[38;5;28;43mint\u001b[39;49m\u001b[43m)\u001b[49m[\u001b[32m0\u001b[39m].values\n",
      "\u001b[36mFile \u001b[39m\u001b[32m~/anaconda3/envs/ldi2/lib/python3.12/site-packages/pandas/core/generic.py:6643\u001b[39m, in \u001b[36mNDFrame.astype\u001b[39m\u001b[34m(self, dtype, copy, errors)\u001b[39m\n\u001b[32m   6637\u001b[39m     results = [\n\u001b[32m   6638\u001b[39m         ser.astype(dtype, copy=copy, errors=errors) \u001b[38;5;28;01mfor\u001b[39;00m _, ser \u001b[38;5;129;01min\u001b[39;00m \u001b[38;5;28mself\u001b[39m.items()\n\u001b[32m   6639\u001b[39m     ]\n\u001b[32m   6641\u001b[39m \u001b[38;5;28;01melse\u001b[39;00m:\n\u001b[32m   6642\u001b[39m     \u001b[38;5;66;03m# else, only a single dtype is given\u001b[39;00m\n\u001b[32m-> \u001b[39m\u001b[32m6643\u001b[39m     new_data = \u001b[38;5;28;43mself\u001b[39;49m\u001b[43m.\u001b[49m\u001b[43m_mgr\u001b[49m\u001b[43m.\u001b[49m\u001b[43mastype\u001b[49m\u001b[43m(\u001b[49m\u001b[43mdtype\u001b[49m\u001b[43m=\u001b[49m\u001b[43mdtype\u001b[49m\u001b[43m,\u001b[49m\u001b[43m \u001b[49m\u001b[43mcopy\u001b[49m\u001b[43m=\u001b[49m\u001b[43mcopy\u001b[49m\u001b[43m,\u001b[49m\u001b[43m \u001b[49m\u001b[43merrors\u001b[49m\u001b[43m=\u001b[49m\u001b[43merrors\u001b[49m\u001b[43m)\u001b[49m\n\u001b[32m   6644\u001b[39m     res = \u001b[38;5;28mself\u001b[39m._constructor_from_mgr(new_data, axes=new_data.axes)\n\u001b[32m   6645\u001b[39m     \u001b[38;5;28;01mreturn\u001b[39;00m res.__finalize__(\u001b[38;5;28mself\u001b[39m, method=\u001b[33m\"\u001b[39m\u001b[33mastype\u001b[39m\u001b[33m\"\u001b[39m)\n",
      "\u001b[36mFile \u001b[39m\u001b[32m~/anaconda3/envs/ldi2/lib/python3.12/site-packages/pandas/core/internals/managers.py:430\u001b[39m, in \u001b[36mBaseBlockManager.astype\u001b[39m\u001b[34m(self, dtype, copy, errors)\u001b[39m\n\u001b[32m    427\u001b[39m \u001b[38;5;28;01melif\u001b[39;00m using_copy_on_write():\n\u001b[32m    428\u001b[39m     copy = \u001b[38;5;28;01mFalse\u001b[39;00m\n\u001b[32m--> \u001b[39m\u001b[32m430\u001b[39m \u001b[38;5;28;01mreturn\u001b[39;00m \u001b[38;5;28;43mself\u001b[39;49m\u001b[43m.\u001b[49m\u001b[43mapply\u001b[49m\u001b[43m(\u001b[49m\n\u001b[32m    431\u001b[39m \u001b[43m    \u001b[49m\u001b[33;43m\"\u001b[39;49m\u001b[33;43mastype\u001b[39;49m\u001b[33;43m\"\u001b[39;49m\u001b[43m,\u001b[49m\n\u001b[32m    432\u001b[39m \u001b[43m    \u001b[49m\u001b[43mdtype\u001b[49m\u001b[43m=\u001b[49m\u001b[43mdtype\u001b[49m\u001b[43m,\u001b[49m\n\u001b[32m    433\u001b[39m \u001b[43m    \u001b[49m\u001b[43mcopy\u001b[49m\u001b[43m=\u001b[49m\u001b[43mcopy\u001b[49m\u001b[43m,\u001b[49m\n\u001b[32m    434\u001b[39m \u001b[43m    \u001b[49m\u001b[43merrors\u001b[49m\u001b[43m=\u001b[49m\u001b[43merrors\u001b[49m\u001b[43m,\u001b[49m\n\u001b[32m    435\u001b[39m \u001b[43m    \u001b[49m\u001b[43musing_cow\u001b[49m\u001b[43m=\u001b[49m\u001b[43musing_copy_on_write\u001b[49m\u001b[43m(\u001b[49m\u001b[43m)\u001b[49m\u001b[43m,\u001b[49m\n\u001b[32m    436\u001b[39m \u001b[43m\u001b[49m\u001b[43m)\u001b[49m\n",
      "\u001b[36mFile \u001b[39m\u001b[32m~/anaconda3/envs/ldi2/lib/python3.12/site-packages/pandas/core/internals/managers.py:363\u001b[39m, in \u001b[36mBaseBlockManager.apply\u001b[39m\u001b[34m(self, f, align_keys, **kwargs)\u001b[39m\n\u001b[32m    361\u001b[39m         applied = b.apply(f, **kwargs)\n\u001b[32m    362\u001b[39m     \u001b[38;5;28;01melse\u001b[39;00m:\n\u001b[32m--> \u001b[39m\u001b[32m363\u001b[39m         applied = \u001b[38;5;28;43mgetattr\u001b[39;49m\u001b[43m(\u001b[49m\u001b[43mb\u001b[49m\u001b[43m,\u001b[49m\u001b[43m \u001b[49m\u001b[43mf\u001b[49m\u001b[43m)\u001b[49m\u001b[43m(\u001b[49m\u001b[43m*\u001b[49m\u001b[43m*\u001b[49m\u001b[43mkwargs\u001b[49m\u001b[43m)\u001b[49m\n\u001b[32m    364\u001b[39m     result_blocks = extend_blocks(applied, result_blocks)\n\u001b[32m    366\u001b[39m out = \u001b[38;5;28mtype\u001b[39m(\u001b[38;5;28mself\u001b[39m).from_blocks(result_blocks, \u001b[38;5;28mself\u001b[39m.axes)\n",
      "\u001b[36mFile \u001b[39m\u001b[32m~/anaconda3/envs/ldi2/lib/python3.12/site-packages/pandas/core/internals/blocks.py:758\u001b[39m, in \u001b[36mBlock.astype\u001b[39m\u001b[34m(self, dtype, copy, errors, using_cow, squeeze)\u001b[39m\n\u001b[32m    755\u001b[39m         \u001b[38;5;28;01mraise\u001b[39;00m \u001b[38;5;167;01mValueError\u001b[39;00m(\u001b[33m\"\u001b[39m\u001b[33mCan not squeeze with more than one column.\u001b[39m\u001b[33m\"\u001b[39m)\n\u001b[32m    756\u001b[39m     values = values[\u001b[32m0\u001b[39m, :]  \u001b[38;5;66;03m# type: ignore[call-overload]\u001b[39;00m\n\u001b[32m--> \u001b[39m\u001b[32m758\u001b[39m new_values = \u001b[43mastype_array_safe\u001b[49m\u001b[43m(\u001b[49m\u001b[43mvalues\u001b[49m\u001b[43m,\u001b[49m\u001b[43m \u001b[49m\u001b[43mdtype\u001b[49m\u001b[43m,\u001b[49m\u001b[43m \u001b[49m\u001b[43mcopy\u001b[49m\u001b[43m=\u001b[49m\u001b[43mcopy\u001b[49m\u001b[43m,\u001b[49m\u001b[43m \u001b[49m\u001b[43merrors\u001b[49m\u001b[43m=\u001b[49m\u001b[43merrors\u001b[49m\u001b[43m)\u001b[49m\n\u001b[32m    760\u001b[39m new_values = maybe_coerce_values(new_values)\n\u001b[32m    762\u001b[39m refs = \u001b[38;5;28;01mNone\u001b[39;00m\n",
      "\u001b[36mFile \u001b[39m\u001b[32m~/anaconda3/envs/ldi2/lib/python3.12/site-packages/pandas/core/dtypes/astype.py:237\u001b[39m, in \u001b[36mastype_array_safe\u001b[39m\u001b[34m(values, dtype, copy, errors)\u001b[39m\n\u001b[32m    234\u001b[39m     dtype = dtype.numpy_dtype\n\u001b[32m    236\u001b[39m \u001b[38;5;28;01mtry\u001b[39;00m:\n\u001b[32m--> \u001b[39m\u001b[32m237\u001b[39m     new_values = \u001b[43mastype_array\u001b[49m\u001b[43m(\u001b[49m\u001b[43mvalues\u001b[49m\u001b[43m,\u001b[49m\u001b[43m \u001b[49m\u001b[43mdtype\u001b[49m\u001b[43m,\u001b[49m\u001b[43m \u001b[49m\u001b[43mcopy\u001b[49m\u001b[43m=\u001b[49m\u001b[43mcopy\u001b[49m\u001b[43m)\u001b[49m\n\u001b[32m    238\u001b[39m \u001b[38;5;28;01mexcept\u001b[39;00m (\u001b[38;5;167;01mValueError\u001b[39;00m, \u001b[38;5;167;01mTypeError\u001b[39;00m):\n\u001b[32m    239\u001b[39m     \u001b[38;5;66;03m# e.g. _astype_nansafe can fail on object-dtype of strings\u001b[39;00m\n\u001b[32m    240\u001b[39m     \u001b[38;5;66;03m#  trying to convert to float\u001b[39;00m\n\u001b[32m    241\u001b[39m     \u001b[38;5;28;01mif\u001b[39;00m errors == \u001b[33m\"\u001b[39m\u001b[33mignore\u001b[39m\u001b[33m\"\u001b[39m:\n",
      "\u001b[36mFile \u001b[39m\u001b[32m~/anaconda3/envs/ldi2/lib/python3.12/site-packages/pandas/core/dtypes/astype.py:182\u001b[39m, in \u001b[36mastype_array\u001b[39m\u001b[34m(values, dtype, copy)\u001b[39m\n\u001b[32m    179\u001b[39m     values = values.astype(dtype, copy=copy)\n\u001b[32m    181\u001b[39m \u001b[38;5;28;01melse\u001b[39;00m:\n\u001b[32m--> \u001b[39m\u001b[32m182\u001b[39m     values = \u001b[43m_astype_nansafe\u001b[49m\u001b[43m(\u001b[49m\u001b[43mvalues\u001b[49m\u001b[43m,\u001b[49m\u001b[43m \u001b[49m\u001b[43mdtype\u001b[49m\u001b[43m,\u001b[49m\u001b[43m \u001b[49m\u001b[43mcopy\u001b[49m\u001b[43m=\u001b[49m\u001b[43mcopy\u001b[49m\u001b[43m)\u001b[49m\n\u001b[32m    184\u001b[39m \u001b[38;5;66;03m# in pandas we don't store numpy str dtypes, so convert to object\u001b[39;00m\n\u001b[32m    185\u001b[39m \u001b[38;5;28;01mif\u001b[39;00m \u001b[38;5;28misinstance\u001b[39m(dtype, np.dtype) \u001b[38;5;129;01mand\u001b[39;00m \u001b[38;5;28missubclass\u001b[39m(values.dtype.type, \u001b[38;5;28mstr\u001b[39m):\n",
      "\u001b[36mFile \u001b[39m\u001b[32m~/anaconda3/envs/ldi2/lib/python3.12/site-packages/pandas/core/dtypes/astype.py:133\u001b[39m, in \u001b[36m_astype_nansafe\u001b[39m\u001b[34m(arr, dtype, copy, skipna)\u001b[39m\n\u001b[32m    129\u001b[39m     \u001b[38;5;28;01mraise\u001b[39;00m \u001b[38;5;167;01mValueError\u001b[39;00m(msg)\n\u001b[32m    131\u001b[39m \u001b[38;5;28;01mif\u001b[39;00m copy \u001b[38;5;129;01mor\u001b[39;00m arr.dtype == \u001b[38;5;28mobject\u001b[39m \u001b[38;5;129;01mor\u001b[39;00m dtype == \u001b[38;5;28mobject\u001b[39m:\n\u001b[32m    132\u001b[39m     \u001b[38;5;66;03m# Explicit copy, or required since NumPy can't view from / to object.\u001b[39;00m\n\u001b[32m--> \u001b[39m\u001b[32m133\u001b[39m     \u001b[38;5;28;01mreturn\u001b[39;00m \u001b[43marr\u001b[49m\u001b[43m.\u001b[49m\u001b[43mastype\u001b[49m\u001b[43m(\u001b[49m\u001b[43mdtype\u001b[49m\u001b[43m,\u001b[49m\u001b[43m \u001b[49m\u001b[43mcopy\u001b[49m\u001b[43m=\u001b[49m\u001b[38;5;28;43;01mTrue\u001b[39;49;00m\u001b[43m)\u001b[49m\n\u001b[32m    135\u001b[39m \u001b[38;5;28;01mreturn\u001b[39;00m arr.astype(dtype, copy=copy)\n",
      "\u001b[31mValueError\u001b[39m: cannot convert float NaN to integer"
     ]
    }
   ],
   "source": [
    "X_val_res[['prob_class_0', 'prob_class_1', 'prob_class_2', 'prob_class_3', 'prob_class_4']].idxmax(axis=1).str.extract(\"(\\d+)\").astype(int)[0].values"
   ]
  },
  {
   "cell_type": "code",
   "execution_count": 130,
   "id": "ca703f43-66e7-4410-9f80-cad213795666",
   "metadata": {},
   "outputs": [
    {
     "ename": "AttributeError",
     "evalue": "'DataFrame' object has no attribute 'argmax'",
     "output_type": "error",
     "traceback": [
      "\u001b[31m---------------------------------------------------------------------------\u001b[39m",
      "\u001b[31mAttributeError\u001b[39m                            Traceback (most recent call last)",
      "\u001b[32m/var/folders/4r/91txlfcx43g86h5_v2czs54h0000gn/T/ipykernel_88462/1240102271.py\u001b[39m in \u001b[36m?\u001b[39m\u001b[34m()\u001b[39m\n\u001b[32m----> \u001b[39m\u001b[32m1\u001b[39m resnet_pred[[\u001b[33m'prob_class_0'\u001b[39m, \u001b[33m'prob_class_1'\u001b[39m, \u001b[33m'prob_class_2'\u001b[39m, \u001b[33m'prob_class_3'\u001b[39m, \u001b[33m'prob_class_4'\u001b[39m]].argmax(axis=\u001b[32m0\u001b[39m)\n",
      "\u001b[32m~/anaconda3/envs/ldi2/lib/python3.12/site-packages/pandas/core/generic.py\u001b[39m in \u001b[36m?\u001b[39m\u001b[34m(self, name)\u001b[39m\n\u001b[32m   6295\u001b[39m             \u001b[38;5;28;01mand\u001b[39;00m name \u001b[38;5;28;01mnot\u001b[39;00m \u001b[38;5;28;01min\u001b[39;00m self._accessors\n\u001b[32m   6296\u001b[39m             \u001b[38;5;28;01mand\u001b[39;00m self._info_axis._can_hold_identifiers_and_holds_name(name)\n\u001b[32m   6297\u001b[39m         ):\n\u001b[32m   6298\u001b[39m             \u001b[38;5;28;01mreturn\u001b[39;00m self[name]\n\u001b[32m-> \u001b[39m\u001b[32m6299\u001b[39m         \u001b[38;5;28;01mreturn\u001b[39;00m object.__getattribute__(self, name)\n",
      "\u001b[31mAttributeError\u001b[39m: 'DataFrame' object has no attribute 'argmax'"
     ]
    }
   ],
   "source": [
    "resnet_pred[['prob_class_0', 'prob_class_1', 'prob_class_2', 'prob_class_3', 'prob_class_4']].argmax(axis=0)"
   ]
  },
  {
   "cell_type": "code",
   "execution_count": null,
   "id": "0386ae7f-1d40-42c5-bcf2-99a4607ee70f",
   "metadata": {},
   "outputs": [],
   "source": [
    "all_preds_resnet = np.vstack([preds_rf_base, preds_xgb, preds_lgb, ])\n"
   ]
  },
  {
   "cell_type": "code",
   "execution_count": null,
   "id": "23d6f317-6215-47df-80a0-0bda37e900a6",
   "metadata": {},
   "outputs": [],
   "source": []
  },
  {
   "cell_type": "code",
   "execution_count": null,
   "id": "2c64e2f1-aa43-4ac4-9715-01b0a7b1e3c2",
   "metadata": {},
   "outputs": [],
   "source": []
  },
  {
   "cell_type": "code",
   "execution_count": 24,
   "id": "11b8c3c2-d6fe-4287-bf5b-e6875d076d98",
   "metadata": {},
   "outputs": [
    {
     "data": {
      "text/html": [
       "<div>\n",
       "<style scoped>\n",
       "    .dataframe tbody tr th:only-of-type {\n",
       "        vertical-align: middle;\n",
       "    }\n",
       "\n",
       "    .dataframe tbody tr th {\n",
       "        vertical-align: top;\n",
       "    }\n",
       "\n",
       "    .dataframe thead th {\n",
       "        text-align: right;\n",
       "    }\n",
       "</style>\n",
       "<table border=\"1\" class=\"dataframe\">\n",
       "  <thead>\n",
       "    <tr style=\"text-align: right;\">\n",
       "      <th></th>\n",
       "      <th>ID</th>\n",
       "      <th>0</th>\n",
       "      <th>1</th>\n",
       "      <th>2</th>\n",
       "      <th>3</th>\n",
       "      <th>4</th>\n",
       "    </tr>\n",
       "  </thead>\n",
       "  <tbody>\n",
       "    <tr>\n",
       "      <th>0</th>\n",
       "      <td>86e1089a3</td>\n",
       "      <td>0.00075255</td>\n",
       "      <td>0.15268189</td>\n",
       "      <td>0.80045265</td>\n",
       "      <td>0.04555201</td>\n",
       "      <td>0.00056093</td>\n",
       "    </tr>\n",
       "    <tr>\n",
       "      <th>1</th>\n",
       "      <td>6296e909a</td>\n",
       "      <td>0.02892482</td>\n",
       "      <td>0.31997138</td>\n",
       "      <td>0.54787356</td>\n",
       "      <td>0.09699186</td>\n",
       "      <td>0.00623844</td>\n",
       "    </tr>\n",
       "    <tr>\n",
       "      <th>2</th>\n",
       "      <td>3422e4906</td>\n",
       "      <td>0.00089478</td>\n",
       "      <td>0.00274030</td>\n",
       "      <td>0.12768795</td>\n",
       "      <td>0.86501288</td>\n",
       "      <td>0.00366400</td>\n",
       "    </tr>\n",
       "    <tr>\n",
       "      <th>3</th>\n",
       "      <td>5842f1ff5</td>\n",
       "      <td>0.00050428</td>\n",
       "      <td>0.06155059</td>\n",
       "      <td>0.84609097</td>\n",
       "      <td>0.09076333</td>\n",
       "      <td>0.00109088</td>\n",
       "    </tr>\n",
       "    <tr>\n",
       "      <th>4</th>\n",
       "      <td>850a43f90</td>\n",
       "      <td>0.00148470</td>\n",
       "      <td>0.01733202</td>\n",
       "      <td>0.69236803</td>\n",
       "      <td>0.28250989</td>\n",
       "      <td>0.00630536</td>\n",
       "    </tr>\n",
       "    <tr>\n",
       "      <th>...</th>\n",
       "      <td>...</td>\n",
       "      <td>...</td>\n",
       "      <td>...</td>\n",
       "      <td>...</td>\n",
       "      <td>...</td>\n",
       "      <td>...</td>\n",
       "    </tr>\n",
       "    <tr>\n",
       "      <th>14975</th>\n",
       "      <td>dc0935a84</td>\n",
       "      <td>0.00818448</td>\n",
       "      <td>0.67607671</td>\n",
       "      <td>0.29578659</td>\n",
       "      <td>0.01762347</td>\n",
       "      <td>0.00232873</td>\n",
       "    </tr>\n",
       "    <tr>\n",
       "      <th>14976</th>\n",
       "      <td>a01ab5b30</td>\n",
       "      <td>0.00261964</td>\n",
       "      <td>0.03075699</td>\n",
       "      <td>0.13270104</td>\n",
       "      <td>0.23656160</td>\n",
       "      <td>0.59736073</td>\n",
       "    </tr>\n",
       "    <tr>\n",
       "      <th>14977</th>\n",
       "      <td>d981b6395</td>\n",
       "      <td>0.00106464</td>\n",
       "      <td>0.00335503</td>\n",
       "      <td>0.13507260</td>\n",
       "      <td>0.74570012</td>\n",
       "      <td>0.11480758</td>\n",
       "    </tr>\n",
       "    <tr>\n",
       "      <th>14978</th>\n",
       "      <td>e4da1c9e4</td>\n",
       "      <td>0.00143031</td>\n",
       "      <td>0.00105063</td>\n",
       "      <td>0.00398096</td>\n",
       "      <td>0.00495054</td>\n",
       "      <td>0.98858750</td>\n",
       "    </tr>\n",
       "    <tr>\n",
       "      <th>14979</th>\n",
       "      <td>a83d95ead</td>\n",
       "      <td>0.00237941</td>\n",
       "      <td>0.00333614</td>\n",
       "      <td>0.08341943</td>\n",
       "      <td>0.90056396</td>\n",
       "      <td>0.01030103</td>\n",
       "    </tr>\n",
       "  </tbody>\n",
       "</table>\n",
       "<p>14980 rows × 6 columns</p>\n",
       "</div>"
      ],
      "text/plain": [
       "              ID           0           1           2           3           4\n",
       "0      86e1089a3  0.00075255  0.15268189  0.80045265  0.04555201  0.00056093\n",
       "1      6296e909a  0.02892482  0.31997138  0.54787356  0.09699186  0.00623844\n",
       "2      3422e4906  0.00089478  0.00274030  0.12768795  0.86501288  0.00366400\n",
       "3      5842f1ff5  0.00050428  0.06155059  0.84609097  0.09076333  0.00109088\n",
       "4      850a43f90  0.00148470  0.01733202  0.69236803  0.28250989  0.00630536\n",
       "...          ...         ...         ...         ...         ...         ...\n",
       "14975  dc0935a84  0.00818448  0.67607671  0.29578659  0.01762347  0.00232873\n",
       "14976  a01ab5b30  0.00261964  0.03075699  0.13270104  0.23656160  0.59736073\n",
       "14977  d981b6395  0.00106464  0.00335503  0.13507260  0.74570012  0.11480758\n",
       "14978  e4da1c9e4  0.00143031  0.00105063  0.00398096  0.00495054  0.98858750\n",
       "14979  a83d95ead  0.00237941  0.00333614  0.08341943  0.90056396  0.01030103\n",
       "\n",
       "[14980 rows x 6 columns]"
      ]
     },
     "execution_count": 24,
     "metadata": {},
     "output_type": "execute_result"
    }
   ],
   "source": [
    "text_prob = text[['ID','Probabilities']]\n",
    "proba_text = text_prob['Probabilities'].str.split(' ', expand=True)\n",
    "proba_text[0] = proba_text[0].str.replace('[', '')\n",
    "proba_text[4] = proba_text[4].str.replace(']', '')\n",
    "text_proba = pd.merge(text_prob, proba_text, left_index=True, right_index=True).drop(columns=['Probabilities'])\n",
    "text_proba"
   ]
  },
  {
   "cell_type": "code",
   "execution_count": 25,
   "id": "1fd62d63-f0cf-4ea0-b9d5-c6ff2132c7d4",
   "metadata": {},
   "outputs": [],
   "source": [
    "_1,ids,_2,_3 = train_test_split(df, y, stratify=y, test_size=0.2, random_state=7)\n",
    "ids = ids['PetID']"
   ]
  },
  {
   "cell_type": "code",
   "execution_count": 26,
   "id": "ee90004f-637d-44ad-bc12-a148a4ba61b2",
   "metadata": {},
   "outputs": [],
   "source": [
    "ids_ensemble_aux = pd.merge(ids, text_proba, left_on='PetID', right_on='ID', how='left')\n",
    "ids_ensemble_aux = ids_ensemble_aux.fillna(0)\n",
    "ids_ensemble_aux_sum = ids_ensemble_aux.drop(columns=['PetID','ID']).values"
   ]
  },
  {
   "cell_type": "code",
   "execution_count": 27,
   "id": "18d9396c-c9fd-4db8-a4dc-f06ef52f1f70",
   "metadata": {},
   "outputs": [
    {
     "data": {
      "text/plain": [
       "2999"
      ]
     },
     "execution_count": 27,
     "metadata": {},
     "output_type": "execute_result"
    }
   ],
   "source": [
    "len(ids_ensemble_aux_sum)"
   ]
  },
  {
   "cell_type": "code",
   "execution_count": 28,
   "id": "64c27da5-f90c-411c-b7c9-76de6f260f66",
   "metadata": {},
   "outputs": [
    {
     "data": {
      "text/html": [
       "<div>\n",
       "<style scoped>\n",
       "    .dataframe tbody tr th:only-of-type {\n",
       "        vertical-align: middle;\n",
       "    }\n",
       "\n",
       "    .dataframe tbody tr th {\n",
       "        vertical-align: top;\n",
       "    }\n",
       "\n",
       "    .dataframe thead th {\n",
       "        text-align: right;\n",
       "    }\n",
       "</style>\n",
       "<table border=\"1\" class=\"dataframe\">\n",
       "  <thead>\n",
       "    <tr style=\"text-align: right;\">\n",
       "      <th></th>\n",
       "      <th>PetID</th>\n",
       "      <th>ID</th>\n",
       "      <th>0</th>\n",
       "      <th>1</th>\n",
       "      <th>2</th>\n",
       "      <th>3</th>\n",
       "      <th>4</th>\n",
       "      <th>prob_class_0</th>\n",
       "      <th>prob_class_1</th>\n",
       "      <th>prob_class_2</th>\n",
       "      <th>prob_class_3</th>\n",
       "      <th>prob_class_4</th>\n",
       "    </tr>\n",
       "  </thead>\n",
       "  <tbody>\n",
       "    <tr>\n",
       "      <th>0</th>\n",
       "      <td>cf78e66fd</td>\n",
       "      <td>cf78e66fd</td>\n",
       "      <td>0.00098114</td>\n",
       "      <td>0.03140692</td>\n",
       "      <td>0.69946831</td>\n",
       "      <td>0.26659068</td>\n",
       "      <td>0.00155298</td>\n",
       "      <td>-1.467817</td>\n",
       "      <td>1.738951</td>\n",
       "      <td>0.965889</td>\n",
       "      <td>0.190470</td>\n",
       "      <td>-1.377797</td>\n",
       "    </tr>\n",
       "    <tr>\n",
       "      <th>1</th>\n",
       "      <td>5de1d0c34</td>\n",
       "      <td>5de1d0c34</td>\n",
       "      <td>0.00274695</td>\n",
       "      <td>0.00269661</td>\n",
       "      <td>0.03190725</td>\n",
       "      <td>0.02141715</td>\n",
       "      <td>0.94123203</td>\n",
       "      <td>-2.546853</td>\n",
       "      <td>-0.141721</td>\n",
       "      <td>0.247514</td>\n",
       "      <td>0.282480</td>\n",
       "      <td>2.148874</td>\n",
       "    </tr>\n",
       "    <tr>\n",
       "      <th>2</th>\n",
       "      <td>43e4cb788</td>\n",
       "      <td>43e4cb788</td>\n",
       "      <td>0.01521666</td>\n",
       "      <td>0.82707489</td>\n",
       "      <td>0.09218681</td>\n",
       "      <td>0.04710428</td>\n",
       "      <td>0.01841737</td>\n",
       "      <td>-1.025800</td>\n",
       "      <td>0.385830</td>\n",
       "      <td>-0.194456</td>\n",
       "      <td>-0.471743</td>\n",
       "      <td>1.251837</td>\n",
       "    </tr>\n",
       "    <tr>\n",
       "      <th>3</th>\n",
       "      <td>feec7a438</td>\n",
       "      <td>feec7a438</td>\n",
       "      <td>0.00154261</td>\n",
       "      <td>0.00175889</td>\n",
       "      <td>0.00110020</td>\n",
       "      <td>0.00156655</td>\n",
       "      <td>0.99403173</td>\n",
       "      <td>-2.425889</td>\n",
       "      <td>-0.880943</td>\n",
       "      <td>0.483216</td>\n",
       "      <td>0.542247</td>\n",
       "      <td>2.417926</td>\n",
       "    </tr>\n",
       "    <tr>\n",
       "      <th>4</th>\n",
       "      <td>95855babf</td>\n",
       "      <td>95855babf</td>\n",
       "      <td>0.00041192</td>\n",
       "      <td>0.02822931</td>\n",
       "      <td>0.23739995</td>\n",
       "      <td>0.73264903</td>\n",
       "      <td>0.00130975</td>\n",
       "      <td>-1.878236</td>\n",
       "      <td>0.202715</td>\n",
       "      <td>0.447229</td>\n",
       "      <td>0.176778</td>\n",
       "      <td>1.032748</td>\n",
       "    </tr>\n",
       "    <tr>\n",
       "      <th>...</th>\n",
       "      <td>...</td>\n",
       "      <td>...</td>\n",
       "      <td>...</td>\n",
       "      <td>...</td>\n",
       "      <td>...</td>\n",
       "      <td>...</td>\n",
       "      <td>...</td>\n",
       "      <td>...</td>\n",
       "      <td>...</td>\n",
       "      <td>...</td>\n",
       "      <td>...</td>\n",
       "      <td>...</td>\n",
       "    </tr>\n",
       "    <tr>\n",
       "      <th>594</th>\n",
       "      <td>af8138fea</td>\n",
       "      <td>af8138fea</td>\n",
       "      <td>0.00159788</td>\n",
       "      <td>0.00190135</td>\n",
       "      <td>0.00363870</td>\n",
       "      <td>0.00970647</td>\n",
       "      <td>0.98315549</td>\n",
       "      <td>-3.089685</td>\n",
       "      <td>-0.041475</td>\n",
       "      <td>-0.301495</td>\n",
       "      <td>0.114695</td>\n",
       "      <td>3.036229</td>\n",
       "    </tr>\n",
       "    <tr>\n",
       "      <th>595</th>\n",
       "      <td>edcc13ccb</td>\n",
       "      <td>edcc13ccb</td>\n",
       "      <td>0.00236725</td>\n",
       "      <td>0.84133399</td>\n",
       "      <td>0.07660707</td>\n",
       "      <td>0.06778520</td>\n",
       "      <td>0.01190652</td>\n",
       "      <td>-1.433197</td>\n",
       "      <td>0.141028</td>\n",
       "      <td>0.838616</td>\n",
       "      <td>0.807360</td>\n",
       "      <td>-0.285771</td>\n",
       "    </tr>\n",
       "    <tr>\n",
       "      <th>596</th>\n",
       "      <td>5ada2f8b6</td>\n",
       "      <td>5ada2f8b6</td>\n",
       "      <td>0.01152135</td>\n",
       "      <td>0.53567052</td>\n",
       "      <td>0.43494299</td>\n",
       "      <td>0.01606540</td>\n",
       "      <td>0.00179972</td>\n",
       "      <td>-1.491605</td>\n",
       "      <td>1.056869</td>\n",
       "      <td>1.096664</td>\n",
       "      <td>0.170903</td>\n",
       "      <td>-0.929501</td>\n",
       "    </tr>\n",
       "    <tr>\n",
       "      <th>597</th>\n",
       "      <td>162c1d98a</td>\n",
       "      <td>162c1d98a</td>\n",
       "      <td>0.00483711</td>\n",
       "      <td>0.16835481</td>\n",
       "      <td>0.73992068</td>\n",
       "      <td>0.08577160</td>\n",
       "      <td>0.00111579</td>\n",
       "      <td>-0.929815</td>\n",
       "      <td>0.085813</td>\n",
       "      <td>0.725370</td>\n",
       "      <td>0.231037</td>\n",
       "      <td>-0.416319</td>\n",
       "    </tr>\n",
       "    <tr>\n",
       "      <th>598</th>\n",
       "      <td>a9bfec3ba</td>\n",
       "      <td>a9bfec3ba</td>\n",
       "      <td>0.02655957</td>\n",
       "      <td>0.80220807</td>\n",
       "      <td>0.14889178</td>\n",
       "      <td>0.01586577</td>\n",
       "      <td>0.00647473</td>\n",
       "      <td>-1.661875</td>\n",
       "      <td>-0.096714</td>\n",
       "      <td>0.129188</td>\n",
       "      <td>0.492871</td>\n",
       "      <td>0.908015</td>\n",
       "    </tr>\n",
       "  </tbody>\n",
       "</table>\n",
       "<p>599 rows × 12 columns</p>\n",
       "</div>"
      ],
      "text/plain": [
       "         PetID         ID           0           1           2           3  \\\n",
       "0    cf78e66fd  cf78e66fd  0.00098114  0.03140692  0.69946831  0.26659068   \n",
       "1    5de1d0c34  5de1d0c34  0.00274695  0.00269661  0.03190725  0.02141715   \n",
       "2    43e4cb788  43e4cb788  0.01521666  0.82707489  0.09218681  0.04710428   \n",
       "3    feec7a438  feec7a438  0.00154261  0.00175889  0.00110020  0.00156655   \n",
       "4    95855babf  95855babf  0.00041192  0.02822931  0.23739995  0.73264903   \n",
       "..         ...        ...         ...         ...         ...         ...   \n",
       "594  af8138fea  af8138fea  0.00159788  0.00190135  0.00363870  0.00970647   \n",
       "595  edcc13ccb  edcc13ccb  0.00236725  0.84133399  0.07660707  0.06778520   \n",
       "596  5ada2f8b6  5ada2f8b6  0.01152135  0.53567052  0.43494299  0.01606540   \n",
       "597  162c1d98a  162c1d98a  0.00483711  0.16835481  0.73992068  0.08577160   \n",
       "598  a9bfec3ba  a9bfec3ba  0.02655957  0.80220807  0.14889178  0.01586577   \n",
       "\n",
       "              4  prob_class_0  prob_class_1  prob_class_2  prob_class_3  \\\n",
       "0    0.00155298     -1.467817      1.738951      0.965889      0.190470   \n",
       "1    0.94123203     -2.546853     -0.141721      0.247514      0.282480   \n",
       "2    0.01841737     -1.025800      0.385830     -0.194456     -0.471743   \n",
       "3    0.99403173     -2.425889     -0.880943      0.483216      0.542247   \n",
       "4    0.00130975     -1.878236      0.202715      0.447229      0.176778   \n",
       "..          ...           ...           ...           ...           ...   \n",
       "594  0.98315549     -3.089685     -0.041475     -0.301495      0.114695   \n",
       "595  0.01190652     -1.433197      0.141028      0.838616      0.807360   \n",
       "596  0.00179972     -1.491605      1.056869      1.096664      0.170903   \n",
       "597  0.00111579     -0.929815      0.085813      0.725370      0.231037   \n",
       "598  0.00647473     -1.661875     -0.096714      0.129188      0.492871   \n",
       "\n",
       "     prob_class_4  \n",
       "0       -1.377797  \n",
       "1        2.148874  \n",
       "2        1.251837  \n",
       "3        2.417926  \n",
       "4        1.032748  \n",
       "..            ...  \n",
       "594      3.036229  \n",
       "595     -0.285771  \n",
       "596     -0.929501  \n",
       "597     -0.416319  \n",
       "598      0.908015  \n",
       "\n",
       "[599 rows x 12 columns]"
      ]
     },
     "execution_count": 28,
     "metadata": {},
     "output_type": "execute_result"
    }
   ],
   "source": [
    "ids_ensemble_img_aux = pd.merge(ids_ensemble_aux, prob_resnet, left_on='PetID', right_on='PetID', how='inner')\n",
    "ids_ensemble_img_aux"
   ]
  },
  {
   "cell_type": "code",
   "execution_count": 29,
   "id": "d40d746f-637c-4de4-be65-cb7dae7505c4",
   "metadata": {},
   "outputs": [],
   "source": [
    "ids_finales = ids_ensemble_img_aux['PetID'].unique()"
   ]
  },
  {
   "cell_type": "code",
   "execution_count": 30,
   "id": "be3179c7-daa5-4a12-8dbb-c8eb7dfd4037",
   "metadata": {},
   "outputs": [
    {
     "data": {
      "text/plain": [
       "array([['0.00098114', '0.03140692', '0.69946831', '0.26659068',\n",
       "        '0.00155298'],\n",
       "       ['0.00274695', '0.00269661', '0.03190725', '0.02141715',\n",
       "        '0.94123203'],\n",
       "       ['0.01521666', '0.82707489', '0.09218681', '0.04710428',\n",
       "        '0.01841737'],\n",
       "       ...,\n",
       "       ['0.01152135', '0.53567052', '0.43494299', '0.01606540',\n",
       "        '0.00179972'],\n",
       "       ['0.00483711', '0.16835481', '0.73992068', '0.08577160',\n",
       "        '0.00111579'],\n",
       "       ['0.02655957', '0.80220807', '0.14889178', '0.01586577',\n",
       "        '0.00647473']], dtype=object)"
      ]
     },
     "execution_count": 30,
     "metadata": {},
     "output_type": "execute_result"
    }
   ],
   "source": [
    "text_ensemble_proba_arr = ids_ensemble_img_aux[[0,1,2,3,4]].values\n",
    "text_ensemble_proba_arr"
   ]
  },
  {
   "cell_type": "code",
   "execution_count": 31,
   "id": "57002b53-f7f7-439a-8caa-f0676963f3fd",
   "metadata": {},
   "outputs": [
    {
     "data": {
      "text/plain": [
       "array([[-1.4678171 ,  1.7389505 ,  0.9658895 ,  0.1904704 , -1.3777965 ],\n",
       "       [-2.5468533 , -0.1417214 ,  0.24751389,  0.2824798 ,  2.1488738 ],\n",
       "       [-1.0257998 ,  0.38582987, -0.19445631, -0.47174302,  1.2518374 ],\n",
       "       ...,\n",
       "       [-1.4916052 ,  1.0568687 ,  1.0966635 ,  0.17090292, -0.9295012 ],\n",
       "       [-0.92981493,  0.08581277,  0.72536993,  0.23103733, -0.41631928],\n",
       "       [-1.6618752 , -0.09671431,  0.12918828,  0.4928713 ,  0.90801454]])"
      ]
     },
     "execution_count": 31,
     "metadata": {},
     "output_type": "execute_result"
    }
   ],
   "source": [
    "img_ensemble_proba_arr = ids_ensemble_img_aux[['prob_class_0',\t'prob_class_1',\t'prob_class_2',\t'prob_class_3', 'prob_class_4']].values\n",
    "img_ensemble_proba_arr"
   ]
  },
  {
   "cell_type": "code",
   "execution_count": 32,
   "id": "97b7c5b5-b980-4c90-b10e-ce06267479a0",
   "metadata": {},
   "outputs": [
    {
     "data": {
      "text/plain": [
       "2999"
      ]
     },
     "execution_count": 32,
     "metadata": {},
     "output_type": "execute_result"
    }
   ],
   "source": [
    "ids.size"
   ]
  },
  {
   "cell_type": "code",
   "execution_count": 33,
   "id": "43049ff4-4d2c-427e-a87a-174a6284ffed",
   "metadata": {},
   "outputs": [
    {
     "data": {
      "text/html": [
       "<div>\n",
       "<style scoped>\n",
       "    .dataframe tbody tr th:only-of-type {\n",
       "        vertical-align: middle;\n",
       "    }\n",
       "\n",
       "    .dataframe tbody tr th {\n",
       "        vertical-align: top;\n",
       "    }\n",
       "\n",
       "    .dataframe thead th {\n",
       "        text-align: right;\n",
       "    }\n",
       "</style>\n",
       "<table border=\"1\" class=\"dataframe\">\n",
       "  <thead>\n",
       "    <tr style=\"text-align: right;\">\n",
       "      <th></th>\n",
       "      <th>0</th>\n",
       "      <th>1</th>\n",
       "      <th>2</th>\n",
       "      <th>3</th>\n",
       "      <th>4</th>\n",
       "    </tr>\n",
       "  </thead>\n",
       "  <tbody>\n",
       "    <tr>\n",
       "      <th>0</th>\n",
       "      <td>0.011805</td>\n",
       "      <td>0.150503</td>\n",
       "      <td>0.531519</td>\n",
       "      <td>0.235201</td>\n",
       "      <td>0.070971</td>\n",
       "    </tr>\n",
       "    <tr>\n",
       "      <th>1</th>\n",
       "      <td>0.018411</td>\n",
       "      <td>0.177822</td>\n",
       "      <td>0.370418</td>\n",
       "      <td>0.327513</td>\n",
       "      <td>0.105837</td>\n",
       "    </tr>\n",
       "    <tr>\n",
       "      <th>2</th>\n",
       "      <td>0.017600</td>\n",
       "      <td>0.157004</td>\n",
       "      <td>0.458867</td>\n",
       "      <td>0.317993</td>\n",
       "      <td>0.048536</td>\n",
       "    </tr>\n",
       "    <tr>\n",
       "      <th>3</th>\n",
       "      <td>0.060099</td>\n",
       "      <td>0.427062</td>\n",
       "      <td>0.232383</td>\n",
       "      <td>0.158467</td>\n",
       "      <td>0.121989</td>\n",
       "    </tr>\n",
       "    <tr>\n",
       "      <th>4</th>\n",
       "      <td>0.000261</td>\n",
       "      <td>0.053809</td>\n",
       "      <td>0.045198</td>\n",
       "      <td>0.116705</td>\n",
       "      <td>0.784028</td>\n",
       "    </tr>\n",
       "    <tr>\n",
       "      <th>...</th>\n",
       "      <td>...</td>\n",
       "      <td>...</td>\n",
       "      <td>...</td>\n",
       "      <td>...</td>\n",
       "      <td>...</td>\n",
       "    </tr>\n",
       "    <tr>\n",
       "      <th>2994</th>\n",
       "      <td>0.010170</td>\n",
       "      <td>0.156651</td>\n",
       "      <td>0.318519</td>\n",
       "      <td>0.415787</td>\n",
       "      <td>0.098873</td>\n",
       "    </tr>\n",
       "    <tr>\n",
       "      <th>2995</th>\n",
       "      <td>0.061247</td>\n",
       "      <td>0.282346</td>\n",
       "      <td>0.252323</td>\n",
       "      <td>0.242235</td>\n",
       "      <td>0.161849</td>\n",
       "    </tr>\n",
       "    <tr>\n",
       "      <th>2996</th>\n",
       "      <td>0.010059</td>\n",
       "      <td>0.116948</td>\n",
       "      <td>0.513494</td>\n",
       "      <td>0.306164</td>\n",
       "      <td>0.053335</td>\n",
       "    </tr>\n",
       "    <tr>\n",
       "      <th>2997</th>\n",
       "      <td>0.007060</td>\n",
       "      <td>0.048003</td>\n",
       "      <td>0.063053</td>\n",
       "      <td>0.053892</td>\n",
       "      <td>0.827991</td>\n",
       "    </tr>\n",
       "    <tr>\n",
       "      <th>2998</th>\n",
       "      <td>0.057633</td>\n",
       "      <td>0.627432</td>\n",
       "      <td>0.165726</td>\n",
       "      <td>0.110056</td>\n",
       "      <td>0.039153</td>\n",
       "    </tr>\n",
       "  </tbody>\n",
       "</table>\n",
       "<p>2999 rows × 5 columns</p>\n",
       "</div>"
      ],
      "text/plain": [
       "             0         1         2         3         4\n",
       "0     0.011805  0.150503  0.531519  0.235201  0.070971\n",
       "1     0.018411  0.177822  0.370418  0.327513  0.105837\n",
       "2     0.017600  0.157004  0.458867  0.317993  0.048536\n",
       "3     0.060099  0.427062  0.232383  0.158467  0.121989\n",
       "4     0.000261  0.053809  0.045198  0.116705  0.784028\n",
       "...        ...       ...       ...       ...       ...\n",
       "2994  0.010170  0.156651  0.318519  0.415787  0.098873\n",
       "2995  0.061247  0.282346  0.252323  0.242235  0.161849\n",
       "2996  0.010059  0.116948  0.513494  0.306164  0.053335\n",
       "2997  0.007060  0.048003  0.063053  0.053892  0.827991\n",
       "2998  0.057633  0.627432  0.165726  0.110056  0.039153\n",
       "\n",
       "[2999 rows x 5 columns]"
      ]
     },
     "execution_count": 33,
     "metadata": {},
     "output_type": "execute_result"
    }
   ],
   "source": [
    "pd.DataFrame(proba_rf).sort_index()"
   ]
  },
  {
   "cell_type": "code",
   "execution_count": 34,
   "id": "0a4acf2b-1bf0-4ee0-9f41-b0724a591580",
   "metadata": {},
   "outputs": [],
   "source": [
    "ids = ids.reset_index(drop=True)"
   ]
  },
  {
   "cell_type": "code",
   "execution_count": 35,
   "id": "777f8afe-94bb-407d-80a8-821355c7a36d",
   "metadata": {},
   "outputs": [],
   "source": [
    "ids_proba_rf = pd.DataFrame(proba_rf).merge(ids, left_index=True, right_index=True, how='inner')\n",
    "ids_proba_rf_sum = ids_proba_rf.drop(columns=['PetID']).values"
   ]
  },
  {
   "cell_type": "code",
   "execution_count": 36,
   "id": "9e668a39-1c88-4f92-827f-3e2429674bcd",
   "metadata": {},
   "outputs": [],
   "source": [
    "ids_proba_xgb = pd.DataFrame(proba_xgb).merge(ids, left_index=True, right_index=True, how='inner')\n",
    "ids_proba_xgb_sum = ids_proba_xgb.drop(columns=['PetID']).values"
   ]
  },
  {
   "cell_type": "code",
   "execution_count": 37,
   "id": "c6632bbc-9a1e-4659-a8c5-b8c1e6baf7ac",
   "metadata": {},
   "outputs": [],
   "source": [
    "ids_proba_lgb = pd.DataFrame(proba_lgb).merge(ids, left_index=True, right_index=True, how='inner')\n",
    "ids_proba_lgb_sum = ids_proba_lgb.drop(columns=['PetID']).values"
   ]
  },
  {
   "cell_type": "code",
   "execution_count": 38,
   "id": "e51ddc8e-2da2-4312-932f-98e68e47009a",
   "metadata": {},
   "outputs": [],
   "source": [
    "ids_ensemble_aux_sum = ids_ensemble_aux_sum.astype('float')"
   ]
  },
  {
   "cell_type": "code",
   "execution_count": 39,
   "id": "0b5159dc-9f18-430f-b65b-5526424f51c0",
   "metadata": {},
   "outputs": [
    {
     "name": "stdout",
     "output_type": "stream",
     "text": [
      "Cohen's Kappa del Ensemble: 0.5678\n"
     ]
    }
   ],
   "source": [
    "ensemble_probas_con_texto = (ids_proba_rf_sum + ids_proba_xgb_sum + ids_proba_lgb_sum + ids_ensemble_aux_sum) / 4\n",
    "ensemble_preds_con_texto = np.argmax(ensemble_probas_con_texto, axis=1)\n",
    "final_kappa_ensemble_con_texto = cohen_kappa_score(y_val, ensemble_preds_con_texto)\n",
    "print(f\"Cohen's Kappa del Ensemble: {final_kappa_ensemble_con_texto:.4f}\")"
   ]
  },
  {
   "cell_type": "markdown",
   "id": "265e5558-99c0-455a-aad5-fee5f7c1ce84",
   "metadata": {},
   "source": [
    "## Modelo sin predicción de imágenes y texto"
   ]
  },
  {
   "cell_type": "code",
   "execution_count": 40,
   "id": "329b1328-6d19-4d36-bd6a-0048bf980347",
   "metadata": {},
   "outputs": [
    {
     "data": {
      "text/plain": [
       "Index(['Type', 'Age', 'Breed1', 'Breed2', 'Gender', 'Color1', 'Color2',\n",
       "       'Color3', 'MaturitySize', 'FurLength', 'Vaccinated', 'Dewormed',\n",
       "       'Sterilized', 'Health', 'Quantity', 'Fee', 'State', 'VideoAmt',\n",
       "       'PhotoAmt', 'HasName', 'MixedRace', 'Free', 'HasDescription',\n",
       "       'HasPhoto', 'income', 'population', 'population_percentage',\n",
       "       'MultiColor', 'Black', 'AgeYear', 'Vaccinated_Bin', 'Dewormed_Bin',\n",
       "       'Sterilized_Bin', 'HealthScore', 'Sentiment_Negativo',\n",
       "       'Sentiment_Neutro', 'Sentiment_Positivo', 'RescuerGroup', 'resnet_pred',\n",
       "       'Prediction'],\n",
       "      dtype='object')"
      ]
     },
     "execution_count": 40,
     "metadata": {},
     "output_type": "execute_result"
    }
   ],
   "source": [
    "X.columns"
   ]
  },
  {
   "cell_type": "code",
   "execution_count": 41,
   "id": "ef82ec91-f022-4d26-bd57-888e62c0fb03",
   "metadata": {},
   "outputs": [],
   "source": [
    "X = X.drop(columns=['resnet_pred', 'Prediction'])\n",
    "X_train, X_val, y_train, y_val = train_test_split(X, y, stratify=y, test_size=0.2, random_state=7)"
   ]
  },
  {
   "cell_type": "code",
   "execution_count": 42,
   "id": "cc2a9684-4cea-4a95-b33b-cffbd7707f81",
   "metadata": {},
   "outputs": [],
   "source": [
    "scaler = StandardScaler()\n",
    "X_train_scaled = scaler.fit_transform(X_train)\n",
    "X_val_scaled = scaler.transform(X_val)"
   ]
  },
  {
   "cell_type": "code",
   "execution_count": 43,
   "id": "15f552b2-dbda-4163-881b-ace9bd648d72",
   "metadata": {},
   "outputs": [
    {
     "name": "stderr",
     "output_type": "stream",
     "text": [
      "[I 2025-05-22 21:33:13,926] Using an existing study with name 'rf_base' instead of creating a new one.\n",
      "[I 2025-05-22 21:33:14,243] Trial 10 finished with value: 0.20136347898334506 and parameters: {'n_estimators': 82, 'max_depth': 6, 'min_samples_split': 10}. Best is trial 2 with value: 0.2143697722594018.\n",
      "[I 2025-05-22 21:33:14,635] Trial 11 finished with value: 0.22436969719166933 and parameters: {'n_estimators': 100, 'max_depth': 10, 'min_samples_split': 8}. Best is trial 11 with value: 0.22436969719166933.\n",
      "[I 2025-05-22 21:33:14,969] Trial 12 finished with value: 0.22398756044919277 and parameters: {'n_estimators': 100, 'max_depth': 10, 'min_samples_split': 9}. Best is trial 11 with value: 0.22436969719166933.\n",
      "[I 2025-05-22 21:33:15,341] Trial 13 finished with value: 0.2234915176999399 and parameters: {'n_estimators': 99, 'max_depth': 10, 'min_samples_split': 8}. Best is trial 11 with value: 0.22436969719166933.\n",
      "[I 2025-05-22 21:33:15,699] Trial 14 finished with value: 0.2220831525744814 and parameters: {'n_estimators': 100, 'max_depth': 10, 'min_samples_split': 10}. Best is trial 11 with value: 0.22436969719166933.\n"
     ]
    }
   ],
   "source": [
    "def objective_rf_base(trial):\n",
    "    params = {\n",
    "        \"n_estimators\": trial.suggest_int(\"n_estimators\", 50, 100),\n",
    "        \"max_depth\": trial.suggest_int(\"max_depth\", 3, 10),\n",
    "        \"min_samples_split\": trial.suggest_int(\"min_samples_split\", 2, 10),\n",
    "    }\n",
    "    model = RandomForestClassifier(**params, random_state=7, n_jobs=-1)\n",
    "    model.fit(X_train_scaled, y_train)\n",
    "    preds = model.predict(X_val_scaled)\n",
    "    return kappa_metric(y_val, preds)\n",
    "\n",
    "study_rf = optuna.create_study(\n",
    "    direction=\"maximize\",\n",
    "    study_name=\"rf_base\",\n",
    "    storage=storage,\n",
    "    load_if_exists=True\n",
    ")\n",
    "study_rf.optimize(objective_rf_base, n_trials=5)\n",
    "\n",
    "model_rf = RandomForestClassifier(**study_rf.best_params, random_state=7, n_jobs=-1)\n",
    "model_rf.fit(X_train_scaled, y_train)\n",
    "preds_rf_base = model_rf.predict(X_val_scaled)\n"
   ]
  },
  {
   "cell_type": "code",
   "execution_count": 44,
   "id": "74f9e48e-33e3-47b0-92fe-dc744b520d6d",
   "metadata": {},
   "outputs": [
    {
     "name": "stderr",
     "output_type": "stream",
     "text": [
      "[I 2025-05-22 21:33:20,351] Using an existing study with name 'xgb_base' instead of creating a new one.\n",
      "[I 2025-05-22 21:33:21,855] Trial 10 finished with value: 0.22383146039360813 and parameters: {'n_estimators': 77, 'max_depth': 7, 'learning_rate': 0.0164303613849536}. Best is trial 3 with value: 0.23919363961037665.\n",
      "[I 2025-05-22 21:33:23,329] Trial 11 finished with value: 0.22483528942001918 and parameters: {'n_estimators': 80, 'max_depth': 9, 'learning_rate': 0.29348124725434827}. Best is trial 3 with value: 0.23919363961037665.\n",
      "[I 2025-05-22 21:33:24,832] Trial 12 finished with value: 0.24008558728092944 and parameters: {'n_estimators': 65, 'max_depth': 10, 'learning_rate': 0.15398230821952474}. Best is trial 12 with value: 0.24008558728092944.\n",
      "[I 2025-05-22 21:33:25,810] Trial 13 finished with value: 0.23202248479844934 and parameters: {'n_estimators': 64, 'max_depth': 8, 'learning_rate': 0.149672634841922}. Best is trial 12 with value: 0.24008558728092944.\n",
      "[I 2025-05-22 21:33:27,186] Trial 14 finished with value: 0.23932720714410982 and parameters: {'n_estimators': 68, 'max_depth': 10, 'learning_rate': 0.1466165016308864}. Best is trial 12 with value: 0.24008558728092944.\n",
      "/Users/paul/anaconda3/envs/ldi2/lib/python3.12/site-packages/xgboost/training.py:183: UserWarning: [21:33:27] WARNING: /Users/runner/miniforge3/conda-bld/xgboost-split_1745056743506/work/src/learner.cc:738: \n",
      "Parameters: { \"use_label_encoder\" } are not used.\n",
      "\n",
      "  bst.update(dtrain, iteration=i, fobj=obj)\n"
     ]
    }
   ],
   "source": [
    "def objective_xgb_base(trial):\n",
    "    params = {\n",
    "        \"n_estimators\": trial.suggest_int(\"n_estimators\", 50, 100),\n",
    "        \"max_depth\": trial.suggest_int(\"max_depth\", 3, 10),\n",
    "        \"learning_rate\": trial.suggest_float(\"learning_rate\", 0.01, 0.3),\n",
    "        \"use_label_encoder\": False,\n",
    "        \"eval_metric\": \"mlogloss\"\n",
    "    }\n",
    "    model = XGBClassifier(**params, random_state=7, verbosity=0)\n",
    "    model.fit(X_train_scaled, y_train)\n",
    "    preds = model.predict(X_val_scaled)\n",
    "    return kappa_metric(y_val, preds)\n",
    "\n",
    "study_xgb = optuna.create_study(\n",
    "    direction=\"maximize\",\n",
    "    study_name=\"xgb_base\",\n",
    "    storage=storage,\n",
    "    load_if_exists=True\n",
    ")\n",
    "study_xgb.optimize(objective_xgb_base, n_trials=5)\n",
    "\n",
    "model_xgb = XGBClassifier(**study_xgb.best_params, random_state=7, use_label_encoder=False, eval_metric=\"mlogloss\")\n",
    "model_xgb.fit(X_train_scaled, y_train)\n",
    "preds_xgb_base = model_xgb.predict(X_val_scaled)"
   ]
  },
  {
   "cell_type": "code",
   "execution_count": 45,
   "id": "1fb75ca6-5ded-4955-bec6-c3f9845e7aee",
   "metadata": {},
   "outputs": [
    {
     "name": "stderr",
     "output_type": "stream",
     "text": [
      "[I 2025-05-22 21:33:29,259] Using an existing study with name 'lgb_base' instead of creating a new one.\n",
      "/Users/paul/anaconda3/envs/ldi2/lib/python3.12/site-packages/sklearn/utils/validation.py:2739: UserWarning: X does not have valid feature names, but LGBMClassifier was fitted with feature names\n",
      "  warnings.warn(\n",
      "[I 2025-05-22 21:33:31,747] Trial 10 finished with value: 0.22281974464994592 and parameters: {'n_estimators': 88, 'max_depth': 9, 'learning_rate': 0.01759711808610917}. Best is trial 4 with value: 0.23990595113839797.\n",
      "/Users/paul/anaconda3/envs/ldi2/lib/python3.12/site-packages/sklearn/utils/validation.py:2739: UserWarning: X does not have valid feature names, but LGBMClassifier was fitted with feature names\n",
      "  warnings.warn(\n",
      "[I 2025-05-22 21:33:33,851] Trial 11 finished with value: 0.2338878251936164 and parameters: {'n_estimators': 85, 'max_depth': 8, 'learning_rate': 0.10315014676351017}. Best is trial 4 with value: 0.23990595113839797.\n",
      "/Users/paul/anaconda3/envs/ldi2/lib/python3.12/site-packages/sklearn/utils/validation.py:2739: UserWarning: X does not have valid feature names, but LGBMClassifier was fitted with feature names\n",
      "  warnings.warn(\n",
      "[I 2025-05-22 21:33:35,698] Trial 12 finished with value: 0.23034926986598026 and parameters: {'n_estimators': 80, 'max_depth': 7, 'learning_rate': 0.26032693433517934}. Best is trial 4 with value: 0.23990595113839797.\n",
      "/Users/paul/anaconda3/envs/ldi2/lib/python3.12/site-packages/sklearn/utils/validation.py:2739: UserWarning: X does not have valid feature names, but LGBMClassifier was fitted with feature names\n",
      "  warnings.warn(\n",
      "[I 2025-05-22 21:33:37,555] Trial 13 finished with value: 0.2324290088026565 and parameters: {'n_estimators': 66, 'max_depth': 10, 'learning_rate': 0.11960504873319736}. Best is trial 4 with value: 0.23990595113839797.\n",
      "/Users/paul/anaconda3/envs/ldi2/lib/python3.12/site-packages/sklearn/utils/validation.py:2739: UserWarning: X does not have valid feature names, but LGBMClassifier was fitted with feature names\n",
      "  warnings.warn(\n",
      "[I 2025-05-22 21:33:42,554] Trial 14 finished with value: 0.2328009068379383 and parameters: {'n_estimators': 80, 'max_depth': 7, 'learning_rate': 0.2214447493584553}. Best is trial 4 with value: 0.23990595113839797.\n",
      "/Users/paul/anaconda3/envs/ldi2/lib/python3.12/site-packages/sklearn/utils/validation.py:2739: UserWarning: X does not have valid feature names, but LGBMClassifier was fitted with feature names\n",
      "  warnings.warn(\n"
     ]
    }
   ],
   "source": [
    "def objective_lgb_base(trial):\n",
    "    params = {\n",
    "        \"n_estimators\": trial.suggest_int(\"n_estimators\", 50, 100),\n",
    "        \"max_depth\": trial.suggest_int(\"max_depth\", 3, 10),\n",
    "        \"learning_rate\": trial.suggest_float(\"learning_rate\", 0.01, 0.3),\n",
    "    }\n",
    "    model = LGBMClassifier(**params, random_state=7, verbosity=-1)\n",
    "    model.fit(X_train_scaled, y_train)\n",
    "    preds = model.predict(X_val_scaled)\n",
    "    return kappa_metric(y_val, preds)\n",
    "\n",
    "study_lgb = optuna.create_study(\n",
    "    direction=\"maximize\",\n",
    "    study_name=\"lgb_base\",\n",
    "    storage=storage,\n",
    "    load_if_exists=True\n",
    ")\n",
    "study_lgb.optimize(objective_lgb_base, n_trials=5)\n",
    "\n",
    "model_lgb = LGBMClassifier(**study_lgb.best_params, random_state=7)\n",
    "model_lgb.fit(X_train_scaled, y_train)\n",
    "preds_lgb_base = model_lgb.predict(X_val_scaled)"
   ]
  },
  {
   "cell_type": "code",
   "execution_count": 46,
   "id": "79a1a17d-80f0-40fb-9869-02d9b5751627",
   "metadata": {},
   "outputs": [],
   "source": [
    "all_preds_base = np.vstack([preds_rf_base, preds_xgb_base, preds_lgb_base])\n",
    "ensemble_preds_base = mode(all_preds_base, axis=0).mode"
   ]
  },
  {
   "cell_type": "code",
   "execution_count": 47,
   "id": "6a9594ba-0764-4605-bd1d-7c156d300d67",
   "metadata": {},
   "outputs": [
    {
     "name": "stderr",
     "output_type": "stream",
     "text": [
      "/Users/paul/anaconda3/envs/ldi2/lib/python3.12/site-packages/sklearn/utils/validation.py:2739: UserWarning: X does not have valid feature names, but LGBMClassifier was fitted with feature names\n",
      "  warnings.warn(\n"
     ]
    }
   ],
   "source": [
    "proba_rf_base = model_rf.predict_proba(X_val_scaled)\n",
    "proba_xgb_base = model_xgb.predict_proba(X_val_scaled)\n",
    "proba_lgb_base = model_lgb.predict_proba(X_val_scaled)"
   ]
  },
  {
   "cell_type": "code",
   "execution_count": 144,
   "id": "62273d69-af55-4b4b-adf7-5cd9667f0f15",
   "metadata": {},
   "outputs": [],
   "source": [
    "ensemble_probas = (proba_rf_base + proba_xgb_base + proba_lgb_base) / 3\n",
    "ensemble_preds_base = np.argmax(ensemble_probas, axis=1)"
   ]
  },
  {
   "cell_type": "code",
   "execution_count": 145,
   "id": "362ce4c8-7114-4d2d-b6d0-ababc0a4d2cf",
   "metadata": {},
   "outputs": [
    {
     "data": {
      "text/plain": [
       "array([2, 1, 2, ..., 2, 4, 1])"
      ]
     },
     "execution_count": 145,
     "metadata": {},
     "output_type": "execute_result"
    }
   ],
   "source": [
    "ensemble_preds_base"
   ]
  },
  {
   "cell_type": "code",
   "execution_count": 147,
   "id": "d9f986a2-c2b7-478a-a49e-968b780ce272",
   "metadata": {},
   "outputs": [
    {
     "name": "stdout",
     "output_type": "stream",
     "text": [
      "Cohen's Kappa del Ensemble: 0.2417\n"
     ]
    }
   ],
   "source": [
    "final_kappa_base = cohen_kappa_score(y_val, ensemble_preds_base)\n",
    "print(f\"Cohen's Kappa del Ensemble: {final_kappa_base:.4f}\")"
   ]
  },
  {
   "cell_type": "code",
   "execution_count": 51,
   "id": "7cf9f44a-0894-48d7-8663-61f9f64088cb",
   "metadata": {},
   "outputs": [],
   "source": [
    "ids_proba_rf_base = pd.DataFrame(proba_rf_base).merge(ids, left_index=True, right_index=True, how='inner')\n",
    "ids_proba_rf_sum_base = ids_proba_rf_base.drop(columns=['PetID']).values\n",
    "ids_proba_xgb_base = pd.DataFrame(proba_xgb_base).merge(ids, left_index=True, right_index=True, how='inner')\n",
    "ids_proba_xgb_sum_base = ids_proba_xgb_base.drop(columns=['PetID']).values\n",
    "ids_proba_lgb_base = pd.DataFrame(proba_lgb_base).merge(ids, left_index=True, right_index=True, how='inner')\n",
    "ids_proba_lgb_sum_base = ids_proba_lgb_base.drop(columns=['PetID']).values\n",
    "ids_ensemble_aux_sum_base = ids_ensemble_aux_sum.astype('float')"
   ]
  },
  {
   "cell_type": "code",
   "execution_count": 52,
   "id": "da8e1ca9-3157-421a-9b3f-8d4b13efc891",
   "metadata": {},
   "outputs": [],
   "source": [
    "ensemble_probas_con_texto = (ids_proba_rf_sum_base + ids_proba_xgb_sum_base + ids_proba_lgb_sum_base + ids_ensemble_aux_sum_base) / 4\n",
    "ensemble_preds_base_con_texto = np.argmax(ensemble_probas_con_texto, axis=1)"
   ]
  },
  {
   "cell_type": "code",
   "execution_count": 53,
   "id": "0fca757c-b853-49b1-8ea6-33677410110a",
   "metadata": {},
   "outputs": [
    {
     "name": "stdout",
     "output_type": "stream",
     "text": [
      "Cohen's Kappa del Ensemble: 0.4970\n"
     ]
    }
   ],
   "source": [
    "final_kappa_base_con_texto = cohen_kappa_score(y_val, ensemble_preds_base_con_texto)\n",
    "print(f\"Cohen's Kappa del Ensemble: {final_kappa_base_con_texto:.4f}\")"
   ]
  },
  {
   "cell_type": "code",
   "execution_count": null,
   "id": "c77bfa94-78f2-4616-af7e-b7dc2fe48f34",
   "metadata": {},
   "outputs": [],
   "source": []
  }
 ],
 "metadata": {
  "kernelspec": {
   "display_name": "Python [conda env:ldi2] *",
   "language": "python",
   "name": "conda-env-ldi2-py"
  },
  "language_info": {
   "codemirror_mode": {
    "name": "ipython",
    "version": 3
   },
   "file_extension": ".py",
   "mimetype": "text/x-python",
   "name": "python",
   "nbconvert_exporter": "python",
   "pygments_lexer": "ipython3",
   "version": "3.12.9"
  }
 },
 "nbformat": 4,
 "nbformat_minor": 5
}
