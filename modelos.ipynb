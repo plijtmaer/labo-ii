{
 "cells": [
  {
   "cell_type": "markdown",
   "id": "b3678d86-c628-4fa4-9372-056cb7d8a622",
   "metadata": {},
   "source": [
    "# Carga de datos"
   ]
  },
  {
   "cell_type": "code",
   "execution_count": 504,
   "id": "710317f4-eb62-43c9-91ec-5a4541584a3b",
   "metadata": {},
   "outputs": [],
   "source": [
    "import pandas as pd\n",
    "import numpy as np\n",
    "import matplotlib.pyplot as plt\n",
    "import seaborn as sns\n",
    "%matplotlib inline\n",
    "from sklearn.model_selection import train_test_split\n",
    "from sklearn.ensemble import RandomForestClassifier\n",
    "from xgboost import XGBClassifier\n",
    "from sklearn.metrics import confusion_matrix, cohen_kappa_score\n",
    "from sklearn.preprocessing import StandardScaler\n",
    "import optuna\n",
    "from optuna.artifacts import FileSystemArtifactStore, upload_artifact\n",
    "from lightgbm import LGBMClassifier\n",
    "import os\n",
    "import shutil\n",
    "import time\n",
    "import copy\n",
    "import datetime\n",
    "from tqdm import tqdm\n",
    "import torch\n",
    "import torchvision.models as models\n",
    "import torch.nn as nn\n",
    "import torch.optim as optim\n",
    "from torchvision import datasets, transforms\n",
    "from torch.autograd import Variable\n",
    "import torch.nn.functional as F\n",
    "from joblib import load, dump\n",
    "from utils import plot_confusion_matrix\n",
    "from scipy.stats import mode"
   ]
  },
  {
   "cell_type": "code",
   "execution_count": 505,
   "id": "ce620b18-ca06-45ef-8aea-3345d4cd84ca",
   "metadata": {},
   "outputs": [],
   "source": [
    "resnet_pred = pd.read_csv('resnet_preds_final.csv')"
   ]
  },
  {
   "cell_type": "code",
   "execution_count": 506,
   "id": "4431f0f4-6ed9-47f3-8637-8610127cb714",
   "metadata": {},
   "outputs": [],
   "source": [
    "text = pd.read_csv('predictions_desc.csv')"
   ]
  },
  {
   "cell_type": "code",
   "execution_count": 507,
   "id": "87772b3c-a2a6-47d7-b690-a78d999430c9",
   "metadata": {},
   "outputs": [],
   "source": [
    "df = pd.read_csv('df_refinado.csv').drop(columns=['resnet_pred', 'Prob_text', 'Pred_text'])"
   ]
  },
  {
   "cell_type": "code",
   "execution_count": 508,
   "id": "42758d3b-25f7-4aa9-87ec-ac563b6c82f2",
   "metadata": {},
   "outputs": [],
   "source": [
    "df = pd.merge(df, resnet_pred, left_on=\"PetID\", right_on=\"PetID\", how=\"left\")"
   ]
  },
  {
   "cell_type": "code",
   "execution_count": 509,
   "id": "48cddf74-e338-4785-9bfc-e038257ed2b7",
   "metadata": {},
   "outputs": [],
   "source": [
    "df = pd.merge(df, text, left_on=\"PetID\", right_on=\"ID\", how=\"left\")"
   ]
  },
  {
   "cell_type": "code",
   "execution_count": 510,
   "id": "3a375bab-8dd0-4b07-b8b1-9b0ea081b86d",
   "metadata": {},
   "outputs": [],
   "source": [
    "df.drop(columns=['ID'], inplace=True)"
   ]
  },
  {
   "cell_type": "code",
   "execution_count": 511,
   "id": "3ea71841-f331-45b6-977b-debb8cd57936",
   "metadata": {},
   "outputs": [
    {
     "data": {
      "text/plain": [
       "(14993, 52)"
      ]
     },
     "execution_count": 511,
     "metadata": {},
     "output_type": "execute_result"
    }
   ],
   "source": [
    "df_original = pd.read_csv('train.csv')['PetID']\n",
    "df_train = pd.merge(df_original, df, left_on=\"PetID\", right_on=\"PetID\", how=\"left\")\n",
    "df_train.shape"
   ]
  },
  {
   "cell_type": "code",
   "execution_count": 512,
   "id": "3dce21b5-d1cd-42bc-b77a-331209a4ee68",
   "metadata": {},
   "outputs": [],
   "source": [
    "df = df_train"
   ]
  },
  {
   "cell_type": "code",
   "execution_count": 513,
   "id": "88442985-860b-4af0-a59e-f931379593a4",
   "metadata": {},
   "outputs": [
    {
     "data": {
      "text/html": [
       "<div>\n",
       "<style scoped>\n",
       "    .dataframe tbody tr th:only-of-type {\n",
       "        vertical-align: middle;\n",
       "    }\n",
       "\n",
       "    .dataframe tbody tr th {\n",
       "        vertical-align: top;\n",
       "    }\n",
       "\n",
       "    .dataframe thead th {\n",
       "        text-align: right;\n",
       "    }\n",
       "</style>\n",
       "<table border=\"1\" class=\"dataframe\">\n",
       "  <thead>\n",
       "    <tr style=\"text-align: right;\">\n",
       "      <th></th>\n",
       "      <th>PetID</th>\n",
       "      <th>Type</th>\n",
       "      <th>Name</th>\n",
       "      <th>Age</th>\n",
       "      <th>Breed1</th>\n",
       "      <th>Breed2</th>\n",
       "      <th>Gender</th>\n",
       "      <th>Color1</th>\n",
       "      <th>Color2</th>\n",
       "      <th>Color3</th>\n",
       "      <th>...</th>\n",
       "      <th>Sentiment_Negativo</th>\n",
       "      <th>Sentiment_Neutro</th>\n",
       "      <th>Sentiment_Positivo</th>\n",
       "      <th>Sentiment_Negativo.1</th>\n",
       "      <th>Sentiment_Neutro.1</th>\n",
       "      <th>Sentiment_Positivo.1</th>\n",
       "      <th>RescuerGroup</th>\n",
       "      <th>resnet_pred</th>\n",
       "      <th>Probabilities</th>\n",
       "      <th>Prediction</th>\n",
       "    </tr>\n",
       "  </thead>\n",
       "  <tbody>\n",
       "    <tr>\n",
       "      <th>0</th>\n",
       "      <td>86e1089a3</td>\n",
       "      <td>2</td>\n",
       "      <td>Nibble</td>\n",
       "      <td>3</td>\n",
       "      <td>299</td>\n",
       "      <td>0</td>\n",
       "      <td>1</td>\n",
       "      <td>1</td>\n",
       "      <td>7</td>\n",
       "      <td>0</td>\n",
       "      <td>...</td>\n",
       "      <td>False</td>\n",
       "      <td>False</td>\n",
       "      <td>True</td>\n",
       "      <td>False</td>\n",
       "      <td>False</td>\n",
       "      <td>True</td>\n",
       "      <td>2</td>\n",
       "      <td>NaN</td>\n",
       "      <td>[0.00075255 0.15268189 0.80045265 0.04555201 0...</td>\n",
       "      <td>2.0</td>\n",
       "    </tr>\n",
       "    <tr>\n",
       "      <th>1</th>\n",
       "      <td>6296e909a</td>\n",
       "      <td>2</td>\n",
       "      <td>No name yet</td>\n",
       "      <td>1</td>\n",
       "      <td>265</td>\n",
       "      <td>0</td>\n",
       "      <td>1</td>\n",
       "      <td>1</td>\n",
       "      <td>2</td>\n",
       "      <td>0</td>\n",
       "      <td>...</td>\n",
       "      <td>False</td>\n",
       "      <td>False</td>\n",
       "      <td>True</td>\n",
       "      <td>False</td>\n",
       "      <td>False</td>\n",
       "      <td>True</td>\n",
       "      <td>1</td>\n",
       "      <td>NaN</td>\n",
       "      <td>[0.02892482 0.31997138 0.54787356 0.09699186 0...</td>\n",
       "      <td>2.0</td>\n",
       "    </tr>\n",
       "    <tr>\n",
       "      <th>2</th>\n",
       "      <td>3422e4906</td>\n",
       "      <td>1</td>\n",
       "      <td>Brisco</td>\n",
       "      <td>1</td>\n",
       "      <td>307</td>\n",
       "      <td>0</td>\n",
       "      <td>1</td>\n",
       "      <td>2</td>\n",
       "      <td>7</td>\n",
       "      <td>0</td>\n",
       "      <td>...</td>\n",
       "      <td>False</td>\n",
       "      <td>False</td>\n",
       "      <td>True</td>\n",
       "      <td>False</td>\n",
       "      <td>False</td>\n",
       "      <td>True</td>\n",
       "      <td>5</td>\n",
       "      <td>NaN</td>\n",
       "      <td>[0.00089478 0.00274030 0.12768795 0.86501288 0...</td>\n",
       "      <td>3.0</td>\n",
       "    </tr>\n",
       "  </tbody>\n",
       "</table>\n",
       "<p>3 rows × 52 columns</p>\n",
       "</div>"
      ],
      "text/plain": [
       "       PetID  Type         Name  Age  Breed1  Breed2  Gender  Color1  Color2  \\\n",
       "0  86e1089a3     2       Nibble    3     299       0       1       1       7   \n",
       "1  6296e909a     2  No name yet    1     265       0       1       1       2   \n",
       "2  3422e4906     1       Brisco    1     307       0       1       2       7   \n",
       "\n",
       "   Color3  ...  Sentiment_Negativo  Sentiment_Neutro  Sentiment_Positivo  \\\n",
       "0       0  ...               False             False                True   \n",
       "1       0  ...               False             False                True   \n",
       "2       0  ...               False             False                True   \n",
       "\n",
       "   Sentiment_Negativo.1  Sentiment_Neutro.1  Sentiment_Positivo.1  \\\n",
       "0                 False               False                  True   \n",
       "1                 False               False                  True   \n",
       "2                 False               False                  True   \n",
       "\n",
       "   RescuerGroup  resnet_pred  \\\n",
       "0             2          NaN   \n",
       "1             1          NaN   \n",
       "2             5          NaN   \n",
       "\n",
       "                                       Probabilities Prediction  \n",
       "0  [0.00075255 0.15268189 0.80045265 0.04555201 0...        2.0  \n",
       "1  [0.02892482 0.31997138 0.54787356 0.09699186 0...        2.0  \n",
       "2  [0.00089478 0.00274030 0.12768795 0.86501288 0...        3.0  \n",
       "\n",
       "[3 rows x 52 columns]"
      ]
     },
     "execution_count": 513,
     "metadata": {},
     "output_type": "execute_result"
    }
   ],
   "source": [
    "df.head(3)"
   ]
  },
  {
   "cell_type": "markdown",
   "id": "00824c55-7645-41e6-a44d-8cd0b246bc9c",
   "metadata": {},
   "source": [
    "# Modelos"
   ]
  },
  {
   "cell_type": "markdown",
   "id": "1ac7b8b9-c888-47cf-a1b6-c7006b917b92",
   "metadata": {},
   "source": [
    "## Data Leakage"
   ]
  },
  {
   "cell_type": "code",
   "execution_count": 514,
   "id": "415de6c4-7087-49ef-a95d-c060081009cd",
   "metadata": {
    "scrolled": true
   },
   "outputs": [],
   "source": [
    "X = df.select_dtypes(exclude='object').drop(columns=['AdoptionSpeed'])\n",
    "y = df['AdoptionSpeed']"
   ]
  },
  {
   "cell_type": "code",
   "execution_count": 515,
   "id": "81f17fb9-0c58-4f03-af03-3dce96c52e61",
   "metadata": {},
   "outputs": [
    {
     "data": {
      "text/plain": [
       "AdoptionSpeed\n",
       "4    4197\n",
       "2    4037\n",
       "3    3259\n",
       "1    3090\n",
       "0     410\n",
       "Name: count, dtype: int64"
      ]
     },
     "execution_count": 515,
     "metadata": {},
     "output_type": "execute_result"
    }
   ],
   "source": [
    "df['AdoptionSpeed'].value_counts(dropna=False)"
   ]
  },
  {
   "cell_type": "code",
   "execution_count": 516,
   "id": "cb642028-3269-4679-b708-6d5a54e82170",
   "metadata": {},
   "outputs": [],
   "source": [
    "X_train, X_val, y_train, y_val = train_test_split(X, y, stratify=y, test_size=0.2, random_state=7)"
   ]
  },
  {
   "cell_type": "code",
   "execution_count": 517,
   "id": "932c2a7d-0d07-473c-8de0-c6fd8ed1c0cf",
   "metadata": {},
   "outputs": [],
   "source": [
    "scaler = StandardScaler()\n",
    "X_train_scaled = scaler.fit_transform(X_train)\n",
    "X_val_scaled = scaler.transform(X_val)"
   ]
  },
  {
   "cell_type": "code",
   "execution_count": 518,
   "id": "1994f1a4-103d-42af-af36-a695ab2a1745",
   "metadata": {},
   "outputs": [],
   "source": [
    "def kappa_metric(y_true, y_pred):\n",
    "    return cohen_kappa_score(y_true, y_pred)"
   ]
  },
  {
   "cell_type": "code",
   "execution_count": 519,
   "id": "c87bbb37-2304-47e6-aa21-aa6831cdf623",
   "metadata": {},
   "outputs": [],
   "source": [
    "storage = \"sqlite:////Users/paul/Downloads/Documentos Locales/labo-ii/optuna_studies.db\""
   ]
  },
  {
   "cell_type": "code",
   "execution_count": 520,
   "id": "5f44e206-4549-4ce4-beba-a419117c97ab",
   "metadata": {},
   "outputs": [
    {
     "name": "stderr",
     "output_type": "stream",
     "text": [
      "[I 2025-05-08 17:42:39,940] Using an existing study with name 'rf_dl' instead of creating a new one.\n",
      "[I 2025-05-08 17:42:40,142] Trial 5 finished with value: 0.5277498616573633 and parameters: {'n_estimators': 64, 'max_depth': 8, 'min_samples_split': 6}. Best is trial 1 with value: 0.5534352032007082.\n",
      "[I 2025-05-08 17:42:40,391] Trial 6 finished with value: 0.5575132327828793 and parameters: {'n_estimators': 90, 'max_depth': 10, 'min_samples_split': 7}. Best is trial 6 with value: 0.5575132327828793.\n",
      "[I 2025-05-08 17:42:40,593] Trial 7 finished with value: 0.34114341004944815 and parameters: {'n_estimators': 96, 'max_depth': 3, 'min_samples_split': 5}. Best is trial 6 with value: 0.5575132327828793.\n",
      "[I 2025-05-08 17:42:40,762] Trial 8 finished with value: 0.5398774409368182 and parameters: {'n_estimators': 60, 'max_depth': 8, 'min_samples_split': 10}. Best is trial 6 with value: 0.5575132327828793.\n",
      "[I 2025-05-08 17:42:40,941] Trial 9 finished with value: 0.5129043664430892 and parameters: {'n_estimators': 69, 'max_depth': 7, 'min_samples_split': 6}. Best is trial 6 with value: 0.5575132327828793.\n"
     ]
    }
   ],
   "source": [
    "def objective_rf(trial):\n",
    "    params = {\n",
    "        \"n_estimators\": trial.suggest_int(\"n_estimators\", 50, 100),\n",
    "        \"max_depth\": trial.suggest_int(\"max_depth\", 3, 10),\n",
    "        \"min_samples_split\": trial.suggest_int(\"min_samples_split\", 2, 10),\n",
    "    }\n",
    "    model = RandomForestClassifier(**params, random_state=7, n_jobs=-1)\n",
    "    model.fit(X_train_scaled, y_train)\n",
    "    preds = model.predict(X_val_scaled)\n",
    "    return kappa_metric(y_val, preds)\n",
    "\n",
    "study_rf = optuna.create_study(\n",
    "    direction=\"maximize\",\n",
    "    study_name=\"rf_dl\",\n",
    "    storage=storage,\n",
    "    load_if_exists=True\n",
    ")\n",
    "study_rf.optimize(objective_rf, n_trials=5)\n",
    "\n",
    "model_rf = RandomForestClassifier(**study_rf.best_params, random_state=7, n_jobs=-1)\n",
    "model_rf.fit(X_train_scaled, y_train)\n",
    "preds_rf = model_rf.predict(X_val_scaled)\n"
   ]
  },
  {
   "cell_type": "code",
   "execution_count": 521,
   "id": "303b5c6e-2feb-4646-9edb-9a4a2f5d396a",
   "metadata": {},
   "outputs": [
    {
     "name": "stderr",
     "output_type": "stream",
     "text": [
      "[I 2025-05-08 17:42:41,196] Using an existing study with name 'xgb_dl' instead of creating a new one.\n",
      "[I 2025-05-08 17:42:42,676] Trial 5 finished with value: 0.5664337987836014 and parameters: {'n_estimators': 96, 'max_depth': 8, 'learning_rate': 0.07570903714619329}. Best is trial 0 with value: 0.5678326623991661.\n",
      "[I 2025-05-08 17:42:44,276] Trial 6 finished with value: 0.5660352145482788 and parameters: {'n_estimators': 94, 'max_depth': 8, 'learning_rate': 0.21827239648516497}. Best is trial 0 with value: 0.5678326623991661.\n",
      "[I 2025-05-08 17:42:44,790] Trial 7 finished with value: 0.5648481073289754 and parameters: {'n_estimators': 76, 'max_depth': 3, 'learning_rate': 0.14394513089282773}. Best is trial 0 with value: 0.5678326623991661.\n",
      "[I 2025-05-08 17:42:46,881] Trial 8 finished with value: 0.554593088900857 and parameters: {'n_estimators': 79, 'max_depth': 10, 'learning_rate': 0.2651880164590136}. Best is trial 0 with value: 0.5678326623991661.\n",
      "[I 2025-05-08 17:42:47,527] Trial 9 finished with value: 0.5655744325518793 and parameters: {'n_estimators': 51, 'max_depth': 7, 'learning_rate': 0.24810693286427954}. Best is trial 0 with value: 0.5678326623991661.\n",
      "/Users/paul/anaconda3/envs/ldi2/lib/python3.12/site-packages/xgboost/training.py:183: UserWarning: [17:42:47] WARNING: /Users/runner/miniforge3/conda-bld/xgboost-split_1745056743506/work/src/learner.cc:738: \n",
      "Parameters: { \"use_label_encoder\" } are not used.\n",
      "\n",
      "  bst.update(dtrain, iteration=i, fobj=obj)\n"
     ]
    }
   ],
   "source": [
    "def objective_xgb(trial):\n",
    "    params = {\n",
    "        \"n_estimators\": trial.suggest_int(\"n_estimators\", 50, 100),\n",
    "        \"max_depth\": trial.suggest_int(\"max_depth\", 3, 10),\n",
    "        \"learning_rate\": trial.suggest_float(\"learning_rate\", 0.01, 0.3),\n",
    "        \"use_label_encoder\": False,\n",
    "        \"eval_metric\": \"mlogloss\"\n",
    "    }\n",
    "    model = XGBClassifier(**params, random_state=7, verbosity=0)\n",
    "    model.fit(X_train_scaled, y_train)\n",
    "    preds = model.predict(X_val_scaled)\n",
    "    return kappa_metric(y_val, preds)\n",
    "\n",
    "study_xgb = optuna.create_study(\n",
    "    direction=\"maximize\",\n",
    "    study_name=\"xgb_dl\",\n",
    "    storage=storage,\n",
    "    load_if_exists=True\n",
    ")\n",
    "study_xgb.optimize(objective_xgb, n_trials=5)\n",
    "\n",
    "model_xgb = XGBClassifier(**study_xgb.best_params, random_state=7, use_label_encoder=False, eval_metric=\"mlogloss\")\n",
    "model_xgb.fit(X_train_scaled, y_train)\n",
    "preds_xgb = model_xgb.predict(X_val_scaled)"
   ]
  },
  {
   "cell_type": "code",
   "execution_count": 522,
   "id": "303af98d-d986-42e1-84e4-917d7c8fa0d2",
   "metadata": {},
   "outputs": [
    {
     "name": "stderr",
     "output_type": "stream",
     "text": [
      "[I 2025-05-08 17:42:48,479] Using an existing study with name 'lgb_dl' instead of creating a new one.\n",
      "/Users/paul/anaconda3/envs/ldi2/lib/python3.12/site-packages/sklearn/utils/validation.py:2739: UserWarning: X does not have valid feature names, but LGBMClassifier was fitted with feature names\n",
      "  warnings.warn(\n",
      "[I 2025-05-08 17:42:48,969] Trial 5 finished with value: 0.5670033966284094 and parameters: {'n_estimators': 65, 'max_depth': 3, 'learning_rate': 0.19435088897212674}. Best is trial 3 with value: 0.5674007901296104.\n",
      "/Users/paul/anaconda3/envs/ldi2/lib/python3.12/site-packages/sklearn/utils/validation.py:2739: UserWarning: X does not have valid feature names, but LGBMClassifier was fitted with feature names\n",
      "  warnings.warn(\n",
      "[I 2025-05-08 17:42:49,593] Trial 6 finished with value: 0.5665376229660188 and parameters: {'n_estimators': 90, 'max_depth': 3, 'learning_rate': 0.28703544518842034}. Best is trial 3 with value: 0.5674007901296104.\n",
      "/Users/paul/anaconda3/envs/ldi2/lib/python3.12/site-packages/sklearn/utils/validation.py:2739: UserWarning: X does not have valid feature names, but LGBMClassifier was fitted with feature names\n",
      "  warnings.warn(\n",
      "[I 2025-05-08 17:42:50,024] Trial 7 finished with value: 0.5661726815822146 and parameters: {'n_estimators': 57, 'max_depth': 3, 'learning_rate': 0.25083644765243274}. Best is trial 3 with value: 0.5674007901296104.\n",
      "/Users/paul/anaconda3/envs/ldi2/lib/python3.12/site-packages/sklearn/utils/validation.py:2739: UserWarning: X does not have valid feature names, but LGBMClassifier was fitted with feature names\n",
      "  warnings.warn(\n",
      "[I 2025-05-08 17:42:52,089] Trial 8 finished with value: 0.5682831058251014 and parameters: {'n_estimators': 87, 'max_depth': 7, 'learning_rate': 0.11747655802549196}. Best is trial 8 with value: 0.5682831058251014.\n",
      "/Users/paul/anaconda3/envs/ldi2/lib/python3.12/site-packages/sklearn/utils/validation.py:2739: UserWarning: X does not have valid feature names, but LGBMClassifier was fitted with feature names\n",
      "  warnings.warn(\n",
      "[I 2025-05-08 17:42:54,001] Trial 9 finished with value: 0.5625173855447942 and parameters: {'n_estimators': 72, 'max_depth': 10, 'learning_rate': 0.24872398293164566}. Best is trial 8 with value: 0.5682831058251014.\n",
      "/Users/paul/anaconda3/envs/ldi2/lib/python3.12/site-packages/sklearn/utils/validation.py:2739: UserWarning: X does not have valid feature names, but LGBMClassifier was fitted with feature names\n",
      "  warnings.warn(\n"
     ]
    }
   ],
   "source": [
    "def objective_lgb(trial):\n",
    "    params = {\n",
    "        \"n_estimators\": trial.suggest_int(\"n_estimators\", 50, 100),\n",
    "        \"max_depth\": trial.suggest_int(\"max_depth\", 3, 10),\n",
    "        \"learning_rate\": trial.suggest_float(\"learning_rate\", 0.01, 0.3),\n",
    "    }\n",
    "    model = LGBMClassifier(**params, random_state=7, verbosity=-1)\n",
    "    model.fit(X_train_scaled, y_train)\n",
    "    preds = model.predict(X_val_scaled)\n",
    "    return kappa_metric(y_val, preds)\n",
    "\n",
    "study_lgb = optuna.create_study(\n",
    "    direction=\"maximize\",\n",
    "    study_name=\"lgb_dl\",\n",
    "    storage=storage,\n",
    "    load_if_exists=True\n",
    ")\n",
    "study_lgb.optimize(objective_lgb, n_trials=5)\n",
    "\n",
    "model_lgb = LGBMClassifier(**study_lgb.best_params, random_state=7)\n",
    "model_lgb.fit(X_train_scaled, y_train)\n",
    "preds_lgb = model_lgb.predict(X_val_scaled)"
   ]
  },
  {
   "cell_type": "code",
   "execution_count": 523,
   "id": "bc04bb39-bd35-42b5-8ed9-ea4b8fce71d0",
   "metadata": {},
   "outputs": [],
   "source": [
    "all_preds = np.vstack([preds_rf, preds_xgb, preds_lgb])\n",
    "ensemble_preds = mode(all_preds, axis=0).mode"
   ]
  },
  {
   "cell_type": "code",
   "execution_count": 524,
   "id": "54698b76-b436-463c-a2e3-3a22469ed695",
   "metadata": {},
   "outputs": [
    {
     "name": "stdout",
     "output_type": "stream",
     "text": [
      "Cohen's Kappa del Ensemble: 0.5678\n"
     ]
    }
   ],
   "source": [
    "final_kappa = cohen_kappa_score(y_val, ensemble_preds)\n",
    "print(f\"Cohen's Kappa del Ensemble: {final_kappa:.4f}\")"
   ]
  },
  {
   "cell_type": "code",
   "execution_count": 525,
   "id": "b48e5bef-2c33-4128-a96f-e4f6b9577267",
   "metadata": {},
   "outputs": [
    {
     "name": "stderr",
     "output_type": "stream",
     "text": [
      "/Users/paul/anaconda3/envs/ldi2/lib/python3.12/site-packages/sklearn/utils/validation.py:2739: UserWarning: X does not have valid feature names, but LGBMClassifier was fitted with feature names\n",
      "  warnings.warn(\n"
     ]
    }
   ],
   "source": [
    "proba_rf = model_rf.predict_proba(X_val_scaled)\n",
    "proba_xgb = model_xgb.predict_proba(X_val_scaled)\n",
    "proba_lgb = model_lgb.predict_proba(X_val_scaled)"
   ]
  },
  {
   "cell_type": "code",
   "execution_count": 526,
   "id": "a5ac9a73-1ffa-474d-b94a-389e0b6de492",
   "metadata": {},
   "outputs": [
    {
     "data": {
      "text/html": [
       "<div>\n",
       "<style scoped>\n",
       "    .dataframe tbody tr th:only-of-type {\n",
       "        vertical-align: middle;\n",
       "    }\n",
       "\n",
       "    .dataframe tbody tr th {\n",
       "        vertical-align: top;\n",
       "    }\n",
       "\n",
       "    .dataframe thead th {\n",
       "        text-align: right;\n",
       "    }\n",
       "</style>\n",
       "<table border=\"1\" class=\"dataframe\">\n",
       "  <thead>\n",
       "    <tr style=\"text-align: right;\">\n",
       "      <th></th>\n",
       "      <th>PetID</th>\n",
       "      <th>prob_class_0</th>\n",
       "      <th>prob_class_1</th>\n",
       "      <th>prob_class_2</th>\n",
       "      <th>prob_class_3</th>\n",
       "      <th>prob_class_4</th>\n",
       "    </tr>\n",
       "  </thead>\n",
       "  <tbody>\n",
       "    <tr>\n",
       "      <th>0</th>\n",
       "      <td>015da9e87</td>\n",
       "      <td>-0.879113</td>\n",
       "      <td>0.443262</td>\n",
       "      <td>0.689422</td>\n",
       "      <td>-0.139108</td>\n",
       "      <td>-0.356720</td>\n",
       "    </tr>\n",
       "    <tr>\n",
       "      <th>1</th>\n",
       "      <td>022606901</td>\n",
       "      <td>-4.020277</td>\n",
       "      <td>-0.577126</td>\n",
       "      <td>1.333538</td>\n",
       "      <td>2.054347</td>\n",
       "      <td>1.475107</td>\n",
       "    </tr>\n",
       "    <tr>\n",
       "      <th>2</th>\n",
       "      <td>02f89bdcb</td>\n",
       "      <td>-2.336137</td>\n",
       "      <td>-0.366367</td>\n",
       "      <td>0.259281</td>\n",
       "      <td>1.189482</td>\n",
       "      <td>1.085584</td>\n",
       "    </tr>\n",
       "    <tr>\n",
       "      <th>3</th>\n",
       "      <td>0cf7fae9d</td>\n",
       "      <td>-0.899533</td>\n",
       "      <td>0.899696</td>\n",
       "      <td>0.859313</td>\n",
       "      <td>-0.421518</td>\n",
       "      <td>-0.684542</td>\n",
       "    </tr>\n",
       "    <tr>\n",
       "      <th>4</th>\n",
       "      <td>0e922caab</td>\n",
       "      <td>-1.021429</td>\n",
       "      <td>0.817223</td>\n",
       "      <td>0.393542</td>\n",
       "      <td>0.584349</td>\n",
       "      <td>-0.658304</td>\n",
       "    </tr>\n",
       "    <tr>\n",
       "      <th>...</th>\n",
       "      <td>...</td>\n",
       "      <td>...</td>\n",
       "      <td>...</td>\n",
       "      <td>...</td>\n",
       "      <td>...</td>\n",
       "      <td>...</td>\n",
       "    </tr>\n",
       "    <tr>\n",
       "      <th>2926</th>\n",
       "      <td>ff2cf88a0</td>\n",
       "      <td>-3.103668</td>\n",
       "      <td>-0.347119</td>\n",
       "      <td>0.866403</td>\n",
       "      <td>1.245120</td>\n",
       "      <td>1.353035</td>\n",
       "    </tr>\n",
       "    <tr>\n",
       "      <th>2927</th>\n",
       "      <td>ff498c903</td>\n",
       "      <td>-2.143353</td>\n",
       "      <td>-0.180348</td>\n",
       "      <td>0.465958</td>\n",
       "      <td>0.826810</td>\n",
       "      <td>0.799603</td>\n",
       "    </tr>\n",
       "    <tr>\n",
       "      <th>2928</th>\n",
       "      <td>ff50c6171</td>\n",
       "      <td>-1.933526</td>\n",
       "      <td>0.621045</td>\n",
       "      <td>-0.066495</td>\n",
       "      <td>0.907700</td>\n",
       "      <td>0.555991</td>\n",
       "    </tr>\n",
       "    <tr>\n",
       "      <th>2929</th>\n",
       "      <td>ff5e30380</td>\n",
       "      <td>-2.088701</td>\n",
       "      <td>0.234211</td>\n",
       "      <td>-0.059611</td>\n",
       "      <td>0.294012</td>\n",
       "      <td>1.263344</td>\n",
       "    </tr>\n",
       "    <tr>\n",
       "      <th>2930</th>\n",
       "      <td>ffa5c6c35</td>\n",
       "      <td>-2.342396</td>\n",
       "      <td>-0.141839</td>\n",
       "      <td>-0.368192</td>\n",
       "      <td>0.513637</td>\n",
       "      <td>2.465995</td>\n",
       "    </tr>\n",
       "  </tbody>\n",
       "</table>\n",
       "<p>2931 rows × 6 columns</p>\n",
       "</div>"
      ],
      "text/plain": [
       "          PetID  prob_class_0  prob_class_1  prob_class_2  prob_class_3  \\\n",
       "0     015da9e87     -0.879113      0.443262      0.689422     -0.139108   \n",
       "1     022606901     -4.020277     -0.577126      1.333538      2.054347   \n",
       "2     02f89bdcb     -2.336137     -0.366367      0.259281      1.189482   \n",
       "3     0cf7fae9d     -0.899533      0.899696      0.859313     -0.421518   \n",
       "4     0e922caab     -1.021429      0.817223      0.393542      0.584349   \n",
       "...         ...           ...           ...           ...           ...   \n",
       "2926  ff2cf88a0     -3.103668     -0.347119      0.866403      1.245120   \n",
       "2927  ff498c903     -2.143353     -0.180348      0.465958      0.826810   \n",
       "2928  ff50c6171     -1.933526      0.621045     -0.066495      0.907700   \n",
       "2929  ff5e30380     -2.088701      0.234211     -0.059611      0.294012   \n",
       "2930  ffa5c6c35     -2.342396     -0.141839     -0.368192      0.513637   \n",
       "\n",
       "      prob_class_4  \n",
       "0        -0.356720  \n",
       "1         1.475107  \n",
       "2         1.085584  \n",
       "3        -0.684542  \n",
       "4        -0.658304  \n",
       "...            ...  \n",
       "2926      1.353035  \n",
       "2927      0.799603  \n",
       "2928      0.555991  \n",
       "2929      1.263344  \n",
       "2930      2.465995  \n",
       "\n",
       "[2931 rows x 6 columns]"
      ]
     },
     "execution_count": 526,
     "metadata": {},
     "output_type": "execute_result"
    }
   ],
   "source": [
    "prob_resnet = pd.read_csv('prob_resnet.csv')\n",
    "prob_resnet"
   ]
  },
  {
   "cell_type": "code",
   "execution_count": 527,
   "id": "11b8c3c2-d6fe-4287-bf5b-e6875d076d98",
   "metadata": {},
   "outputs": [
    {
     "data": {
      "text/html": [
       "<div>\n",
       "<style scoped>\n",
       "    .dataframe tbody tr th:only-of-type {\n",
       "        vertical-align: middle;\n",
       "    }\n",
       "\n",
       "    .dataframe tbody tr th {\n",
       "        vertical-align: top;\n",
       "    }\n",
       "\n",
       "    .dataframe thead th {\n",
       "        text-align: right;\n",
       "    }\n",
       "</style>\n",
       "<table border=\"1\" class=\"dataframe\">\n",
       "  <thead>\n",
       "    <tr style=\"text-align: right;\">\n",
       "      <th></th>\n",
       "      <th>ID</th>\n",
       "      <th>0</th>\n",
       "      <th>1</th>\n",
       "      <th>2</th>\n",
       "      <th>3</th>\n",
       "      <th>4</th>\n",
       "    </tr>\n",
       "  </thead>\n",
       "  <tbody>\n",
       "    <tr>\n",
       "      <th>0</th>\n",
       "      <td>86e1089a3</td>\n",
       "      <td>0.00075255</td>\n",
       "      <td>0.15268189</td>\n",
       "      <td>0.80045265</td>\n",
       "      <td>0.04555201</td>\n",
       "      <td>0.00056093</td>\n",
       "    </tr>\n",
       "    <tr>\n",
       "      <th>1</th>\n",
       "      <td>6296e909a</td>\n",
       "      <td>0.02892482</td>\n",
       "      <td>0.31997138</td>\n",
       "      <td>0.54787356</td>\n",
       "      <td>0.09699186</td>\n",
       "      <td>0.00623844</td>\n",
       "    </tr>\n",
       "    <tr>\n",
       "      <th>2</th>\n",
       "      <td>3422e4906</td>\n",
       "      <td>0.00089478</td>\n",
       "      <td>0.00274030</td>\n",
       "      <td>0.12768795</td>\n",
       "      <td>0.86501288</td>\n",
       "      <td>0.00366400</td>\n",
       "    </tr>\n",
       "    <tr>\n",
       "      <th>3</th>\n",
       "      <td>5842f1ff5</td>\n",
       "      <td>0.00050428</td>\n",
       "      <td>0.06155059</td>\n",
       "      <td>0.84609097</td>\n",
       "      <td>0.09076333</td>\n",
       "      <td>0.00109088</td>\n",
       "    </tr>\n",
       "    <tr>\n",
       "      <th>4</th>\n",
       "      <td>850a43f90</td>\n",
       "      <td>0.00148470</td>\n",
       "      <td>0.01733202</td>\n",
       "      <td>0.69236803</td>\n",
       "      <td>0.28250989</td>\n",
       "      <td>0.00630536</td>\n",
       "    </tr>\n",
       "    <tr>\n",
       "      <th>...</th>\n",
       "      <td>...</td>\n",
       "      <td>...</td>\n",
       "      <td>...</td>\n",
       "      <td>...</td>\n",
       "      <td>...</td>\n",
       "      <td>...</td>\n",
       "    </tr>\n",
       "    <tr>\n",
       "      <th>14975</th>\n",
       "      <td>dc0935a84</td>\n",
       "      <td>0.00818448</td>\n",
       "      <td>0.67607671</td>\n",
       "      <td>0.29578659</td>\n",
       "      <td>0.01762347</td>\n",
       "      <td>0.00232873</td>\n",
       "    </tr>\n",
       "    <tr>\n",
       "      <th>14976</th>\n",
       "      <td>a01ab5b30</td>\n",
       "      <td>0.00261964</td>\n",
       "      <td>0.03075699</td>\n",
       "      <td>0.13270104</td>\n",
       "      <td>0.23656160</td>\n",
       "      <td>0.59736073</td>\n",
       "    </tr>\n",
       "    <tr>\n",
       "      <th>14977</th>\n",
       "      <td>d981b6395</td>\n",
       "      <td>0.00106464</td>\n",
       "      <td>0.00335503</td>\n",
       "      <td>0.13507260</td>\n",
       "      <td>0.74570012</td>\n",
       "      <td>0.11480758</td>\n",
       "    </tr>\n",
       "    <tr>\n",
       "      <th>14978</th>\n",
       "      <td>e4da1c9e4</td>\n",
       "      <td>0.00143031</td>\n",
       "      <td>0.00105063</td>\n",
       "      <td>0.00398096</td>\n",
       "      <td>0.00495054</td>\n",
       "      <td>0.98858750</td>\n",
       "    </tr>\n",
       "    <tr>\n",
       "      <th>14979</th>\n",
       "      <td>a83d95ead</td>\n",
       "      <td>0.00237941</td>\n",
       "      <td>0.00333614</td>\n",
       "      <td>0.08341943</td>\n",
       "      <td>0.90056396</td>\n",
       "      <td>0.01030103</td>\n",
       "    </tr>\n",
       "  </tbody>\n",
       "</table>\n",
       "<p>14980 rows × 6 columns</p>\n",
       "</div>"
      ],
      "text/plain": [
       "              ID           0           1           2           3           4\n",
       "0      86e1089a3  0.00075255  0.15268189  0.80045265  0.04555201  0.00056093\n",
       "1      6296e909a  0.02892482  0.31997138  0.54787356  0.09699186  0.00623844\n",
       "2      3422e4906  0.00089478  0.00274030  0.12768795  0.86501288  0.00366400\n",
       "3      5842f1ff5  0.00050428  0.06155059  0.84609097  0.09076333  0.00109088\n",
       "4      850a43f90  0.00148470  0.01733202  0.69236803  0.28250989  0.00630536\n",
       "...          ...         ...         ...         ...         ...         ...\n",
       "14975  dc0935a84  0.00818448  0.67607671  0.29578659  0.01762347  0.00232873\n",
       "14976  a01ab5b30  0.00261964  0.03075699  0.13270104  0.23656160  0.59736073\n",
       "14977  d981b6395  0.00106464  0.00335503  0.13507260  0.74570012  0.11480758\n",
       "14978  e4da1c9e4  0.00143031  0.00105063  0.00398096  0.00495054  0.98858750\n",
       "14979  a83d95ead  0.00237941  0.00333614  0.08341943  0.90056396  0.01030103\n",
       "\n",
       "[14980 rows x 6 columns]"
      ]
     },
     "execution_count": 527,
     "metadata": {},
     "output_type": "execute_result"
    }
   ],
   "source": [
    "text_prob = text[['ID','Probabilities']]\n",
    "proba_text = text_prob['Probabilities'].str.split(' ', expand=True)\n",
    "proba_text[0] = proba_text[0].str.replace('[', '')\n",
    "proba_text[4] = proba_text[4].str.replace(']', '')\n",
    "text_proba = pd.merge(text_prob, proba_text, left_index=True, right_index=True).drop(columns=['Probabilities'])\n",
    "text_proba"
   ]
  },
  {
   "cell_type": "code",
   "execution_count": 528,
   "id": "1fd62d63-f0cf-4ea0-b9d5-c6ff2132c7d4",
   "metadata": {},
   "outputs": [],
   "source": [
    "_1,ids,_2,_3 = train_test_split(df, y, stratify=y, test_size=0.2, random_state=7)\n",
    "ids = ids['PetID']"
   ]
  },
  {
   "cell_type": "code",
   "execution_count": 529,
   "id": "ee90004f-637d-44ad-bc12-a148a4ba61b2",
   "metadata": {},
   "outputs": [],
   "source": [
    "ids_ensemble_aux = pd.merge(ids, text_proba, left_on='PetID', right_on='ID', how='left')\n",
    "ids_ensemble_aux = ids_ensemble_aux.fillna(0)\n",
    "ids_ensemble_aux_sum = ids_ensemble_aux.drop(columns=['PetID','ID']).values"
   ]
  },
  {
   "cell_type": "code",
   "execution_count": 530,
   "id": "18d9396c-c9fd-4db8-a4dc-f06ef52f1f70",
   "metadata": {},
   "outputs": [
    {
     "data": {
      "text/plain": [
       "2999"
      ]
     },
     "execution_count": 530,
     "metadata": {},
     "output_type": "execute_result"
    }
   ],
   "source": [
    "len(ids_ensemble_aux_sum)"
   ]
  },
  {
   "cell_type": "code",
   "execution_count": 531,
   "id": "64c27da5-f90c-411c-b7c9-76de6f260f66",
   "metadata": {},
   "outputs": [
    {
     "data": {
      "text/html": [
       "<div>\n",
       "<style scoped>\n",
       "    .dataframe tbody tr th:only-of-type {\n",
       "        vertical-align: middle;\n",
       "    }\n",
       "\n",
       "    .dataframe tbody tr th {\n",
       "        vertical-align: top;\n",
       "    }\n",
       "\n",
       "    .dataframe thead th {\n",
       "        text-align: right;\n",
       "    }\n",
       "</style>\n",
       "<table border=\"1\" class=\"dataframe\">\n",
       "  <thead>\n",
       "    <tr style=\"text-align: right;\">\n",
       "      <th></th>\n",
       "      <th>PetID</th>\n",
       "      <th>ID</th>\n",
       "      <th>0</th>\n",
       "      <th>1</th>\n",
       "      <th>2</th>\n",
       "      <th>3</th>\n",
       "      <th>4</th>\n",
       "      <th>prob_class_0</th>\n",
       "      <th>prob_class_1</th>\n",
       "      <th>prob_class_2</th>\n",
       "      <th>prob_class_3</th>\n",
       "      <th>prob_class_4</th>\n",
       "    </tr>\n",
       "  </thead>\n",
       "  <tbody>\n",
       "    <tr>\n",
       "      <th>0</th>\n",
       "      <td>cf78e66fd</td>\n",
       "      <td>cf78e66fd</td>\n",
       "      <td>0.00098114</td>\n",
       "      <td>0.03140692</td>\n",
       "      <td>0.69946831</td>\n",
       "      <td>0.26659068</td>\n",
       "      <td>0.00155298</td>\n",
       "      <td>-1.467817</td>\n",
       "      <td>1.738951</td>\n",
       "      <td>0.965889</td>\n",
       "      <td>0.190470</td>\n",
       "      <td>-1.377797</td>\n",
       "    </tr>\n",
       "    <tr>\n",
       "      <th>1</th>\n",
       "      <td>5de1d0c34</td>\n",
       "      <td>5de1d0c34</td>\n",
       "      <td>0.00274695</td>\n",
       "      <td>0.00269661</td>\n",
       "      <td>0.03190725</td>\n",
       "      <td>0.02141715</td>\n",
       "      <td>0.94123203</td>\n",
       "      <td>-2.546853</td>\n",
       "      <td>-0.141721</td>\n",
       "      <td>0.247514</td>\n",
       "      <td>0.282480</td>\n",
       "      <td>2.148874</td>\n",
       "    </tr>\n",
       "    <tr>\n",
       "      <th>2</th>\n",
       "      <td>43e4cb788</td>\n",
       "      <td>43e4cb788</td>\n",
       "      <td>0.01521666</td>\n",
       "      <td>0.82707489</td>\n",
       "      <td>0.09218681</td>\n",
       "      <td>0.04710428</td>\n",
       "      <td>0.01841737</td>\n",
       "      <td>-1.025800</td>\n",
       "      <td>0.385830</td>\n",
       "      <td>-0.194456</td>\n",
       "      <td>-0.471743</td>\n",
       "      <td>1.251837</td>\n",
       "    </tr>\n",
       "    <tr>\n",
       "      <th>3</th>\n",
       "      <td>feec7a438</td>\n",
       "      <td>feec7a438</td>\n",
       "      <td>0.00154261</td>\n",
       "      <td>0.00175889</td>\n",
       "      <td>0.00110020</td>\n",
       "      <td>0.00156655</td>\n",
       "      <td>0.99403173</td>\n",
       "      <td>-2.425889</td>\n",
       "      <td>-0.880943</td>\n",
       "      <td>0.483216</td>\n",
       "      <td>0.542247</td>\n",
       "      <td>2.417926</td>\n",
       "    </tr>\n",
       "    <tr>\n",
       "      <th>4</th>\n",
       "      <td>95855babf</td>\n",
       "      <td>95855babf</td>\n",
       "      <td>0.00041192</td>\n",
       "      <td>0.02822931</td>\n",
       "      <td>0.23739995</td>\n",
       "      <td>0.73264903</td>\n",
       "      <td>0.00130975</td>\n",
       "      <td>-1.878236</td>\n",
       "      <td>0.202715</td>\n",
       "      <td>0.447229</td>\n",
       "      <td>0.176778</td>\n",
       "      <td>1.032748</td>\n",
       "    </tr>\n",
       "    <tr>\n",
       "      <th>...</th>\n",
       "      <td>...</td>\n",
       "      <td>...</td>\n",
       "      <td>...</td>\n",
       "      <td>...</td>\n",
       "      <td>...</td>\n",
       "      <td>...</td>\n",
       "      <td>...</td>\n",
       "      <td>...</td>\n",
       "      <td>...</td>\n",
       "      <td>...</td>\n",
       "      <td>...</td>\n",
       "      <td>...</td>\n",
       "    </tr>\n",
       "    <tr>\n",
       "      <th>594</th>\n",
       "      <td>af8138fea</td>\n",
       "      <td>af8138fea</td>\n",
       "      <td>0.00159788</td>\n",
       "      <td>0.00190135</td>\n",
       "      <td>0.00363870</td>\n",
       "      <td>0.00970647</td>\n",
       "      <td>0.98315549</td>\n",
       "      <td>-3.089685</td>\n",
       "      <td>-0.041475</td>\n",
       "      <td>-0.301495</td>\n",
       "      <td>0.114695</td>\n",
       "      <td>3.036229</td>\n",
       "    </tr>\n",
       "    <tr>\n",
       "      <th>595</th>\n",
       "      <td>edcc13ccb</td>\n",
       "      <td>edcc13ccb</td>\n",
       "      <td>0.00236725</td>\n",
       "      <td>0.84133399</td>\n",
       "      <td>0.07660707</td>\n",
       "      <td>0.06778520</td>\n",
       "      <td>0.01190652</td>\n",
       "      <td>-1.433197</td>\n",
       "      <td>0.141028</td>\n",
       "      <td>0.838616</td>\n",
       "      <td>0.807360</td>\n",
       "      <td>-0.285771</td>\n",
       "    </tr>\n",
       "    <tr>\n",
       "      <th>596</th>\n",
       "      <td>5ada2f8b6</td>\n",
       "      <td>5ada2f8b6</td>\n",
       "      <td>0.01152135</td>\n",
       "      <td>0.53567052</td>\n",
       "      <td>0.43494299</td>\n",
       "      <td>0.01606540</td>\n",
       "      <td>0.00179972</td>\n",
       "      <td>-1.491605</td>\n",
       "      <td>1.056869</td>\n",
       "      <td>1.096664</td>\n",
       "      <td>0.170903</td>\n",
       "      <td>-0.929501</td>\n",
       "    </tr>\n",
       "    <tr>\n",
       "      <th>597</th>\n",
       "      <td>162c1d98a</td>\n",
       "      <td>162c1d98a</td>\n",
       "      <td>0.00483711</td>\n",
       "      <td>0.16835481</td>\n",
       "      <td>0.73992068</td>\n",
       "      <td>0.08577160</td>\n",
       "      <td>0.00111579</td>\n",
       "      <td>-0.929815</td>\n",
       "      <td>0.085813</td>\n",
       "      <td>0.725370</td>\n",
       "      <td>0.231037</td>\n",
       "      <td>-0.416319</td>\n",
       "    </tr>\n",
       "    <tr>\n",
       "      <th>598</th>\n",
       "      <td>a9bfec3ba</td>\n",
       "      <td>a9bfec3ba</td>\n",
       "      <td>0.02655957</td>\n",
       "      <td>0.80220807</td>\n",
       "      <td>0.14889178</td>\n",
       "      <td>0.01586577</td>\n",
       "      <td>0.00647473</td>\n",
       "      <td>-1.661875</td>\n",
       "      <td>-0.096714</td>\n",
       "      <td>0.129188</td>\n",
       "      <td>0.492871</td>\n",
       "      <td>0.908015</td>\n",
       "    </tr>\n",
       "  </tbody>\n",
       "</table>\n",
       "<p>599 rows × 12 columns</p>\n",
       "</div>"
      ],
      "text/plain": [
       "         PetID         ID           0           1           2           3  \\\n",
       "0    cf78e66fd  cf78e66fd  0.00098114  0.03140692  0.69946831  0.26659068   \n",
       "1    5de1d0c34  5de1d0c34  0.00274695  0.00269661  0.03190725  0.02141715   \n",
       "2    43e4cb788  43e4cb788  0.01521666  0.82707489  0.09218681  0.04710428   \n",
       "3    feec7a438  feec7a438  0.00154261  0.00175889  0.00110020  0.00156655   \n",
       "4    95855babf  95855babf  0.00041192  0.02822931  0.23739995  0.73264903   \n",
       "..         ...        ...         ...         ...         ...         ...   \n",
       "594  af8138fea  af8138fea  0.00159788  0.00190135  0.00363870  0.00970647   \n",
       "595  edcc13ccb  edcc13ccb  0.00236725  0.84133399  0.07660707  0.06778520   \n",
       "596  5ada2f8b6  5ada2f8b6  0.01152135  0.53567052  0.43494299  0.01606540   \n",
       "597  162c1d98a  162c1d98a  0.00483711  0.16835481  0.73992068  0.08577160   \n",
       "598  a9bfec3ba  a9bfec3ba  0.02655957  0.80220807  0.14889178  0.01586577   \n",
       "\n",
       "              4  prob_class_0  prob_class_1  prob_class_2  prob_class_3  \\\n",
       "0    0.00155298     -1.467817      1.738951      0.965889      0.190470   \n",
       "1    0.94123203     -2.546853     -0.141721      0.247514      0.282480   \n",
       "2    0.01841737     -1.025800      0.385830     -0.194456     -0.471743   \n",
       "3    0.99403173     -2.425889     -0.880943      0.483216      0.542247   \n",
       "4    0.00130975     -1.878236      0.202715      0.447229      0.176778   \n",
       "..          ...           ...           ...           ...           ...   \n",
       "594  0.98315549     -3.089685     -0.041475     -0.301495      0.114695   \n",
       "595  0.01190652     -1.433197      0.141028      0.838616      0.807360   \n",
       "596  0.00179972     -1.491605      1.056869      1.096664      0.170903   \n",
       "597  0.00111579     -0.929815      0.085813      0.725370      0.231037   \n",
       "598  0.00647473     -1.661875     -0.096714      0.129188      0.492871   \n",
       "\n",
       "     prob_class_4  \n",
       "0       -1.377797  \n",
       "1        2.148874  \n",
       "2        1.251837  \n",
       "3        2.417926  \n",
       "4        1.032748  \n",
       "..            ...  \n",
       "594      3.036229  \n",
       "595     -0.285771  \n",
       "596     -0.929501  \n",
       "597     -0.416319  \n",
       "598      0.908015  \n",
       "\n",
       "[599 rows x 12 columns]"
      ]
     },
     "execution_count": 531,
     "metadata": {},
     "output_type": "execute_result"
    }
   ],
   "source": [
    "ids_ensemble_img_aux = pd.merge(ids_ensemble_aux, prob_resnet, left_on='PetID', right_on='PetID', how='inner')\n",
    "ids_ensemble_img_aux"
   ]
  },
  {
   "cell_type": "code",
   "execution_count": 532,
   "id": "d40d746f-637c-4de4-be65-cb7dae7505c4",
   "metadata": {},
   "outputs": [],
   "source": [
    "ids_finales = ids_ensemble_img_aux['PetID'].unique()"
   ]
  },
  {
   "cell_type": "code",
   "execution_count": 533,
   "id": "be3179c7-daa5-4a12-8dbb-c8eb7dfd4037",
   "metadata": {},
   "outputs": [
    {
     "data": {
      "text/plain": [
       "array([['0.00098114', '0.03140692', '0.69946831', '0.26659068',\n",
       "        '0.00155298'],\n",
       "       ['0.00274695', '0.00269661', '0.03190725', '0.02141715',\n",
       "        '0.94123203'],\n",
       "       ['0.01521666', '0.82707489', '0.09218681', '0.04710428',\n",
       "        '0.01841737'],\n",
       "       ...,\n",
       "       ['0.01152135', '0.53567052', '0.43494299', '0.01606540',\n",
       "        '0.00179972'],\n",
       "       ['0.00483711', '0.16835481', '0.73992068', '0.08577160',\n",
       "        '0.00111579'],\n",
       "       ['0.02655957', '0.80220807', '0.14889178', '0.01586577',\n",
       "        '0.00647473']], dtype=object)"
      ]
     },
     "execution_count": 533,
     "metadata": {},
     "output_type": "execute_result"
    }
   ],
   "source": [
    "text_ensemble_proba_arr = ids_ensemble_img_aux[[0,1,2,3,4]].values\n",
    "text_ensemble_proba_arr"
   ]
  },
  {
   "cell_type": "code",
   "execution_count": 534,
   "id": "57002b53-f7f7-439a-8caa-f0676963f3fd",
   "metadata": {},
   "outputs": [
    {
     "data": {
      "text/plain": [
       "array([[-1.4678171 ,  1.7389505 ,  0.9658895 ,  0.1904704 , -1.3777965 ],\n",
       "       [-2.5468533 , -0.1417214 ,  0.24751389,  0.2824798 ,  2.1488738 ],\n",
       "       [-1.0257998 ,  0.38582987, -0.19445631, -0.47174302,  1.2518374 ],\n",
       "       ...,\n",
       "       [-1.4916052 ,  1.0568687 ,  1.0966635 ,  0.17090292, -0.9295012 ],\n",
       "       [-0.92981493,  0.08581277,  0.72536993,  0.23103733, -0.41631928],\n",
       "       [-1.6618752 , -0.09671431,  0.12918828,  0.4928713 ,  0.90801454]])"
      ]
     },
     "execution_count": 534,
     "metadata": {},
     "output_type": "execute_result"
    }
   ],
   "source": [
    "img_ensemble_proba_arr = ids_ensemble_img_aux[['prob_class_0',\t'prob_class_1',\t'prob_class_2',\t'prob_class_3', 'prob_class_4']].values\n",
    "img_ensemble_proba_arr"
   ]
  },
  {
   "cell_type": "code",
   "execution_count": 535,
   "id": "97b7c5b5-b980-4c90-b10e-ce06267479a0",
   "metadata": {},
   "outputs": [
    {
     "data": {
      "text/plain": [
       "2999"
      ]
     },
     "execution_count": 535,
     "metadata": {},
     "output_type": "execute_result"
    }
   ],
   "source": [
    "ids.size"
   ]
  },
  {
   "cell_type": "code",
   "execution_count": 536,
   "id": "43049ff4-4d2c-427e-a87a-174a6284ffed",
   "metadata": {},
   "outputs": [
    {
     "data": {
      "text/html": [
       "<div>\n",
       "<style scoped>\n",
       "    .dataframe tbody tr th:only-of-type {\n",
       "        vertical-align: middle;\n",
       "    }\n",
       "\n",
       "    .dataframe tbody tr th {\n",
       "        vertical-align: top;\n",
       "    }\n",
       "\n",
       "    .dataframe thead th {\n",
       "        text-align: right;\n",
       "    }\n",
       "</style>\n",
       "<table border=\"1\" class=\"dataframe\">\n",
       "  <thead>\n",
       "    <tr style=\"text-align: right;\">\n",
       "      <th></th>\n",
       "      <th>0</th>\n",
       "      <th>1</th>\n",
       "      <th>2</th>\n",
       "      <th>3</th>\n",
       "      <th>4</th>\n",
       "    </tr>\n",
       "  </thead>\n",
       "  <tbody>\n",
       "    <tr>\n",
       "      <th>0</th>\n",
       "      <td>0.014016</td>\n",
       "      <td>0.155579</td>\n",
       "      <td>0.534144</td>\n",
       "      <td>0.224232</td>\n",
       "      <td>0.072029</td>\n",
       "    </tr>\n",
       "    <tr>\n",
       "      <th>1</th>\n",
       "      <td>0.018045</td>\n",
       "      <td>0.166274</td>\n",
       "      <td>0.347164</td>\n",
       "      <td>0.366142</td>\n",
       "      <td>0.102375</td>\n",
       "    </tr>\n",
       "    <tr>\n",
       "      <th>2</th>\n",
       "      <td>0.017478</td>\n",
       "      <td>0.176646</td>\n",
       "      <td>0.493676</td>\n",
       "      <td>0.237252</td>\n",
       "      <td>0.074947</td>\n",
       "    </tr>\n",
       "    <tr>\n",
       "      <th>3</th>\n",
       "      <td>0.053205</td>\n",
       "      <td>0.429961</td>\n",
       "      <td>0.246157</td>\n",
       "      <td>0.154588</td>\n",
       "      <td>0.116088</td>\n",
       "    </tr>\n",
       "    <tr>\n",
       "      <th>4</th>\n",
       "      <td>0.001452</td>\n",
       "      <td>0.068796</td>\n",
       "      <td>0.061175</td>\n",
       "      <td>0.070586</td>\n",
       "      <td>0.797991</td>\n",
       "    </tr>\n",
       "    <tr>\n",
       "      <th>...</th>\n",
       "      <td>...</td>\n",
       "      <td>...</td>\n",
       "      <td>...</td>\n",
       "      <td>...</td>\n",
       "      <td>...</td>\n",
       "    </tr>\n",
       "    <tr>\n",
       "      <th>2994</th>\n",
       "      <td>0.015678</td>\n",
       "      <td>0.154492</td>\n",
       "      <td>0.340266</td>\n",
       "      <td>0.396688</td>\n",
       "      <td>0.092877</td>\n",
       "    </tr>\n",
       "    <tr>\n",
       "      <th>2995</th>\n",
       "      <td>0.071573</td>\n",
       "      <td>0.253203</td>\n",
       "      <td>0.213071</td>\n",
       "      <td>0.232490</td>\n",
       "      <td>0.229663</td>\n",
       "    </tr>\n",
       "    <tr>\n",
       "      <th>2996</th>\n",
       "      <td>0.005161</td>\n",
       "      <td>0.117384</td>\n",
       "      <td>0.526175</td>\n",
       "      <td>0.326230</td>\n",
       "      <td>0.025051</td>\n",
       "    </tr>\n",
       "    <tr>\n",
       "      <th>2997</th>\n",
       "      <td>0.006405</td>\n",
       "      <td>0.043898</td>\n",
       "      <td>0.050248</td>\n",
       "      <td>0.038568</td>\n",
       "      <td>0.860881</td>\n",
       "    </tr>\n",
       "    <tr>\n",
       "      <th>2998</th>\n",
       "      <td>0.061808</td>\n",
       "      <td>0.622361</td>\n",
       "      <td>0.163476</td>\n",
       "      <td>0.106900</td>\n",
       "      <td>0.045455</td>\n",
       "    </tr>\n",
       "  </tbody>\n",
       "</table>\n",
       "<p>2999 rows × 5 columns</p>\n",
       "</div>"
      ],
      "text/plain": [
       "             0         1         2         3         4\n",
       "0     0.014016  0.155579  0.534144  0.224232  0.072029\n",
       "1     0.018045  0.166274  0.347164  0.366142  0.102375\n",
       "2     0.017478  0.176646  0.493676  0.237252  0.074947\n",
       "3     0.053205  0.429961  0.246157  0.154588  0.116088\n",
       "4     0.001452  0.068796  0.061175  0.070586  0.797991\n",
       "...        ...       ...       ...       ...       ...\n",
       "2994  0.015678  0.154492  0.340266  0.396688  0.092877\n",
       "2995  0.071573  0.253203  0.213071  0.232490  0.229663\n",
       "2996  0.005161  0.117384  0.526175  0.326230  0.025051\n",
       "2997  0.006405  0.043898  0.050248  0.038568  0.860881\n",
       "2998  0.061808  0.622361  0.163476  0.106900  0.045455\n",
       "\n",
       "[2999 rows x 5 columns]"
      ]
     },
     "execution_count": 536,
     "metadata": {},
     "output_type": "execute_result"
    }
   ],
   "source": [
    "pd.DataFrame(proba_rf).sort_index()"
   ]
  },
  {
   "cell_type": "code",
   "execution_count": 537,
   "id": "0a4acf2b-1bf0-4ee0-9f41-b0724a591580",
   "metadata": {},
   "outputs": [],
   "source": [
    "ids = ids.reset_index(drop=True)"
   ]
  },
  {
   "cell_type": "code",
   "execution_count": 538,
   "id": "777f8afe-94bb-407d-80a8-821355c7a36d",
   "metadata": {},
   "outputs": [],
   "source": [
    "ids_proba_rf = pd.DataFrame(proba_rf).merge(ids, left_index=True, right_index=True, how='inner')\n",
    "ids_proba_rf_sum = ids_proba_rf.drop(columns=['PetID']).values"
   ]
  },
  {
   "cell_type": "code",
   "execution_count": 539,
   "id": "9e668a39-1c88-4f92-827f-3e2429674bcd",
   "metadata": {},
   "outputs": [],
   "source": [
    "ids_proba_xgb = pd.DataFrame(proba_xgb).merge(ids, left_index=True, right_index=True, how='inner')\n",
    "ids_proba_xgb_sum = ids_proba_xgb.drop(columns=['PetID']).values"
   ]
  },
  {
   "cell_type": "code",
   "execution_count": 540,
   "id": "c6632bbc-9a1e-4659-a8c5-b8c1e6baf7ac",
   "metadata": {},
   "outputs": [],
   "source": [
    "ids_proba_lgb = pd.DataFrame(proba_lgb).merge(ids, left_index=True, right_index=True, how='inner')\n",
    "ids_proba_lgb_sum = ids_proba_lgb.drop(columns=['PetID']).values"
   ]
  },
  {
   "cell_type": "code",
   "execution_count": 541,
   "id": "e51ddc8e-2da2-4312-932f-98e68e47009a",
   "metadata": {},
   "outputs": [],
   "source": [
    "ids_ensemble_aux_sum = ids_ensemble_aux_sum.astype('float')"
   ]
  },
  {
   "cell_type": "code",
   "execution_count": 542,
   "id": "0b5159dc-9f18-430f-b65b-5526424f51c0",
   "metadata": {},
   "outputs": [
    {
     "name": "stdout",
     "output_type": "stream",
     "text": [
      "Cohen's Kappa del Ensemble: 0.5674\n"
     ]
    }
   ],
   "source": [
    "ensemble_probas_con_texto = (ids_proba_rf_sum + ids_proba_xgb_sum + ids_proba_lgb_sum + ids_ensemble_aux_sum) / 4\n",
    "ensemble_preds_con_texto = np.argmax(ensemble_probas_con_texto, axis=1)\n",
    "final_kappa_ensemble_con_texto = cohen_kappa_score(y_val, ensemble_preds_con_texto)\n",
    "print(f\"Cohen's Kappa del Ensemble: {final_kappa_ensemble_con_texto:.4f}\")"
   ]
  },
  {
   "cell_type": "markdown",
   "id": "265e5558-99c0-455a-aad5-fee5f7c1ce84",
   "metadata": {},
   "source": [
    "## Modelo sin predicción de imágenes y texto"
   ]
  },
  {
   "cell_type": "code",
   "execution_count": 543,
   "id": "329b1328-6d19-4d36-bd6a-0048bf980347",
   "metadata": {},
   "outputs": [
    {
     "data": {
      "text/plain": [
       "Index(['Type', 'Age', 'Breed1', 'Breed2', 'Gender', 'Color1', 'Color2',\n",
       "       'Color3', 'MaturitySize', 'FurLength', 'Vaccinated', 'Dewormed',\n",
       "       'Sterilized', 'Health', 'Quantity', 'Fee', 'State', 'VideoAmt',\n",
       "       'PhotoAmt', 'HasName', 'MixedRace', 'Free', 'HasDescription',\n",
       "       'HasPhoto', 'MultiColor', 'Black', 'AgeYear', 'Vaccinated_Bin',\n",
       "       'Dewormed_Bin', 'Sterilized_Bin', 'HealthScore', 'Sentiment_Negativo',\n",
       "       'Sentiment_Neutro', 'Sentiment_Positivo', 'Sentiment_Negativo.1',\n",
       "       'Sentiment_Neutro.1', 'Sentiment_Positivo.1', 'RescuerGroup',\n",
       "       'resnet_pred', 'Prediction'],\n",
       "      dtype='object')"
      ]
     },
     "execution_count": 543,
     "metadata": {},
     "output_type": "execute_result"
    }
   ],
   "source": [
    "X.columns"
   ]
  },
  {
   "cell_type": "code",
   "execution_count": 544,
   "id": "ef82ec91-f022-4d26-bd57-888e62c0fb03",
   "metadata": {},
   "outputs": [],
   "source": [
    "X = X.drop(columns=['resnet_pred', 'Prediction'])\n",
    "X_train, X_val, y_train, y_val = train_test_split(X, y, stratify=y, test_size=0.2, random_state=7)"
   ]
  },
  {
   "cell_type": "code",
   "execution_count": 545,
   "id": "cc2a9684-4cea-4a95-b33b-cffbd7707f81",
   "metadata": {},
   "outputs": [],
   "source": [
    "scaler = StandardScaler()\n",
    "X_train_scaled = scaler.fit_transform(X_train)\n",
    "X_val_scaled = scaler.transform(X_val)"
   ]
  },
  {
   "cell_type": "code",
   "execution_count": 546,
   "id": "15f552b2-dbda-4163-881b-ace9bd648d72",
   "metadata": {},
   "outputs": [
    {
     "name": "stderr",
     "output_type": "stream",
     "text": [
      "[I 2025-05-08 17:42:56,775] Using an existing study with name 'rf_base' instead of creating a new one.\n",
      "[I 2025-05-08 17:42:56,984] Trial 5 finished with value: 0.2109674170193463 and parameters: {'n_estimators': 78, 'max_depth': 8, 'min_samples_split': 2}. Best is trial 2 with value: 0.2143697722594018.\n",
      "[I 2025-05-08 17:42:57,139] Trial 6 finished with value: 0.20748177187187256 and parameters: {'n_estimators': 57, 'max_depth': 8, 'min_samples_split': 5}. Best is trial 2 with value: 0.2143697722594018.\n",
      "[I 2025-05-08 17:42:57,295] Trial 7 finished with value: 0.13080710771853277 and parameters: {'n_estimators': 71, 'max_depth': 3, 'min_samples_split': 4}. Best is trial 2 with value: 0.2143697722594018.\n",
      "[I 2025-05-08 17:42:57,528] Trial 8 finished with value: 0.21300900937730327 and parameters: {'n_estimators': 96, 'max_depth': 9, 'min_samples_split': 7}. Best is trial 2 with value: 0.2143697722594018.\n",
      "[I 2025-05-08 17:42:57,693] Trial 9 finished with value: 0.19659306689248923 and parameters: {'n_estimators': 71, 'max_depth': 6, 'min_samples_split': 7}. Best is trial 2 with value: 0.2143697722594018.\n"
     ]
    }
   ],
   "source": [
    "def objective_rf_base(trial):\n",
    "    params = {\n",
    "        \"n_estimators\": trial.suggest_int(\"n_estimators\", 50, 100),\n",
    "        \"max_depth\": trial.suggest_int(\"max_depth\", 3, 10),\n",
    "        \"min_samples_split\": trial.suggest_int(\"min_samples_split\", 2, 10),\n",
    "    }\n",
    "    model = RandomForestClassifier(**params, random_state=7, n_jobs=-1)\n",
    "    model.fit(X_train_scaled, y_train)\n",
    "    preds = model.predict(X_val_scaled)\n",
    "    return kappa_metric(y_val, preds)\n",
    "\n",
    "study_rf = optuna.create_study(\n",
    "    direction=\"maximize\",\n",
    "    study_name=\"rf_base\",\n",
    "    storage=storage,\n",
    "    load_if_exists=True\n",
    ")\n",
    "study_rf.optimize(objective_rf_base, n_trials=5)\n",
    "\n",
    "model_rf = RandomForestClassifier(**study_rf.best_params, random_state=7, n_jobs=-1)\n",
    "model_rf.fit(X_train_scaled, y_train)\n",
    "preds_rf_base = model_rf.predict(X_val_scaled)\n"
   ]
  },
  {
   "cell_type": "code",
   "execution_count": 547,
   "id": "74f9e48e-33e3-47b0-92fe-dc744b520d6d",
   "metadata": {},
   "outputs": [
    {
     "name": "stderr",
     "output_type": "stream",
     "text": [
      "[I 2025-05-08 17:42:57,925] Using an existing study with name 'xgb_base' instead of creating a new one.\n",
      "[I 2025-05-08 17:42:58,503] Trial 5 finished with value: 0.21726861735658587 and parameters: {'n_estimators': 86, 'max_depth': 4, 'learning_rate': 0.053714697812177165}. Best is trial 3 with value: 0.23919363961037665.\n",
      "[I 2025-05-08 17:42:59,486] Trial 6 finished with value: 0.22375086761289065 and parameters: {'n_estimators': 66, 'max_depth': 9, 'learning_rate': 0.28231681223885297}. Best is trial 3 with value: 0.23919363961037665.\n",
      "[I 2025-05-08 17:43:00,521] Trial 7 finished with value: 0.23180275199110145 and parameters: {'n_estimators': 93, 'max_depth': 7, 'learning_rate': 0.10077358856580124}. Best is trial 3 with value: 0.23919363961037665.\n",
      "[I 2025-05-08 17:43:01,254] Trial 8 finished with value: 0.22864087723606574 and parameters: {'n_estimators': 75, 'max_depth': 6, 'learning_rate': 0.21631432256904337}. Best is trial 3 with value: 0.23919363961037665.\n",
      "[I 2025-05-08 17:43:01,745] Trial 9 finished with value: 0.22266424688272435 and parameters: {'n_estimators': 91, 'max_depth': 3, 'learning_rate': 0.09728276547980867}. Best is trial 3 with value: 0.23919363961037665.\n",
      "/Users/paul/anaconda3/envs/ldi2/lib/python3.12/site-packages/xgboost/training.py:183: UserWarning: [17:43:01] WARNING: /Users/runner/miniforge3/conda-bld/xgboost-split_1745056743506/work/src/learner.cc:738: \n",
      "Parameters: { \"use_label_encoder\" } are not used.\n",
      "\n",
      "  bst.update(dtrain, iteration=i, fobj=obj)\n"
     ]
    }
   ],
   "source": [
    "def objective_xgb_base(trial):\n",
    "    params = {\n",
    "        \"n_estimators\": trial.suggest_int(\"n_estimators\", 50, 100),\n",
    "        \"max_depth\": trial.suggest_int(\"max_depth\", 3, 10),\n",
    "        \"learning_rate\": trial.suggest_float(\"learning_rate\", 0.01, 0.3),\n",
    "        \"use_label_encoder\": False,\n",
    "        \"eval_metric\": \"mlogloss\"\n",
    "    }\n",
    "    model = XGBClassifier(**params, random_state=7, verbosity=0)\n",
    "    model.fit(X_train_scaled, y_train)\n",
    "    preds = model.predict(X_val_scaled)\n",
    "    return kappa_metric(y_val, preds)\n",
    "\n",
    "study_xgb = optuna.create_study(\n",
    "    direction=\"maximize\",\n",
    "    study_name=\"xgb_base\",\n",
    "    storage=storage,\n",
    "    load_if_exists=True\n",
    ")\n",
    "study_xgb.optimize(objective_xgb_base, n_trials=5)\n",
    "\n",
    "model_xgb = XGBClassifier(**study_xgb.best_params, random_state=7, use_label_encoder=False, eval_metric=\"mlogloss\")\n",
    "model_xgb.fit(X_train_scaled, y_train)\n",
    "preds_xgb_base = model_xgb.predict(X_val_scaled)"
   ]
  },
  {
   "cell_type": "code",
   "execution_count": 548,
   "id": "1fb75ca6-5ded-4955-bec6-c3f9845e7aee",
   "metadata": {},
   "outputs": [
    {
     "name": "stderr",
     "output_type": "stream",
     "text": [
      "[I 2025-05-08 17:43:03,312] Using an existing study with name 'lgb_base' instead of creating a new one.\n",
      "/Users/paul/anaconda3/envs/ldi2/lib/python3.12/site-packages/sklearn/utils/validation.py:2739: UserWarning: X does not have valid feature names, but LGBMClassifier was fitted with feature names\n",
      "  warnings.warn(\n",
      "[I 2025-05-08 17:43:04,358] Trial 5 finished with value: 0.23310633098556732 and parameters: {'n_estimators': 65, 'max_depth': 5, 'learning_rate': 0.28073162711332517}. Best is trial 4 with value: 0.23990595113839797.\n",
      "/Users/paul/anaconda3/envs/ldi2/lib/python3.12/site-packages/sklearn/utils/validation.py:2739: UserWarning: X does not have valid feature names, but LGBMClassifier was fitted with feature names\n",
      "  warnings.warn(\n",
      "[I 2025-05-08 17:43:04,962] Trial 6 finished with value: 0.21663077766802696 and parameters: {'n_estimators': 98, 'max_depth': 3, 'learning_rate': 0.2082999364800157}. Best is trial 4 with value: 0.23990595113839797.\n",
      "/Users/paul/anaconda3/envs/ldi2/lib/python3.12/site-packages/sklearn/utils/validation.py:2739: UserWarning: X does not have valid feature names, but LGBMClassifier was fitted with feature names\n",
      "  warnings.warn(\n",
      "[I 2025-05-08 17:43:06,574] Trial 7 finished with value: 0.23816423020293798 and parameters: {'n_estimators': 78, 'max_depth': 6, 'learning_rate': 0.20573814718259953}. Best is trial 4 with value: 0.23990595113839797.\n",
      "/Users/paul/anaconda3/envs/ldi2/lib/python3.12/site-packages/sklearn/utils/validation.py:2739: UserWarning: X does not have valid feature names, but LGBMClassifier was fitted with feature names\n",
      "  warnings.warn(\n",
      "[I 2025-05-08 17:43:07,627] Trial 8 finished with value: 0.2294378745542418 and parameters: {'n_estimators': 59, 'max_depth': 5, 'learning_rate': 0.08975444655233622}. Best is trial 4 with value: 0.23990595113839797.\n",
      "/Users/paul/anaconda3/envs/ldi2/lib/python3.12/site-packages/sklearn/utils/validation.py:2739: UserWarning: X does not have valid feature names, but LGBMClassifier was fitted with feature names\n",
      "  warnings.warn(\n",
      "[I 2025-05-08 17:43:09,481] Trial 9 finished with value: 0.2282449376406872 and parameters: {'n_estimators': 74, 'max_depth': 9, 'learning_rate': 0.20490630126482098}. Best is trial 4 with value: 0.23990595113839797.\n",
      "/Users/paul/anaconda3/envs/ldi2/lib/python3.12/site-packages/sklearn/utils/validation.py:2739: UserWarning: X does not have valid feature names, but LGBMClassifier was fitted with feature names\n",
      "  warnings.warn(\n"
     ]
    }
   ],
   "source": [
    "def objective_lgb_base(trial):\n",
    "    params = {\n",
    "        \"n_estimators\": trial.suggest_int(\"n_estimators\", 50, 100),\n",
    "        \"max_depth\": trial.suggest_int(\"max_depth\", 3, 10),\n",
    "        \"learning_rate\": trial.suggest_float(\"learning_rate\", 0.01, 0.3),\n",
    "    }\n",
    "    model = LGBMClassifier(**params, random_state=7, verbosity=-1)\n",
    "    model.fit(X_train_scaled, y_train)\n",
    "    preds = model.predict(X_val_scaled)\n",
    "    return kappa_metric(y_val, preds)\n",
    "\n",
    "study_lgb = optuna.create_study(\n",
    "    direction=\"maximize\",\n",
    "    study_name=\"lgb_base\",\n",
    "    storage=storage,\n",
    "    load_if_exists=True\n",
    ")\n",
    "study_lgb.optimize(objective_lgb_base, n_trials=5)\n",
    "\n",
    "model_lgb = LGBMClassifier(**study_lgb.best_params, random_state=7)\n",
    "model_lgb.fit(X_train_scaled, y_train)\n",
    "preds_lgb_base = model_lgb.predict(X_val_scaled)"
   ]
  },
  {
   "cell_type": "code",
   "execution_count": 549,
   "id": "79a1a17d-80f0-40fb-9869-02d9b5751627",
   "metadata": {},
   "outputs": [],
   "source": [
    "all_preds_base = np.vstack([preds_rf_base, preds_xgb_base, preds_lgb_base])\n",
    "ensemble_preds_base = mode(all_preds_base, axis=0).mode"
   ]
  },
  {
   "cell_type": "code",
   "execution_count": 550,
   "id": "6a9594ba-0764-4605-bd1d-7c156d300d67",
   "metadata": {},
   "outputs": [
    {
     "name": "stderr",
     "output_type": "stream",
     "text": [
      "/Users/paul/anaconda3/envs/ldi2/lib/python3.12/site-packages/sklearn/utils/validation.py:2739: UserWarning: X does not have valid feature names, but LGBMClassifier was fitted with feature names\n",
      "  warnings.warn(\n"
     ]
    }
   ],
   "source": [
    "proba_rf_base = model_rf.predict_proba(X_val_scaled)\n",
    "proba_xgb_base = model_xgb.predict_proba(X_val_scaled)\n",
    "proba_lgb_base = model_lgb.predict_proba(X_val_scaled)"
   ]
  },
  {
   "cell_type": "code",
   "execution_count": 551,
   "id": "62273d69-af55-4b4b-adf7-5cd9667f0f15",
   "metadata": {},
   "outputs": [],
   "source": [
    "ensemble_probas = (proba_rf_base + proba_xgb_base + proba_lgb_base) / 3\n",
    "ensemble_preds_base = np.argmax(ensemble_probas, axis=1)"
   ]
  },
  {
   "cell_type": "code",
   "execution_count": 552,
   "id": "362ce4c8-7114-4d2d-b6d0-ababc0a4d2cf",
   "metadata": {},
   "outputs": [
    {
     "data": {
      "text/plain": [
       "array([2, 1, 2, ..., 2, 4, 1])"
      ]
     },
     "execution_count": 552,
     "metadata": {},
     "output_type": "execute_result"
    }
   ],
   "source": [
    "ensemble_preds_base"
   ]
  },
  {
   "cell_type": "code",
   "execution_count": 553,
   "id": "d9f986a2-c2b7-478a-a49e-968b780ce272",
   "metadata": {},
   "outputs": [
    {
     "name": "stdout",
     "output_type": "stream",
     "text": [
      "Cohen's Kappa del Ensemble: 0.2399\n"
     ]
    }
   ],
   "source": [
    "final_kappa_base = cohen_kappa_score(y_val, ensemble_preds_base)\n",
    "print(f\"Cohen's Kappa del Ensemble: {final_kappa_base:.4f}\")"
   ]
  },
  {
   "cell_type": "code",
   "execution_count": 554,
   "id": "7cf9f44a-0894-48d7-8663-61f9f64088cb",
   "metadata": {},
   "outputs": [],
   "source": [
    "ids_proba_rf_base = pd.DataFrame(proba_rf_base).merge(ids, left_index=True, right_index=True, how='inner')\n",
    "ids_proba_rf_sum_base = ids_proba_rf_base.drop(columns=['PetID']).values\n",
    "ids_proba_xgb_base = pd.DataFrame(proba_xgb_base).merge(ids, left_index=True, right_index=True, how='inner')\n",
    "ids_proba_xgb_sum_base = ids_proba_xgb_base.drop(columns=['PetID']).values\n",
    "ids_proba_lgb_base = pd.DataFrame(proba_lgb_base).merge(ids, left_index=True, right_index=True, how='inner')\n",
    "ids_proba_lgb_sum_base = ids_proba_lgb_base.drop(columns=['PetID']).values\n",
    "ids_ensemble_aux_sum_base = ids_ensemble_aux_sum.astype('float')"
   ]
  },
  {
   "cell_type": "code",
   "execution_count": 555,
   "id": "da8e1ca9-3157-421a-9b3f-8d4b13efc891",
   "metadata": {},
   "outputs": [],
   "source": [
    "ensemble_probas_con_texto = (ids_proba_rf_sum_base + ids_proba_xgb_sum_base + ids_proba_lgb_sum_base + ids_ensemble_aux_sum_base) / 4\n",
    "ensemble_preds_base_con_texto = np.argmax(ensemble_probas_con_texto, axis=1)"
   ]
  },
  {
   "cell_type": "code",
   "execution_count": 556,
   "id": "0fca757c-b853-49b1-8ea6-33677410110a",
   "metadata": {},
   "outputs": [
    {
     "name": "stdout",
     "output_type": "stream",
     "text": [
      "Cohen's Kappa del Ensemble: 0.4995\n"
     ]
    }
   ],
   "source": [
    "final_kappa_base_con_texto = cohen_kappa_score(y_val, ensemble_preds_base_con_texto)\n",
    "print(f\"Cohen's Kappa del Ensemble: {final_kappa_base_con_texto:.4f}\")"
   ]
  },
  {
   "cell_type": "code",
   "execution_count": null,
   "id": "c77bfa94-78f2-4616-af7e-b7dc2fe48f34",
   "metadata": {},
   "outputs": [],
   "source": []
  }
 ],
 "metadata": {
  "kernelspec": {
   "display_name": "Python [conda env:ldi2] *",
   "language": "python",
   "name": "conda-env-ldi2-py"
  },
  "language_info": {
   "codemirror_mode": {
    "name": "ipython",
    "version": 3
   },
   "file_extension": ".py",
   "mimetype": "text/x-python",
   "name": "python",
   "nbconvert_exporter": "python",
   "pygments_lexer": "ipython3",
   "version": "3.12.9"
  }
 },
 "nbformat": 4,
 "nbformat_minor": 5
}
